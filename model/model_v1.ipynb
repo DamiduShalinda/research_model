{
 "cells": [
  {
   "cell_type": "code",
   "execution_count": 11,
   "metadata": {},
   "outputs": [
    {
     "name": "stdout",
     "output_type": "stream",
     "text": [
      "Requirement already satisfied: chardet in .\\.venv\\lib\\site-packages (5.2.0)\n",
      "Note: you may need to restart the kernel to use updated packages.\n"
     ]
    },
    {
     "name": "stderr",
     "output_type": "stream",
     "text": [
      "\n",
      "[notice] A new release of pip is available: 24.2 -> 24.3.1\n",
      "[notice] To update, run: python.exe -m pip install --upgrade pip\n"
     ]
    }
   ],
   "source": [
    "%pip install chardet"
   ]
  },
  {
   "cell_type": "code",
   "execution_count": 12,
   "metadata": {},
   "outputs": [],
   "source": [
    "import pandas as pd\n",
    "import torch\n",
    "from transformers import BertTokenizer, BertForSequenceClassification, Trainer, TrainingArguments\n",
    "from sklearn.model_selection import train_test_split\n",
    "from sklearn.metrics import mean_squared_error\n",
    "from torch.utils.data import Dataset"
   ]
  },
  {
   "cell_type": "code",
   "execution_count": 13,
   "metadata": {},
   "outputs": [],
   "source": [
    "# Load dataset with detected encoding\n",
    "df = pd.read_csv('all-data-engineering-quiz-utf.csv')"
   ]
  },
  {
   "cell_type": "code",
   "execution_count": 14,
   "metadata": {},
   "outputs": [],
   "source": [
    "# Combine relevant text fields for input, joining reasoning fields if they are arrays\n",
    "df['input_text'] = (\n",
    "    df['Question'] + \" \" +\n",
    "    df['Student Answer'] + \" \" +\n",
    "    df['Ideal Answer'] + \n",
    "    \" Grammar Reasoning: \" + df['Grammar Reasoning'].apply(lambda x: ' | '.join(eval(x)) if isinstance(x, str) and x.startswith('[') else str(x)) + \n",
    "    \" Structure Reasoning: \" + df['Structure Reasoning'].apply(lambda x: ' | '.join(eval(x)) if isinstance(x, str) and x.startswith('[') else str(x))\n",
    ")\n",
    "\n",
    "# Define target columns\n",
    "df['content_relevancy_score'] = df['Content Relevancy Score'].astype(float)\n",
    "df['grammar_score'] = df['Grammar Score'].astype(float)\n",
    "df['structure_score'] = df['Structure Score'].astype(float)\n",
    "\n",
    "# Scale scores to range from 0 to 1 (optional for normalized regression)\n",
    "df['content_relevancy_score'] /= 3  # Normalize content relevancy score to 0-1\n",
    "df['grammar_score'] /= 5            # Normalize grammar score to 0-1\n",
    "df['structure_score'] /= 5          # Normalize structure score to 0-1\n",
    "\n",
    "# Train-test split\n",
    "train_df, val_df = train_test_split(df, test_size=0.2, random_state=42)\n",
    "\n"
   ]
  },
  {
   "cell_type": "code",
   "execution_count": 15,
   "metadata": {},
   "outputs": [
    {
     "name": "stderr",
     "output_type": "stream",
     "text": [
      "Some weights of BertForSequenceClassification were not initialized from the model checkpoint at bert-base-uncased and are newly initialized: ['classifier.bias', 'classifier.weight']\n",
      "You should probably TRAIN this model on a down-stream task to be able to use it for predictions and inference.\n"
     ]
    }
   ],
   "source": [
    "from transformers import BertConfig\n",
    "\n",
    "# Initialize tokenizer and model\n",
    "tokenizer = BertTokenizer.from_pretrained('bert-base-uncased')\n",
    "config = BertConfig.from_pretrained('bert-base-uncased', hidden_dropout_prob=0.3)\n",
    "model = BertForSequenceClassification.from_pretrained('bert-base-uncased', config=config)"
   ]
  },
  {
   "cell_type": "code",
   "execution_count": 16,
   "metadata": {},
   "outputs": [],
   "source": [
    "# Custom Dataset Class\n",
    "class EssayDataset(Dataset):\n",
    "    def __init__(self, dataframe, tokenizer, max_length):\n",
    "        self.dataframe = dataframe\n",
    "        self.tokenizer = tokenizer\n",
    "        self.max_length = max_length\n",
    "\n",
    "    def __len__(self):\n",
    "        return len(self.dataframe)\n",
    "\n",
    "    def __getitem__(self, idx):\n",
    "        text = self.dataframe.iloc[idx]['input_text']\n",
    "        content_score = self.dataframe.iloc[idx]['content_relevancy_score']\n",
    "        grammar_score = self.dataframe.iloc[idx]['grammar_score']\n",
    "        \n",
    "        # Tokenize input text\n",
    "        inputs = self.tokenizer(\n",
    "            text,\n",
    "            truncation=True,\n",
    "            padding='max_length',\n",
    "            max_length=self.max_length,\n",
    "            return_tensors='pt'\n",
    "        )\n",
    "        \n",
    "        # Combine scores into a single tensor for regression\n",
    "        labels = torch.tensor([content_score, grammar_score], dtype=torch.float)\n",
    "        \n",
    "        return {\n",
    "            'input_ids': inputs['input_ids'].squeeze(),\n",
    "            'attention_mask': inputs['attention_mask'].squeeze(),\n",
    "            'labels': labels\n",
    "        }\n",
    "\n",
    "# Create datasets\n",
    "max_length = 512\n",
    "train_dataset = EssayDataset(train_df, tokenizer, max_length)\n",
    "val_dataset = EssayDataset(val_df, tokenizer, max_length)\n"
   ]
  },
  {
   "cell_type": "code",
   "execution_count": 17,
   "metadata": {},
   "outputs": [
    {
     "name": "stderr",
     "output_type": "stream",
     "text": [
      "d:\\research_models\\handwritten_ocr\\handwritten_ocr\\.venv\\Lib\\site-packages\\transformers\\training_args.py:1559: FutureWarning: `evaluation_strategy` is deprecated and will be removed in version 4.46 of 🤗 Transformers. Use `eval_strategy` instead\n",
      "  warnings.warn(\n",
      "d:\\research_models\\handwritten_ocr\\handwritten_ocr\\.venv\\Lib\\site-packages\\transformers\\optimization.py:591: FutureWarning: This implementation of AdamW is deprecated and will be removed in a future version. Use the PyTorch implementation torch.optim.AdamW instead, or set `no_deprecation_warning=True` to disable this warning\n",
      "  warnings.warn(\n",
      "  2%|▏         | 2/100 [01:08<55:36, 34.05s/it]d:\\research_models\\handwritten_ocr\\handwritten_ocr\\.venv\\Lib\\site-packages\\sklearn\\metrics\\_regression.py:492: FutureWarning: 'squared' is deprecated in version 1.4 and will be removed in 1.6. To calculate the root mean squared error, use the function'root_mean_squared_error'.\n",
      "  warnings.warn(\n",
      "\n",
      "  2%|▏         | 2/100 [01:21<55:36, 34.05s/it]"
     ]
    },
    {
     "name": "stdout",
     "output_type": "stream",
     "text": [
      "{'eval_loss': 0.7782740592956543, 'eval_rmse': 1.0445607900619507, 'eval_runtime': 5.2576, 'eval_samples_per_second': 1.902, 'eval_steps_per_second': 0.38, 'epoch': 0.8}\n"
     ]
    },
    {
     "name": "stderr",
     "output_type": "stream",
     "text": [
      "  5%|▌         | 5/100 [02:40<48:42, 30.76s/it]d:\\research_models\\handwritten_ocr\\handwritten_ocr\\.venv\\Lib\\site-packages\\sklearn\\metrics\\_regression.py:492: FutureWarning: 'squared' is deprecated in version 1.4 and will be removed in 1.6. To calculate the root mean squared error, use the function'root_mean_squared_error'.\n",
      "  warnings.warn(\n",
      "\n",
      "  5%|▌         | 5/100 [02:46<48:42, 30.76s/it]"
     ]
    },
    {
     "name": "stdout",
     "output_type": "stream",
     "text": [
      "{'eval_loss': 0.7293118238449097, 'eval_rmse': 0.896094799041748, 'eval_runtime': 5.7719, 'eval_samples_per_second': 1.733, 'eval_steps_per_second': 0.347, 'epoch': 2.0}\n"
     ]
    },
    {
     "name": "stderr",
     "output_type": "stream",
     "text": [
      "  7%|▋         | 7/100 [03:54<52:28, 33.86s/it]d:\\research_models\\handwritten_ocr\\handwritten_ocr\\.venv\\Lib\\site-packages\\sklearn\\metrics\\_regression.py:492: FutureWarning: 'squared' is deprecated in version 1.4 and will be removed in 1.6. To calculate the root mean squared error, use the function'root_mean_squared_error'.\n",
      "  warnings.warn(\n",
      "\n",
      "  7%|▋         | 7/100 [04:07<52:28, 33.86s/it]"
     ]
    },
    {
     "name": "stdout",
     "output_type": "stream",
     "text": [
      "{'eval_loss': 0.7028959393501282, 'eval_rmse': 0.8080422282218933, 'eval_runtime': 5.4589, 'eval_samples_per_second': 1.832, 'eval_steps_per_second': 0.366, 'epoch': 2.8}\n"
     ]
    },
    {
     "name": "stderr",
     "output_type": "stream",
     "text": [
      " 10%|█         | 10/100 [05:24<46:00, 30.67s/it]"
     ]
    },
    {
     "name": "stdout",
     "output_type": "stream",
     "text": [
      "{'loss': 1.3912, 'grad_norm': 5.091360569000244, 'learning_rate': 4.5e-06, 'epoch': 4.0}\n"
     ]
    },
    {
     "name": "stderr",
     "output_type": "stream",
     "text": [
      "d:\\research_models\\handwritten_ocr\\handwritten_ocr\\.venv\\Lib\\site-packages\\sklearn\\metrics\\_regression.py:492: FutureWarning: 'squared' is deprecated in version 1.4 and will be removed in 1.6. To calculate the root mean squared error, use the function'root_mean_squared_error'.\n",
      "  warnings.warn(\n",
      "\n",
      " 10%|█         | 10/100 [05:30<46:00, 30.67s/it]"
     ]
    },
    {
     "name": "stdout",
     "output_type": "stream",
     "text": [
      "{'eval_loss': 0.6714636087417603, 'eval_rmse': 0.6924247145652771, 'eval_runtime': 5.7646, 'eval_samples_per_second': 1.735, 'eval_steps_per_second': 0.347, 'epoch': 4.0}\n"
     ]
    },
    {
     "name": "stderr",
     "output_type": "stream",
     "text": [
      " 12%|█▏        | 12/100 [06:39<49:24, 33.69s/it]d:\\research_models\\handwritten_ocr\\handwritten_ocr\\.venv\\Lib\\site-packages\\sklearn\\metrics\\_regression.py:492: FutureWarning: 'squared' is deprecated in version 1.4 and will be removed in 1.6. To calculate the root mean squared error, use the function'root_mean_squared_error'.\n",
      "  warnings.warn(\n",
      "\n",
      " 12%|█▏        | 12/100 [06:53<49:24, 33.69s/it]"
     ]
    },
    {
     "name": "stdout",
     "output_type": "stream",
     "text": [
      "{'eval_loss': 0.654833197593689, 'eval_rmse': 0.6280641555786133, 'eval_runtime': 6.1381, 'eval_samples_per_second': 1.629, 'eval_steps_per_second': 0.326, 'epoch': 4.8}\n"
     ]
    },
    {
     "name": "stderr",
     "output_type": "stream",
     "text": [
      " 15%|█▌        | 15/100 [08:33<52:48, 37.28s/it]d:\\research_models\\handwritten_ocr\\handwritten_ocr\\.venv\\Lib\\site-packages\\sklearn\\metrics\\_regression.py:492: FutureWarning: 'squared' is deprecated in version 1.4 and will be removed in 1.6. To calculate the root mean squared error, use the function'root_mean_squared_error'.\n",
      "  warnings.warn(\n",
      "\n",
      " 15%|█▌        | 15/100 [08:46<52:48, 37.28s/it]"
     ]
    },
    {
     "name": "stdout",
     "output_type": "stream",
     "text": [
      "{'eval_loss': 0.6286916136741638, 'eval_rmse': 0.5241686701774597, 'eval_runtime': 12.7961, 'eval_samples_per_second': 0.781, 'eval_steps_per_second': 0.156, 'epoch': 6.0}\n"
     ]
    },
    {
     "name": "stderr",
     "output_type": "stream",
     "text": [
      " 17%|█▋        | 17/100 [10:36<1:05:43, 47.52s/it]d:\\research_models\\handwritten_ocr\\handwritten_ocr\\.venv\\Lib\\site-packages\\sklearn\\metrics\\_regression.py:492: FutureWarning: 'squared' is deprecated in version 1.4 and will be removed in 1.6. To calculate the root mean squared error, use the function'root_mean_squared_error'.\n",
      "  warnings.warn(\n",
      "\n",
      " 17%|█▋        | 17/100 [10:51<1:05:43, 47.52s/it]"
     ]
    },
    {
     "name": "stdout",
     "output_type": "stream",
     "text": [
      "{'eval_loss': 0.6152233481407166, 'eval_rmse': 0.46928638219833374, 'eval_runtime': 6.6901, 'eval_samples_per_second': 1.495, 'eval_steps_per_second': 0.299, 'epoch': 6.8}\n"
     ]
    },
    {
     "name": "stderr",
     "output_type": "stream",
     "text": [
      " 20%|██        | 20/100 [12:25<53:02, 39.78s/it]  "
     ]
    },
    {
     "name": "stdout",
     "output_type": "stream",
     "text": [
      "{'loss': 1.2758, 'grad_norm': 4.329855918884277, 'learning_rate': 4.000000000000001e-06, 'epoch': 8.0}\n"
     ]
    },
    {
     "name": "stderr",
     "output_type": "stream",
     "text": [
      "d:\\research_models\\handwritten_ocr\\handwritten_ocr\\.venv\\Lib\\site-packages\\sklearn\\metrics\\_regression.py:492: FutureWarning: 'squared' is deprecated in version 1.4 and will be removed in 1.6. To calculate the root mean squared error, use the function'root_mean_squared_error'.\n",
      "  warnings.warn(\n",
      "\n",
      " 20%|██        | 20/100 [12:32<53:02, 39.78s/it]"
     ]
    },
    {
     "name": "stdout",
     "output_type": "stream",
     "text": [
      "{'eval_loss': 0.6072980165481567, 'eval_rmse': 0.4408215880393982, 'eval_runtime': 6.816, 'eval_samples_per_second': 1.467, 'eval_steps_per_second': 0.293, 'epoch': 8.0}\n"
     ]
    },
    {
     "name": "stderr",
     "output_type": "stream",
     "text": [
      " 22%|██▏       | 22/100 [14:01<56:03, 43.12s/it]d:\\research_models\\handwritten_ocr\\handwritten_ocr\\.venv\\Lib\\site-packages\\sklearn\\metrics\\_regression.py:492: FutureWarning: 'squared' is deprecated in version 1.4 and will be removed in 1.6. To calculate the root mean squared error, use the function'root_mean_squared_error'.\n",
      "  warnings.warn(\n",
      "\n",
      " 22%|██▏       | 22/100 [14:17<56:03, 43.12s/it]"
     ]
    },
    {
     "name": "stdout",
     "output_type": "stream",
     "text": [
      "{'eval_loss': 0.6059160232543945, 'eval_rmse': 0.4378731846809387, 'eval_runtime': 7.2815, 'eval_samples_per_second': 1.373, 'eval_steps_per_second': 0.275, 'epoch': 8.8}\n"
     ]
    },
    {
     "name": "stderr",
     "output_type": "stream",
     "text": [
      " 25%|██▌       | 25/100 [15:55<48:48, 39.04s/it]d:\\research_models\\handwritten_ocr\\handwritten_ocr\\.venv\\Lib\\site-packages\\sklearn\\metrics\\_regression.py:492: FutureWarning: 'squared' is deprecated in version 1.4 and will be removed in 1.6. To calculate the root mean squared error, use the function'root_mean_squared_error'.\n",
      "  warnings.warn(\n",
      "\n",
      " 25%|██▌       | 25/100 [16:02<48:48, 39.04s/it]"
     ]
    },
    {
     "name": "stdout",
     "output_type": "stream",
     "text": [
      "{'eval_loss': 0.6032838821411133, 'eval_rmse': 0.42936092615127563, 'eval_runtime': 6.9952, 'eval_samples_per_second': 1.43, 'eval_steps_per_second': 0.286, 'epoch': 10.0}\n"
     ]
    },
    {
     "name": "stderr",
     "output_type": "stream",
     "text": [
      " 27%|██▋       | 27/100 [17:25<50:36, 41.60s/it]d:\\research_models\\handwritten_ocr\\handwritten_ocr\\.venv\\Lib\\site-packages\\sklearn\\metrics\\_regression.py:492: FutureWarning: 'squared' is deprecated in version 1.4 and will be removed in 1.6. To calculate the root mean squared error, use the function'root_mean_squared_error'.\n",
      "  warnings.warn(\n",
      "\n",
      " 27%|██▋       | 27/100 [17:40<50:36, 41.60s/it]"
     ]
    },
    {
     "name": "stdout",
     "output_type": "stream",
     "text": [
      "{'eval_loss': 0.5988081097602844, 'eval_rmse': 0.40932101011276245, 'eval_runtime': 6.4148, 'eval_samples_per_second': 1.559, 'eval_steps_per_second': 0.312, 'epoch': 10.8}\n"
     ]
    },
    {
     "name": "stderr",
     "output_type": "stream",
     "text": [
      " 30%|███       | 30/100 [19:22<46:01, 39.46s/it]"
     ]
    },
    {
     "name": "stdout",
     "output_type": "stream",
     "text": [
      "{'loss': 1.1973, 'grad_norm': 2.948061466217041, 'learning_rate': 3.5e-06, 'epoch': 12.0}\n"
     ]
    },
    {
     "name": "stderr",
     "output_type": "stream",
     "text": [
      "d:\\research_models\\handwritten_ocr\\handwritten_ocr\\.venv\\Lib\\site-packages\\sklearn\\metrics\\_regression.py:492: FutureWarning: 'squared' is deprecated in version 1.4 and will be removed in 1.6. To calculate the root mean squared error, use the function'root_mean_squared_error'.\n",
      "  warnings.warn(\n",
      "\n",
      " 30%|███       | 30/100 [19:29<46:01, 39.46s/it]"
     ]
    },
    {
     "name": "stdout",
     "output_type": "stream",
     "text": [
      "{'eval_loss': 0.5895353555679321, 'eval_rmse': 0.36469489336013794, 'eval_runtime': 7.6403, 'eval_samples_per_second': 1.309, 'eval_steps_per_second': 0.262, 'epoch': 12.0}\n"
     ]
    },
    {
     "name": "stderr",
     "output_type": "stream",
     "text": [
      " 32%|███▏      | 32/100 [21:04<50:52, 44.89s/it]d:\\research_models\\handwritten_ocr\\handwritten_ocr\\.venv\\Lib\\site-packages\\sklearn\\metrics\\_regression.py:492: FutureWarning: 'squared' is deprecated in version 1.4 and will be removed in 1.6. To calculate the root mean squared error, use the function'root_mean_squared_error'.\n",
      "  warnings.warn(\n",
      "\n",
      " 32%|███▏      | 32/100 [21:25<50:52, 44.89s/it]"
     ]
    },
    {
     "name": "stdout",
     "output_type": "stream",
     "text": [
      "{'eval_loss': 0.5840943455696106, 'eval_rmse': 0.3387032747268677, 'eval_runtime': 8.708, 'eval_samples_per_second': 1.148, 'eval_steps_per_second': 0.23, 'epoch': 12.8}\n"
     ]
    },
    {
     "name": "stderr",
     "output_type": "stream",
     "text": [
      " 35%|███▌      | 35/100 [23:19<47:47, 44.11s/it]d:\\research_models\\handwritten_ocr\\handwritten_ocr\\.venv\\Lib\\site-packages\\sklearn\\metrics\\_regression.py:492: FutureWarning: 'squared' is deprecated in version 1.4 and will be removed in 1.6. To calculate the root mean squared error, use the function'root_mean_squared_error'.\n",
      "  warnings.warn(\n",
      "\n",
      " 35%|███▌      | 35/100 [23:26<47:47, 44.11s/it]"
     ]
    },
    {
     "name": "stdout",
     "output_type": "stream",
     "text": [
      "{'eval_loss': 0.5745851397514343, 'eval_rmse': 0.2942020297050476, 'eval_runtime': 7.4701, 'eval_samples_per_second': 1.339, 'eval_steps_per_second': 0.268, 'epoch': 14.0}\n"
     ]
    },
    {
     "name": "stderr",
     "output_type": "stream",
     "text": [
      " 37%|███▋      | 37/100 [24:54<47:24, 45.15s/it]d:\\research_models\\handwritten_ocr\\handwritten_ocr\\.venv\\Lib\\site-packages\\sklearn\\metrics\\_regression.py:492: FutureWarning: 'squared' is deprecated in version 1.4 and will be removed in 1.6. To calculate the root mean squared error, use the function'root_mean_squared_error'.\n",
      "  warnings.warn(\n",
      "\n",
      " 37%|███▋      | 37/100 [25:08<47:24, 45.15s/it]"
     ]
    },
    {
     "name": "stdout",
     "output_type": "stream",
     "text": [
      "{'eval_loss': 0.5675152540206909, 'eval_rmse': 0.2673319876194, 'eval_runtime': 5.6649, 'eval_samples_per_second': 1.765, 'eval_steps_per_second': 0.353, 'epoch': 14.8}\n"
     ]
    },
    {
     "name": "stderr",
     "output_type": "stream",
     "text": [
      " 40%|████      | 40/100 [26:41<38:28, 38.48s/it]"
     ]
    },
    {
     "name": "stdout",
     "output_type": "stream",
     "text": [
      "{'loss': 1.2004, 'grad_norm': 3.042447090148926, 'learning_rate': 3e-06, 'epoch': 16.0}\n"
     ]
    },
    {
     "name": "stderr",
     "output_type": "stream",
     "text": [
      "d:\\research_models\\handwritten_ocr\\handwritten_ocr\\.venv\\Lib\\site-packages\\sklearn\\metrics\\_regression.py:492: FutureWarning: 'squared' is deprecated in version 1.4 and will be removed in 1.6. To calculate the root mean squared error, use the function'root_mean_squared_error'.\n",
      "  warnings.warn(\n",
      "\n",
      " 40%|████      | 40/100 [26:47<38:28, 38.48s/it]"
     ]
    },
    {
     "name": "stdout",
     "output_type": "stream",
     "text": [
      "{'eval_loss': 0.5578422546386719, 'eval_rmse': 0.25804734230041504, 'eval_runtime': 6.2116, 'eval_samples_per_second': 1.61, 'eval_steps_per_second': 0.322, 'epoch': 16.0}\n"
     ]
    },
    {
     "name": "stderr",
     "output_type": "stream",
     "text": [
      " 42%|████▏     | 42/100 [28:18<41:18, 42.73s/it]d:\\research_models\\handwritten_ocr\\handwritten_ocr\\.venv\\Lib\\site-packages\\sklearn\\metrics\\_regression.py:492: FutureWarning: 'squared' is deprecated in version 1.4 and will be removed in 1.6. To calculate the root mean squared error, use the function'root_mean_squared_error'.\n",
      "  warnings.warn(\n",
      "\n",
      " 42%|████▏     | 42/100 [28:34<41:18, 42.73s/it]"
     ]
    },
    {
     "name": "stdout",
     "output_type": "stream",
     "text": [
      "{'eval_loss': 0.5547385811805725, 'eval_rmse': 0.26784685254096985, 'eval_runtime': 6.956, 'eval_samples_per_second': 1.438, 'eval_steps_per_second': 0.288, 'epoch': 16.8}\n"
     ]
    },
    {
     "name": "stderr",
     "output_type": "stream",
     "text": [
      " 45%|████▌     | 45/100 [29:59<32:45, 35.74s/it]d:\\research_models\\handwritten_ocr\\handwritten_ocr\\.venv\\Lib\\site-packages\\sklearn\\metrics\\_regression.py:492: FutureWarning: 'squared' is deprecated in version 1.4 and will be removed in 1.6. To calculate the root mean squared error, use the function'root_mean_squared_error'.\n",
      "  warnings.warn(\n",
      "\n",
      " 45%|████▌     | 45/100 [30:05<32:45, 35.74s/it]"
     ]
    },
    {
     "name": "stdout",
     "output_type": "stream",
     "text": [
      "{'eval_loss': 0.5530937314033508, 'eval_rmse': 0.2913801372051239, 'eval_runtime': 5.8496, 'eval_samples_per_second': 1.71, 'eval_steps_per_second': 0.342, 'epoch': 18.0}\n"
     ]
    },
    {
     "name": "stderr",
     "output_type": "stream",
     "text": [
      " 47%|████▋     | 47/100 [31:15<32:22, 36.66s/it]d:\\research_models\\handwritten_ocr\\handwritten_ocr\\.venv\\Lib\\site-packages\\sklearn\\metrics\\_regression.py:492: FutureWarning: 'squared' is deprecated in version 1.4 and will be removed in 1.6. To calculate the root mean squared error, use the function'root_mean_squared_error'.\n",
      "  warnings.warn(\n",
      "\n",
      " 47%|████▋     | 47/100 [31:29<32:22, 36.66s/it]"
     ]
    },
    {
     "name": "stdout",
     "output_type": "stream",
     "text": [
      "{'eval_loss': 0.5534512400627136, 'eval_rmse': 0.30321669578552246, 'eval_runtime': 5.6187, 'eval_samples_per_second': 1.78, 'eval_steps_per_second': 0.356, 'epoch': 18.8}\n"
     ]
    },
    {
     "name": "stderr",
     "output_type": "stream",
     "text": [
      " 50%|█████     | 50/100 [33:12<32:00, 38.42s/it]"
     ]
    },
    {
     "name": "stdout",
     "output_type": "stream",
     "text": [
      "{'loss': 1.18, 'grad_norm': 2.661003351211548, 'learning_rate': 2.5e-06, 'epoch': 20.0}\n"
     ]
    },
    {
     "name": "stderr",
     "output_type": "stream",
     "text": [
      "d:\\research_models\\handwritten_ocr\\handwritten_ocr\\.venv\\Lib\\site-packages\\sklearn\\metrics\\_regression.py:492: FutureWarning: 'squared' is deprecated in version 1.4 and will be removed in 1.6. To calculate the root mean squared error, use the function'root_mean_squared_error'.\n",
      "  warnings.warn(\n",
      "\n",
      " 50%|█████     | 50/100 [33:20<32:00, 38.42s/it]"
     ]
    },
    {
     "name": "stdout",
     "output_type": "stream",
     "text": [
      "{'eval_loss': 0.5552095174789429, 'eval_rmse': 0.31340864300727844, 'eval_runtime': 8.1155, 'eval_samples_per_second': 1.232, 'eval_steps_per_second': 0.246, 'epoch': 20.0}\n"
     ]
    },
    {
     "name": "stderr",
     "output_type": "stream",
     "text": [
      " 52%|█████▏    | 52/100 [35:06<37:42, 47.14s/it]d:\\research_models\\handwritten_ocr\\handwritten_ocr\\.venv\\Lib\\site-packages\\sklearn\\metrics\\_regression.py:492: FutureWarning: 'squared' is deprecated in version 1.4 and will be removed in 1.6. To calculate the root mean squared error, use the function'root_mean_squared_error'.\n",
      "  warnings.warn(\n",
      "\n",
      " 52%|█████▏    | 52/100 [35:26<37:42, 47.14s/it]"
     ]
    },
    {
     "name": "stdout",
     "output_type": "stream",
     "text": [
      "{'eval_loss': 0.5561641454696655, 'eval_rmse': 0.3193681836128235, 'eval_runtime': 8.0552, 'eval_samples_per_second': 1.241, 'eval_steps_per_second': 0.248, 'epoch': 20.8}\n"
     ]
    },
    {
     "name": "stderr",
     "output_type": "stream",
     "text": [
      " 55%|█████▌    | 55/100 [37:20<33:30, 44.69s/it]d:\\research_models\\handwritten_ocr\\handwritten_ocr\\.venv\\Lib\\site-packages\\sklearn\\metrics\\_regression.py:492: FutureWarning: 'squared' is deprecated in version 1.4 and will be removed in 1.6. To calculate the root mean squared error, use the function'root_mean_squared_error'.\n",
      "  warnings.warn(\n",
      "\n",
      " 55%|█████▌    | 55/100 [37:28<33:30, 44.69s/it]"
     ]
    },
    {
     "name": "stdout",
     "output_type": "stream",
     "text": [
      "{'eval_loss': 0.5582365989685059, 'eval_rmse': 0.32197147607803345, 'eval_runtime': 8.0098, 'eval_samples_per_second': 1.248, 'eval_steps_per_second': 0.25, 'epoch': 22.0}\n"
     ]
    },
    {
     "name": "stderr",
     "output_type": "stream",
     "text": [
      " 57%|█████▋    | 57/100 [39:13<36:02, 50.28s/it]d:\\research_models\\handwritten_ocr\\handwritten_ocr\\.venv\\Lib\\site-packages\\sklearn\\metrics\\_regression.py:492: FutureWarning: 'squared' is deprecated in version 1.4 and will be removed in 1.6. To calculate the root mean squared error, use the function'root_mean_squared_error'.\n",
      "  warnings.warn(\n",
      "\n",
      " 57%|█████▋    | 57/100 [39:36<36:02, 50.28s/it]"
     ]
    },
    {
     "name": "stdout",
     "output_type": "stream",
     "text": [
      "{'eval_loss': 0.5590425133705139, 'eval_rmse': 0.32564079761505127, 'eval_runtime': 8.5038, 'eval_samples_per_second': 1.176, 'eval_steps_per_second': 0.235, 'epoch': 22.8}\n"
     ]
    },
    {
     "name": "stderr",
     "output_type": "stream",
     "text": [
      " 60%|██████    | 60/100 [41:31<30:53, 46.34s/it]"
     ]
    },
    {
     "name": "stdout",
     "output_type": "stream",
     "text": [
      "{'loss': 1.1721, 'grad_norm': 3.5921783447265625, 'learning_rate': 2.0000000000000003e-06, 'epoch': 24.0}\n"
     ]
    },
    {
     "name": "stderr",
     "output_type": "stream",
     "text": [
      "d:\\research_models\\handwritten_ocr\\handwritten_ocr\\.venv\\Lib\\site-packages\\sklearn\\metrics\\_regression.py:492: FutureWarning: 'squared' is deprecated in version 1.4 and will be removed in 1.6. To calculate the root mean squared error, use the function'root_mean_squared_error'.\n",
      "  warnings.warn(\n",
      "\n",
      " 60%|██████    | 60/100 [41:39<30:53, 46.34s/it]"
     ]
    },
    {
     "name": "stdout",
     "output_type": "stream",
     "text": [
      "{'eval_loss': 0.5576098561286926, 'eval_rmse': 0.33413106203079224, 'eval_runtime': 7.9169, 'eval_samples_per_second': 1.263, 'eval_steps_per_second': 0.253, 'epoch': 24.0}\n"
     ]
    },
    {
     "name": "stderr",
     "output_type": "stream",
     "text": [
      " 62%|██████▏   | 62/100 [43:20<31:46, 50.16s/it]d:\\research_models\\handwritten_ocr\\handwritten_ocr\\.venv\\Lib\\site-packages\\sklearn\\metrics\\_regression.py:492: FutureWarning: 'squared' is deprecated in version 1.4 and will be removed in 1.6. To calculate the root mean squared error, use the function'root_mean_squared_error'.\n",
      "  warnings.warn(\n",
      "\n",
      " 62%|██████▏   | 62/100 [43:40<31:46, 50.16s/it]"
     ]
    },
    {
     "name": "stdout",
     "output_type": "stream",
     "text": [
      "{'eval_loss': 0.5556241273880005, 'eval_rmse': 0.3422885835170746, 'eval_runtime': 8.3014, 'eval_samples_per_second': 1.205, 'eval_steps_per_second': 0.241, 'epoch': 24.8}\n"
     ]
    },
    {
     "name": "stderr",
     "output_type": "stream",
     "text": [
      " 65%|██████▌   | 65/100 [45:35<26:39, 45.69s/it]d:\\research_models\\handwritten_ocr\\handwritten_ocr\\.venv\\Lib\\site-packages\\sklearn\\metrics\\_regression.py:492: FutureWarning: 'squared' is deprecated in version 1.4 and will be removed in 1.6. To calculate the root mean squared error, use the function'root_mean_squared_error'.\n",
      "  warnings.warn(\n",
      "\n",
      " 65%|██████▌   | 65/100 [45:43<26:39, 45.69s/it]"
     ]
    },
    {
     "name": "stdout",
     "output_type": "stream",
     "text": [
      "{'eval_loss': 0.552049458026886, 'eval_rmse': 0.35995781421661377, 'eval_runtime': 8.3077, 'eval_samples_per_second': 1.204, 'eval_steps_per_second': 0.241, 'epoch': 26.0}\n"
     ]
    },
    {
     "name": "stderr",
     "output_type": "stream",
     "text": [
      " 67%|██████▋   | 67/100 [47:25<27:30, 50.00s/it]d:\\research_models\\handwritten_ocr\\handwritten_ocr\\.venv\\Lib\\site-packages\\sklearn\\metrics\\_regression.py:492: FutureWarning: 'squared' is deprecated in version 1.4 and will be removed in 1.6. To calculate the root mean squared error, use the function'root_mean_squared_error'.\n",
      "  warnings.warn(\n",
      "\n",
      " 67%|██████▋   | 67/100 [47:44<27:30, 50.00s/it]"
     ]
    },
    {
     "name": "stdout",
     "output_type": "stream",
     "text": [
      "{'eval_loss': 0.5504186749458313, 'eval_rmse': 0.3675069212913513, 'eval_runtime': 7.9966, 'eval_samples_per_second': 1.251, 'eval_steps_per_second': 0.25, 'epoch': 26.8}\n"
     ]
    },
    {
     "name": "stderr",
     "output_type": "stream",
     "text": [
      " 70%|███████   | 70/100 [49:38<22:43, 45.46s/it]"
     ]
    },
    {
     "name": "stdout",
     "output_type": "stream",
     "text": [
      "{'loss': 1.1503, 'grad_norm': 2.6539595127105713, 'learning_rate': 1.5e-06, 'epoch': 28.0}\n"
     ]
    },
    {
     "name": "stderr",
     "output_type": "stream",
     "text": [
      "d:\\research_models\\handwritten_ocr\\handwritten_ocr\\.venv\\Lib\\site-packages\\sklearn\\metrics\\_regression.py:492: FutureWarning: 'squared' is deprecated in version 1.4 and will be removed in 1.6. To calculate the root mean squared error, use the function'root_mean_squared_error'.\n",
      "  warnings.warn(\n",
      "\n",
      " 70%|███████   | 70/100 [49:46<22:43, 45.46s/it]"
     ]
    },
    {
     "name": "stdout",
     "output_type": "stream",
     "text": [
      "{'eval_loss': 0.5485647320747375, 'eval_rmse': 0.3714125156402588, 'eval_runtime': 8.0654, 'eval_samples_per_second': 1.24, 'eval_steps_per_second': 0.248, 'epoch': 28.0}\n"
     ]
    },
    {
     "name": "stderr",
     "output_type": "stream",
     "text": [
      " 72%|███████▏  | 72/100 [51:27<23:08, 49.58s/it]d:\\research_models\\handwritten_ocr\\handwritten_ocr\\.venv\\Lib\\site-packages\\sklearn\\metrics\\_regression.py:492: FutureWarning: 'squared' is deprecated in version 1.4 and will be removed in 1.6. To calculate the root mean squared error, use the function'root_mean_squared_error'.\n",
      "  warnings.warn(\n",
      "\n",
      " 72%|███████▏  | 72/100 [51:47<23:08, 49.58s/it]"
     ]
    },
    {
     "name": "stdout",
     "output_type": "stream",
     "text": [
      "{'eval_loss': 0.5476928353309631, 'eval_rmse': 0.3738178610801697, 'eval_runtime': 7.9169, 'eval_samples_per_second': 1.263, 'eval_steps_per_second': 0.253, 'epoch': 28.8}\n"
     ]
    },
    {
     "name": "stderr",
     "output_type": "stream",
     "text": [
      " 75%|███████▌  | 75/100 [53:43<19:06, 45.86s/it]d:\\research_models\\handwritten_ocr\\handwritten_ocr\\.venv\\Lib\\site-packages\\sklearn\\metrics\\_regression.py:492: FutureWarning: 'squared' is deprecated in version 1.4 and will be removed in 1.6. To calculate the root mean squared error, use the function'root_mean_squared_error'.\n",
      "  warnings.warn(\n",
      "\n",
      " 75%|███████▌  | 75/100 [53:52<19:06, 45.86s/it]"
     ]
    },
    {
     "name": "stdout",
     "output_type": "stream",
     "text": [
      "{'eval_loss': 0.5467650890350342, 'eval_rmse': 0.3703385591506958, 'eval_runtime': 9.5282, 'eval_samples_per_second': 1.05, 'eval_steps_per_second': 0.21, 'epoch': 30.0}\n"
     ]
    },
    {
     "name": "stderr",
     "output_type": "stream",
     "text": [
      " 77%|███████▋  | 77/100 [55:44<20:08, 52.53s/it]d:\\research_models\\handwritten_ocr\\handwritten_ocr\\.venv\\Lib\\site-packages\\sklearn\\metrics\\_regression.py:492: FutureWarning: 'squared' is deprecated in version 1.4 and will be removed in 1.6. To calculate the root mean squared error, use the function'root_mean_squared_error'.\n",
      "  warnings.warn(\n",
      "\n",
      " 77%|███████▋  | 77/100 [56:05<20:08, 52.53s/it]"
     ]
    },
    {
     "name": "stdout",
     "output_type": "stream",
     "text": [
      "{'eval_loss': 0.5467864274978638, 'eval_rmse': 0.36528655886650085, 'eval_runtime': 8.436, 'eval_samples_per_second': 1.185, 'eval_steps_per_second': 0.237, 'epoch': 30.8}\n"
     ]
    },
    {
     "name": "stderr",
     "output_type": "stream",
     "text": [
      " 80%|████████  | 80/100 [58:01<15:28, 46.45s/it]"
     ]
    },
    {
     "name": "stdout",
     "output_type": "stream",
     "text": [
      "{'loss': 1.1362, 'grad_norm': 4.264032363891602, 'learning_rate': 1.0000000000000002e-06, 'epoch': 32.0}\n"
     ]
    },
    {
     "name": "stderr",
     "output_type": "stream",
     "text": [
      "d:\\research_models\\handwritten_ocr\\handwritten_ocr\\.venv\\Lib\\site-packages\\sklearn\\metrics\\_regression.py:492: FutureWarning: 'squared' is deprecated in version 1.4 and will be removed in 1.6. To calculate the root mean squared error, use the function'root_mean_squared_error'.\n",
      "  warnings.warn(\n",
      "\n",
      " 80%|████████  | 80/100 [58:08<15:28, 46.45s/it]"
     ]
    },
    {
     "name": "stdout",
     "output_type": "stream",
     "text": [
      "{'eval_loss': 0.5471011400222778, 'eval_rmse': 0.3577156662940979, 'eval_runtime': 7.3525, 'eval_samples_per_second': 1.36, 'eval_steps_per_second': 0.272, 'epoch': 32.0}\n"
     ]
    },
    {
     "name": "stderr",
     "output_type": "stream",
     "text": [
      " 82%|████████▏ | 82/100 [59:36<14:01, 46.75s/it]d:\\research_models\\handwritten_ocr\\handwritten_ocr\\.venv\\Lib\\site-packages\\sklearn\\metrics\\_regression.py:492: FutureWarning: 'squared' is deprecated in version 1.4 and will be removed in 1.6. To calculate the root mean squared error, use the function'root_mean_squared_error'.\n",
      "  warnings.warn(\n",
      "\n",
      " 82%|████████▏ | 82/100 [59:53<14:01, 46.75s/it]"
     ]
    },
    {
     "name": "stdout",
     "output_type": "stream",
     "text": [
      "{'eval_loss': 0.5474886298179626, 'eval_rmse': 0.3544919490814209, 'eval_runtime': 7.0909, 'eval_samples_per_second': 1.41, 'eval_steps_per_second': 0.282, 'epoch': 32.8}\n"
     ]
    },
    {
     "name": "stderr",
     "output_type": "stream",
     "text": [
      " 85%|████████▌ | 85/100 [1:01:38<10:35, 42.37s/it]d:\\research_models\\handwritten_ocr\\handwritten_ocr\\.venv\\Lib\\site-packages\\sklearn\\metrics\\_regression.py:492: FutureWarning: 'squared' is deprecated in version 1.4 and will be removed in 1.6. To calculate the root mean squared error, use the function'root_mean_squared_error'.\n",
      "  warnings.warn(\n",
      "\n",
      " 85%|████████▌ | 85/100 [1:01:49<10:35, 42.37s/it]"
     ]
    },
    {
     "name": "stdout",
     "output_type": "stream",
     "text": [
      "{'eval_loss': 0.5481659173965454, 'eval_rmse': 0.3505815863609314, 'eval_runtime': 11.0684, 'eval_samples_per_second': 0.903, 'eval_steps_per_second': 0.181, 'epoch': 34.0}\n"
     ]
    },
    {
     "name": "stderr",
     "output_type": "stream",
     "text": [
      " 87%|████████▋ | 87/100 [1:03:33<10:51, 50.15s/it]d:\\research_models\\handwritten_ocr\\handwritten_ocr\\.venv\\Lib\\site-packages\\sklearn\\metrics\\_regression.py:492: FutureWarning: 'squared' is deprecated in version 1.4 and will be removed in 1.6. To calculate the root mean squared error, use the function'root_mean_squared_error'.\n",
      "  warnings.warn(\n",
      "\n",
      " 87%|████████▋ | 87/100 [1:03:54<10:51, 50.15s/it]"
     ]
    },
    {
     "name": "stdout",
     "output_type": "stream",
     "text": [
      "{'eval_loss': 0.5488213300704956, 'eval_rmse': 0.34832507371902466, 'eval_runtime': 8.3119, 'eval_samples_per_second': 1.203, 'eval_steps_per_second': 0.241, 'epoch': 34.8}\n"
     ]
    },
    {
     "name": "stderr",
     "output_type": "stream",
     "text": [
      " 90%|█████████ | 90/100 [1:06:01<08:14, 49.47s/it]"
     ]
    },
    {
     "name": "stdout",
     "output_type": "stream",
     "text": [
      "{'loss': 1.1446, 'grad_norm': 2.742483615875244, 'learning_rate': 5.000000000000001e-07, 'epoch': 36.0}\n"
     ]
    },
    {
     "name": "stderr",
     "output_type": "stream",
     "text": [
      "d:\\research_models\\handwritten_ocr\\handwritten_ocr\\.venv\\Lib\\site-packages\\sklearn\\metrics\\_regression.py:492: FutureWarning: 'squared' is deprecated in version 1.4 and will be removed in 1.6. To calculate the root mean squared error, use the function'root_mean_squared_error'.\n",
      "  warnings.warn(\n",
      "\n",
      " 90%|█████████ | 90/100 [1:06:09<08:14, 49.47s/it]"
     ]
    },
    {
     "name": "stdout",
     "output_type": "stream",
     "text": [
      "{'eval_loss': 0.5495004653930664, 'eval_rmse': 0.3465659022331238, 'eval_runtime': 8.0924, 'eval_samples_per_second': 1.236, 'eval_steps_per_second': 0.247, 'epoch': 36.0}\n"
     ]
    },
    {
     "name": "stderr",
     "output_type": "stream",
     "text": [
      " 92%|█████████▏| 92/100 [1:07:38<06:28, 48.57s/it]d:\\research_models\\handwritten_ocr\\handwritten_ocr\\.venv\\Lib\\site-packages\\sklearn\\metrics\\_regression.py:492: FutureWarning: 'squared' is deprecated in version 1.4 and will be removed in 1.6. To calculate the root mean squared error, use the function'root_mean_squared_error'.\n",
      "  warnings.warn(\n",
      "\n",
      " 92%|█████████▏| 92/100 [1:07:58<06:28, 48.57s/it]"
     ]
    },
    {
     "name": "stdout",
     "output_type": "stream",
     "text": [
      "{'eval_loss': 0.5498220920562744, 'eval_rmse': 0.34593766927719116, 'eval_runtime': 7.9367, 'eval_samples_per_second': 1.26, 'eval_steps_per_second': 0.252, 'epoch': 36.8}\n"
     ]
    },
    {
     "name": "stderr",
     "output_type": "stream",
     "text": [
      " 95%|█████████▌| 95/100 [1:09:57<03:50, 46.14s/it]d:\\research_models\\handwritten_ocr\\handwritten_ocr\\.venv\\Lib\\site-packages\\sklearn\\metrics\\_regression.py:492: FutureWarning: 'squared' is deprecated in version 1.4 and will be removed in 1.6. To calculate the root mean squared error, use the function'root_mean_squared_error'.\n",
      "  warnings.warn(\n",
      "\n",
      " 95%|█████████▌| 95/100 [1:10:05<03:50, 46.14s/it]"
     ]
    },
    {
     "name": "stdout",
     "output_type": "stream",
     "text": [
      "{'eval_loss': 0.5502162575721741, 'eval_rmse': 0.3449614346027374, 'eval_runtime': 8.1641, 'eval_samples_per_second': 1.225, 'eval_steps_per_second': 0.245, 'epoch': 38.0}\n"
     ]
    },
    {
     "name": "stderr",
     "output_type": "stream",
     "text": [
      " 97%|█████████▋| 97/100 [1:11:50<02:32, 50.96s/it]d:\\research_models\\handwritten_ocr\\handwritten_ocr\\.venv\\Lib\\site-packages\\sklearn\\metrics\\_regression.py:492: FutureWarning: 'squared' is deprecated in version 1.4 and will be removed in 1.6. To calculate the root mean squared error, use the function'root_mean_squared_error'.\n",
      "  warnings.warn(\n",
      "\n",
      " 97%|█████████▋| 97/100 [1:12:10<02:32, 50.96s/it]"
     ]
    },
    {
     "name": "stdout",
     "output_type": "stream",
     "text": [
      "{'eval_loss': 0.5502774119377136, 'eval_rmse': 0.345205694437027, 'eval_runtime': 8.0467, 'eval_samples_per_second': 1.243, 'eval_steps_per_second': 0.249, 'epoch': 38.8}\n"
     ]
    },
    {
     "name": "stderr",
     "output_type": "stream",
     "text": [
      "100%|██████████| 100/100 [1:14:10<00:00, 47.24s/it]"
     ]
    },
    {
     "name": "stdout",
     "output_type": "stream",
     "text": [
      "{'loss': 1.1482, 'grad_norm': 2.0123512744903564, 'learning_rate': 0.0, 'epoch': 40.0}\n"
     ]
    },
    {
     "name": "stderr",
     "output_type": "stream",
     "text": [
      "d:\\research_models\\handwritten_ocr\\handwritten_ocr\\.venv\\Lib\\site-packages\\sklearn\\metrics\\_regression.py:492: FutureWarning: 'squared' is deprecated in version 1.4 and will be removed in 1.6. To calculate the root mean squared error, use the function'root_mean_squared_error'.\n",
      "  warnings.warn(\n",
      "\n",
      "100%|██████████| 100/100 [1:14:22<00:00, 47.24s/it]"
     ]
    },
    {
     "name": "stdout",
     "output_type": "stream",
     "text": [
      "{'eval_loss': 0.5502617359161377, 'eval_rmse': 0.34550225734710693, 'eval_runtime': 8.9528, 'eval_samples_per_second': 1.117, 'eval_steps_per_second': 0.223, 'epoch': 40.0}\n"
     ]
    },
    {
     "name": "stderr",
     "output_type": "stream",
     "text": [
      "100%|██████████| 100/100 [1:14:25<00:00, 44.65s/it]"
     ]
    },
    {
     "name": "stdout",
     "output_type": "stream",
     "text": [
      "{'train_runtime': 4465.3285, 'train_samples_per_second': 0.403, 'train_steps_per_second': 0.022, 'train_loss': 1.1996148586273194, 'epoch': 40.0}\n"
     ]
    },
    {
     "name": "stderr",
     "output_type": "stream",
     "text": [
      "\n"
     ]
    },
    {
     "data": {
      "text/plain": [
       "TrainOutput(global_step=100, training_loss=1.1996148586273194, metrics={'train_runtime': 4465.3285, 'train_samples_per_second': 0.403, 'train_steps_per_second': 0.022, 'total_flos': 378879919718400.0, 'train_loss': 1.1996148586273194, 'epoch': 40.0})"
      ]
     },
     "execution_count": 17,
     "metadata": {},
     "output_type": "execute_result"
    }
   ],
   "source": [
    "# Define custom metrics function for evaluation\n",
    "def compute_metrics(eval_pred):\n",
    "    predictions, labels = eval_pred\n",
    "    predictions = predictions.squeeze()\n",
    "    mse = mean_squared_error(labels, predictions, squared=False)\n",
    "    return {'rmse': mse}\n",
    "\n",
    "from transformers import AdamW, Trainer, TrainingArguments\n",
    "\n",
    "# Adjusted Training Arguments\n",
    "training_args = TrainingArguments(\n",
    "    output_dir='./results',\n",
    "    evaluation_strategy=\"epoch\",\n",
    "    save_strategy=\"epoch\",\n",
    "    learning_rate=5e-6,              # Lower learning rate\n",
    "    per_device_train_batch_size=8,   # Reduce batch size if needed for memory\n",
    "    per_device_eval_batch_size=8,\n",
    "    num_train_epochs=50,             # Increase epochs\n",
    "    weight_decay=0.02,               # Increased weight decay\n",
    "    load_best_model_at_end=True,\n",
    "    metric_for_best_model=\"rmse\",\n",
    "    greater_is_better=False,\n",
    "    logging_dir='./logs',\n",
    "    logging_steps=10,\n",
    "    gradient_accumulation_steps=2    # Simulate larger batch size\n",
    ")\n",
    "\n",
    "# Initialize Trainer with custom optimizer if necessary\n",
    "optimizer = AdamW(model.parameters(), lr=5e-6, weight_decay=0.02)\n",
    "trainer = Trainer(\n",
    "    model=model,\n",
    "    args=training_args,\n",
    "    train_dataset=train_dataset,\n",
    "    eval_dataset=val_dataset,\n",
    "    compute_metrics=compute_metrics,\n",
    "    optimizers=(optimizer, None)     # Custom optimizer if needed\n",
    ")\n",
    "\n",
    "# Fine-tune the model\n",
    "trainer.train()"
   ]
  },
  {
   "cell_type": "code",
   "execution_count": 20,
   "metadata": {},
   "outputs": [
    {
     "name": "stderr",
     "output_type": "stream",
     "text": [
      "100%|██████████| 2/2 [00:01<00:00,  1.16it/s]d:\\research_models\\handwritten_ocr\\handwritten_ocr\\.venv\\Lib\\site-packages\\sklearn\\metrics\\_regression.py:492: FutureWarning: 'squared' is deprecated in version 1.4 and will be removed in 1.6. To calculate the root mean squared error, use the function'root_mean_squared_error'.\n",
      "  warnings.warn(\n",
      "100%|██████████| 2/2 [00:01<00:00,  1.16it/s]"
     ]
    },
    {
     "name": "stdout",
     "output_type": "stream",
     "text": [
      "{'eval_loss': 0.5578422546386719, 'eval_rmse': 0.25804734230041504, 'eval_runtime': 8.6532, 'eval_samples_per_second': 1.156, 'eval_steps_per_second': 0.231, 'epoch': 40.0}\n"
     ]
    },
    {
     "name": "stderr",
     "output_type": "stream",
     "text": [
      "\n"
     ]
    }
   ],
   "source": [
    "# Evaluate the model\n",
    "metrics = trainer.evaluate()\n",
    "print(metrics)"
   ]
  },
  {
   "cell_type": "code",
   "execution_count": 19,
   "metadata": {},
   "outputs": [
    {
     "data": {
      "text/plain": [
       "('./essay_scoring_model\\\\tokenizer_config.json',\n",
       " './essay_scoring_model\\\\special_tokens_map.json',\n",
       " './essay_scoring_model\\\\vocab.txt',\n",
       " './essay_scoring_model\\\\added_tokens.json')"
      ]
     },
     "execution_count": 19,
     "metadata": {},
     "output_type": "execute_result"
    }
   ],
   "source": [
    "# Save the fine-tuned model\n",
    "trainer.save_model('./essay_scoring_model')\n",
    "tokenizer.save_pretrained('./essay_scoring_model')"
   ]
  }
 ],
 "metadata": {
  "kernelspec": {
   "display_name": ".venv",
   "language": "python",
   "name": "python3"
  },
  "language_info": {
   "codemirror_mode": {
    "name": "ipython",
    "version": 3
   },
   "file_extension": ".py",
   "mimetype": "text/x-python",
   "name": "python",
   "nbconvert_exporter": "python",
   "pygments_lexer": "ipython3",
   "version": "3.12.6"
  }
 },
 "nbformat": 4,
 "nbformat_minor": 2
}
