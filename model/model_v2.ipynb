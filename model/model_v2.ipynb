{
 "cells": [
  {
   "cell_type": "code",
   "execution_count": 22,
   "metadata": {},
   "outputs": [],
   "source": [
    "import pandas as pd\n",
    "import torch\n",
    "from transformers import BertTokenizer, BertModel, Trainer, TrainingArguments\n",
    "from sklearn.model_selection import train_test_split\n",
    "from sklearn.metrics import mean_squared_error\n",
    "from torch.utils.data import Dataset\n",
    "import torch.nn as nn"
   ]
  },
  {
   "cell_type": "code",
   "execution_count": 23,
   "metadata": {},
   "outputs": [],
   "source": [
    "# Load dataset with detected encoding\n",
    "df = pd.read_csv('all-data-engineering-quiz-utf.csv')"
   ]
  },
  {
   "cell_type": "code",
   "execution_count": 24,
   "metadata": {},
   "outputs": [],
   "source": [
    "# Combine relevant text fields for input, joining reasoning fields if they are arrays\n",
    "df['input_text'] = (\n",
    "    df['Question'] + \" \" +\n",
    "    df['Student Answer'] + \" \" +\n",
    "    df['Ideal Answer'] + \n",
    "    \" Grammar Reasoning: \" + df['Grammar Reasoning'].apply(lambda x: ' | '.join(eval(x)) if isinstance(x, str) and x.startswith('[') else str(x)) + \n",
    "    \" Structure Reasoning: \" + df['Structure Reasoning'].apply(lambda x: ' | '.join(eval(x)) if isinstance(x, str) and x.startswith('[') else str(x))\n",
    ")\n",
    "\n",
    "# Define target columns\n",
    "df['content_relevancy_score'] = df['Content Relevancy Score'].astype(float)\n",
    "df['grammar_score'] = df['Grammar Score'].astype(float)\n",
    "df['structure_score'] = df['Structure Score'].astype(float)\n",
    "\n",
    "# Scale scores to range from 0 to 1 (optional for normalized regression)\n",
    "df['content_relevancy_score'] /= 3  # Normalize content relevancy score to 0-1\n",
    "df['grammar_score'] /= 5            # Normalize grammar score to 0-1\n",
    "df['structure_score'] /= 5          # Normalize structure score to 0-1\n",
    "\n",
    "# Train-test split\n",
    "train_df, val_df = train_test_split(df, test_size=0.2, random_state=42)\n",
    "\n"
   ]
  },
  {
   "cell_type": "code",
   "execution_count": 25,
   "metadata": {},
   "outputs": [],
   "source": [
    "# Initialize tokenizer\n",
    "tokenizer = BertTokenizer.from_pretrained('bert-base-uncased')"
   ]
  },
  {
   "cell_type": "code",
   "execution_count": 26,
   "metadata": {},
   "outputs": [],
   "source": [
    "# Custom Dataset Class\n",
    "class EssayDataset(Dataset):\n",
    "    def __init__(self, dataframe, tokenizer, max_length):\n",
    "        self.dataframe = dataframe\n",
    "        self.tokenizer = tokenizer\n",
    "        self.max_length = max_length\n",
    "\n",
    "    def __len__(self):\n",
    "        return len(self.dataframe)\n",
    "\n",
    "    def __getitem__(self, idx):\n",
    "        text = self.dataframe.iloc[idx]['input_text']\n",
    "        content_score = self.dataframe.iloc[idx]['content_relevancy_score']\n",
    "        grammar_score = self.dataframe.iloc[idx]['grammar_score']\n",
    "        structure_score = self.dataframe.iloc[idx]['structure_score']\n",
    "        \n",
    "        # Tokenize input text\n",
    "        inputs = self.tokenizer(\n",
    "            text,\n",
    "            truncation=True,\n",
    "            padding='max_length',\n",
    "            max_length=self.max_length,\n",
    "            return_tensors='pt'\n",
    "        )\n",
    "        \n",
    "        # Combine scores into a single tensor for regression\n",
    "        labels = torch.tensor([content_score, grammar_score, structure_score], dtype=torch.float)\n",
    "        \n",
    "        return {\n",
    "            'input_ids': inputs['input_ids'].squeeze(),\n",
    "            'attention_mask': inputs['attention_mask'].squeeze(),\n",
    "            'labels': labels\n",
    "        }\n",
    "\n",
    "# Create datasets\n",
    "max_length = 512\n",
    "train_dataset = EssayDataset(train_df, tokenizer, max_length)\n",
    "val_dataset = EssayDataset(val_df, tokenizer, max_length)\n"
   ]
  },
  {
   "cell_type": "code",
   "execution_count": 27,
   "metadata": {},
   "outputs": [],
   "source": [
    "# Custom BERT Model for Multi-output Regression\n",
    "class BertForMultiOutputRegression(nn.Module):\n",
    "    def __init__(self):\n",
    "        super(BertForMultiOutputRegression, self).__init__()\n",
    "        self.bert = BertModel.from_pretrained('bert-base-uncased')\n",
    "        self.regressor = nn.Linear(self.bert.config.hidden_size, 3)  # 3 outputs: content, grammar, structure\n",
    "\n",
    "    def forward(self, input_ids, attention_mask, labels=None):\n",
    "        outputs = self.bert(input_ids=input_ids, attention_mask=attention_mask)\n",
    "        pooled_output = outputs.pooler_output\n",
    "        logits = self.regressor(pooled_output)\n",
    "\n",
    "        loss = None\n",
    "        if labels is not None:\n",
    "            loss_fct = nn.MSELoss()\n",
    "            loss = loss_fct(logits, labels)\n",
    "\n",
    "        return {'loss': loss, 'logits': logits} if loss is not None else {'logits': logits}\n",
    "\n",
    "# Initialize the model\n",
    "model = BertForMultiOutputRegression()"
   ]
  },
  {
   "cell_type": "code",
   "execution_count": 28,
   "metadata": {},
   "outputs": [
    {
     "name": "stderr",
     "output_type": "stream",
     "text": [
      "d:\\research_models\\handwritten_ocr\\handwritten_ocr\\.venv\\Lib\\site-packages\\transformers\\training_args.py:1559: FutureWarning: `evaluation_strategy` is deprecated and will be removed in version 4.46 of 🤗 Transformers. Use `eval_strategy` instead\n",
      "  warnings.warn(\n",
      "d:\\research_models\\handwritten_ocr\\handwritten_ocr\\.venv\\Lib\\site-packages\\transformers\\optimization.py:591: FutureWarning: This implementation of AdamW is deprecated and will be removed in a future version. Use the PyTorch implementation torch.optim.AdamW instead, or set `no_deprecation_warning=True` to disable this warning\n",
      "  warnings.warn(\n",
      "  0%|          | 0/100 [24:37<?, ?it/s]\n",
      "  2%|▏         | 2/100 [01:16<1:01:34, 37.70s/it]\n",
      "\u001b[A\n",
      "\u001b[Ad:\\research_models\\handwritten_ocr\\handwritten_ocr\\.venv\\Lib\\site-packages\\sklearn\\metrics\\_regression.py:492: FutureWarning: 'squared' is deprecated in version 1.4 and will be removed in 1.6. To calculate the root mean squared error, use the function'root_mean_squared_error'.\n",
      "  warnings.warn(\n",
      "                                                 \n",
      "\u001b[A                                    \n",
      "\n",
      "  2%|▏         | 2/100 [01:30<1:01:34, 37.70s/it]\n",
      "\u001b[A\n",
      "\u001b[A"
     ]
    },
    {
     "name": "stdout",
     "output_type": "stream",
     "text": [
      "{'eval_loss': 0.46533769369125366, 'eval_rmse': 0.5950549244880676, 'eval_runtime': 6.0791, 'eval_samples_per_second': 1.645, 'eval_steps_per_second': 0.329, 'epoch': 0.8}\n"
     ]
    },
    {
     "name": "stderr",
     "output_type": "stream",
     "text": [
      "  5%|▌         | 5/100 [02:55<52:27, 33.13s/it]  \n",
      "\u001b[A\n",
      "\u001b[Ad:\\research_models\\handwritten_ocr\\handwritten_ocr\\.venv\\Lib\\site-packages\\sklearn\\metrics\\_regression.py:492: FutureWarning: 'squared' is deprecated in version 1.4 and will be removed in 1.6. To calculate the root mean squared error, use the function'root_mean_squared_error'.\n",
      "  warnings.warn(\n",
      "                                               \n",
      "\u001b[A                                    \n",
      "\n",
      "  5%|▌         | 5/100 [03:01<52:27, 33.13s/it]\n",
      "\u001b[A\n",
      "\u001b[A"
     ]
    },
    {
     "name": "stdout",
     "output_type": "stream",
     "text": [
      "{'eval_loss': 0.3711877465248108, 'eval_rmse': 0.5409286618232727, 'eval_runtime': 5.8835, 'eval_samples_per_second': 1.7, 'eval_steps_per_second': 0.34, 'epoch': 2.0}\n"
     ]
    },
    {
     "name": "stderr",
     "output_type": "stream",
     "text": [
      "  7%|▋         | 7/100 [04:21<59:38, 38.47s/it]\n",
      "\u001b[A\n",
      "\u001b[Ad:\\research_models\\handwritten_ocr\\handwritten_ocr\\.venv\\Lib\\site-packages\\sklearn\\metrics\\_regression.py:492: FutureWarning: 'squared' is deprecated in version 1.4 and will be removed in 1.6. To calculate the root mean squared error, use the function'root_mean_squared_error'.\n",
      "  warnings.warn(\n",
      "                                               \n",
      "\u001b[A                                    \n",
      "\n",
      "  7%|▋         | 7/100 [04:35<59:38, 38.47s/it]\n",
      "\u001b[A\n",
      "\u001b[A"
     ]
    },
    {
     "name": "stdout",
     "output_type": "stream",
     "text": [
      "{'eval_loss': 0.3065706491470337, 'eval_rmse': 0.49762392044067383, 'eval_runtime': 5.8821, 'eval_samples_per_second': 1.7, 'eval_steps_per_second': 0.34, 'epoch': 2.8}\n"
     ]
    },
    {
     "name": "stderr",
     "output_type": "stream",
     "text": [
      "                                                \n",
      " 10%|█         | 10/100 [05:59<50:49, 33.88s/it]"
     ]
    },
    {
     "name": "stdout",
     "output_type": "stream",
     "text": [
      "{'loss': 0.7445, 'grad_norm': 17.285781860351562, 'learning_rate': 4.5e-06, 'epoch': 4.0}\n"
     ]
    },
    {
     "name": "stderr",
     "output_type": "stream",
     "text": [
      "\n",
      "\u001b[A\n",
      "\u001b[Ad:\\research_models\\handwritten_ocr\\handwritten_ocr\\.venv\\Lib\\site-packages\\sklearn\\metrics\\_regression.py:492: FutureWarning: 'squared' is deprecated in version 1.4 and will be removed in 1.6. To calculate the root mean squared error, use the function'root_mean_squared_error'.\n",
      "  warnings.warn(\n",
      "                                                \n",
      "\u001b[A                                    \n",
      "\n",
      " 10%|█         | 10/100 [06:05<50:49, 33.88s/it]\n",
      "\u001b[A\n",
      "\u001b[A"
     ]
    },
    {
     "name": "stdout",
     "output_type": "stream",
     "text": [
      "{'eval_loss': 0.2202606499195099, 'eval_rmse': 0.4243898391723633, 'eval_runtime': 5.9301, 'eval_samples_per_second': 1.686, 'eval_steps_per_second': 0.337, 'epoch': 4.0}\n"
     ]
    },
    {
     "name": "stderr",
     "output_type": "stream",
     "text": [
      " 12%|█▏        | 12/100 [07:21<54:46, 37.34s/it]\n",
      "\u001b[A\n",
      "\u001b[Ad:\\research_models\\handwritten_ocr\\handwritten_ocr\\.venv\\Lib\\site-packages\\sklearn\\metrics\\_regression.py:492: FutureWarning: 'squared' is deprecated in version 1.4 and will be removed in 1.6. To calculate the root mean squared error, use the function'root_mean_squared_error'.\n",
      "  warnings.warn(\n",
      "                                                \n",
      "\u001b[A                                    \n",
      "\n",
      " 12%|█▏        | 12/100 [07:39<54:46, 37.34s/it]\n",
      "\u001b[A\n",
      "\u001b[A"
     ]
    },
    {
     "name": "stdout",
     "output_type": "stream",
     "text": [
      "{'eval_loss': 0.1810213178396225, 'eval_rmse': 0.3935640752315521, 'eval_runtime': 6.6658, 'eval_samples_per_second': 1.5, 'eval_steps_per_second': 0.3, 'epoch': 4.8}\n"
     ]
    },
    {
     "name": "stderr",
     "output_type": "stream",
     "text": [
      " 15%|█▌        | 15/100 [09:28<54:40, 38.59s/it]  \n",
      "\u001b[A\n",
      "\u001b[Ad:\\research_models\\handwritten_ocr\\handwritten_ocr\\.venv\\Lib\\site-packages\\sklearn\\metrics\\_regression.py:492: FutureWarning: 'squared' is deprecated in version 1.4 and will be removed in 1.6. To calculate the root mean squared error, use the function'root_mean_squared_error'.\n",
      "  warnings.warn(\n",
      "                                                \n",
      "\u001b[A                                    \n",
      "\n",
      " 15%|█▌        | 15/100 [09:34<54:40, 38.59s/it]\n",
      "\u001b[A\n",
      "\u001b[A"
     ]
    },
    {
     "name": "stdout",
     "output_type": "stream",
     "text": [
      "{'eval_loss': 0.13153710961341858, 'eval_rmse': 0.3408474028110504, 'eval_runtime': 6.037, 'eval_samples_per_second': 1.656, 'eval_steps_per_second': 0.331, 'epoch': 6.0}\n"
     ]
    },
    {
     "name": "stderr",
     "output_type": "stream",
     "text": [
      " 17%|█▋        | 17/100 [10:57<57:28, 41.55s/it]\n",
      "\u001b[A\n",
      "\u001b[Ad:\\research_models\\handwritten_ocr\\handwritten_ocr\\.venv\\Lib\\site-packages\\sklearn\\metrics\\_regression.py:492: FutureWarning: 'squared' is deprecated in version 1.4 and will be removed in 1.6. To calculate the root mean squared error, use the function'root_mean_squared_error'.\n",
      "  warnings.warn(\n",
      "                                                \n",
      "\u001b[A                                    \n",
      "\n",
      " 17%|█▋        | 17/100 [11:12<57:28, 41.55s/it]\n",
      "\u001b[A\n",
      "\u001b[A"
     ]
    },
    {
     "name": "stdout",
     "output_type": "stream",
     "text": [
      "{'eval_loss': 0.10745974630117416, 'eval_rmse': 0.3101022243499756, 'eval_runtime': 6.2551, 'eval_samples_per_second': 1.599, 'eval_steps_per_second': 0.32, 'epoch': 6.8}\n"
     ]
    },
    {
     "name": "stderr",
     "output_type": "stream",
     "text": [
      "                                                \n",
      " 20%|██        | 20/100 [12:29<44:42, 33.53s/it]"
     ]
    },
    {
     "name": "stdout",
     "output_type": "stream",
     "text": [
      "{'loss': 0.2556, 'grad_norm': 10.62442684173584, 'learning_rate': 4.000000000000001e-06, 'epoch': 8.0}\n"
     ]
    },
    {
     "name": "stderr",
     "output_type": "stream",
     "text": [
      "\n",
      "\u001b[A\n",
      "\u001b[Ad:\\research_models\\handwritten_ocr\\handwritten_ocr\\.venv\\Lib\\site-packages\\sklearn\\metrics\\_regression.py:492: FutureWarning: 'squared' is deprecated in version 1.4 and will be removed in 1.6. To calculate the root mean squared error, use the function'root_mean_squared_error'.\n",
      "  warnings.warn(\n",
      "                                                \n",
      "\u001b[A                                    \n",
      "\n",
      " 20%|██        | 20/100 [12:34<44:42, 33.53s/it]\n",
      "\u001b[A\n",
      "\u001b[A"
     ]
    },
    {
     "name": "stdout",
     "output_type": "stream",
     "text": [
      "{'eval_loss': 0.0779518187046051, 'eval_rmse': 0.2682238519191742, 'eval_runtime': 5.3325, 'eval_samples_per_second': 1.875, 'eval_steps_per_second': 0.375, 'epoch': 8.0}\n"
     ]
    },
    {
     "name": "stderr",
     "output_type": "stream",
     "text": [
      " 22%|██▏       | 22/100 [14:07<54:00, 41.54s/it]\n",
      "\u001b[A\n",
      "\u001b[Ad:\\research_models\\handwritten_ocr\\handwritten_ocr\\.venv\\Lib\\site-packages\\sklearn\\metrics\\_regression.py:492: FutureWarning: 'squared' is deprecated in version 1.4 and will be removed in 1.6. To calculate the root mean squared error, use the function'root_mean_squared_error'.\n",
      "  warnings.warn(\n",
      "                                                \n",
      "\u001b[A                                    \n",
      "\n",
      " 22%|██▏       | 22/100 [14:24<54:00, 41.54s/it]\n",
      "\u001b[A\n",
      "\u001b[A"
     ]
    },
    {
     "name": "stdout",
     "output_type": "stream",
     "text": [
      "{'eval_loss': 0.0575437918305397, 'eval_rmse': 0.23170876502990723, 'eval_runtime': 6.6427, 'eval_samples_per_second': 1.505, 'eval_steps_per_second': 0.301, 'epoch': 8.8}\n"
     ]
    },
    {
     "name": "stderr",
     "output_type": "stream",
     "text": [
      " 25%|██▌       | 25/100 [16:09<50:21, 40.28s/it]\n",
      "\u001b[A\n",
      "\u001b[Ad:\\research_models\\handwritten_ocr\\handwritten_ocr\\.venv\\Lib\\site-packages\\sklearn\\metrics\\_regression.py:492: FutureWarning: 'squared' is deprecated in version 1.4 and will be removed in 1.6. To calculate the root mean squared error, use the function'root_mean_squared_error'.\n",
      "  warnings.warn(\n",
      "                                                \n",
      "\u001b[A                                    \n",
      "\n",
      " 25%|██▌       | 25/100 [16:17<50:21, 40.28s/it]\n",
      "\u001b[A\n",
      "\u001b[A"
     ]
    },
    {
     "name": "stdout",
     "output_type": "stream",
     "text": [
      "{'eval_loss': 0.03599591553211212, 'eval_rmse': 0.18574871122837067, 'eval_runtime': 7.8121, 'eval_samples_per_second': 1.28, 'eval_steps_per_second': 0.256, 'epoch': 10.0}\n"
     ]
    },
    {
     "name": "stderr",
     "output_type": "stream",
     "text": [
      " 27%|██▋       | 27/100 [17:52<54:55, 45.14s/it]\n",
      "\u001b[A\n",
      "\u001b[Ad:\\research_models\\handwritten_ocr\\handwritten_ocr\\.venv\\Lib\\site-packages\\sklearn\\metrics\\_regression.py:492: FutureWarning: 'squared' is deprecated in version 1.4 and will be removed in 1.6. To calculate the root mean squared error, use the function'root_mean_squared_error'.\n",
      "  warnings.warn(\n",
      "                                                \n",
      "\u001b[A                                    \n",
      "\n",
      " 27%|██▋       | 27/100 [18:06<54:55, 45.14s/it]\n",
      "\u001b[A\n",
      "\u001b[A"
     ]
    },
    {
     "name": "stdout",
     "output_type": "stream",
     "text": [
      "{'eval_loss': 0.028971713036298752, 'eval_rmse': 0.167036235332489, 'eval_runtime': 5.8679, 'eval_samples_per_second': 1.704, 'eval_steps_per_second': 0.341, 'epoch': 10.8}\n"
     ]
    },
    {
     "name": "stderr",
     "output_type": "stream",
     "text": [
      "                                                \n",
      " 30%|███       | 30/100 [19:30<42:06, 36.10s/it]"
     ]
    },
    {
     "name": "stdout",
     "output_type": "stream",
     "text": [
      "{'loss': 0.0913, 'grad_norm': 4.623361110687256, 'learning_rate': 3.5e-06, 'epoch': 12.0}\n"
     ]
    },
    {
     "name": "stderr",
     "output_type": "stream",
     "text": [
      "\n",
      "\u001b[A\n",
      "\u001b[Ad:\\research_models\\handwritten_ocr\\handwritten_ocr\\.venv\\Lib\\site-packages\\sklearn\\metrics\\_regression.py:492: FutureWarning: 'squared' is deprecated in version 1.4 and will be removed in 1.6. To calculate the root mean squared error, use the function'root_mean_squared_error'.\n",
      "  warnings.warn(\n",
      "                                                \n",
      "\u001b[A                                    \n",
      "\n",
      " 30%|███       | 30/100 [19:36<42:06, 36.10s/it]\n",
      "\u001b[A\n",
      "\u001b[A"
     ]
    },
    {
     "name": "stdout",
     "output_type": "stream",
     "text": [
      "{'eval_loss': 0.02302347496151924, 'eval_rmse': 0.1495971828699112, 'eval_runtime': 6.162, 'eval_samples_per_second': 1.623, 'eval_steps_per_second': 0.325, 'epoch': 12.0}\n"
     ]
    },
    {
     "name": "stderr",
     "output_type": "stream",
     "text": [
      " 32%|███▏      | 32/100 [21:04<46:48, 41.30s/it]\n",
      "\u001b[A\n",
      "\u001b[Ad:\\research_models\\handwritten_ocr\\handwritten_ocr\\.venv\\Lib\\site-packages\\sklearn\\metrics\\_regression.py:492: FutureWarning: 'squared' is deprecated in version 1.4 and will be removed in 1.6. To calculate the root mean squared error, use the function'root_mean_squared_error'.\n",
      "  warnings.warn(\n",
      "                                                \n",
      "\u001b[A                                    \n",
      "\n",
      " 32%|███▏      | 32/100 [21:20<46:48, 41.30s/it]\n",
      "\u001b[A\n",
      "\u001b[A"
     ]
    },
    {
     "name": "stdout",
     "output_type": "stream",
     "text": [
      "{'eval_loss': 0.022401798516511917, 'eval_rmse': 0.14805589616298676, 'eval_runtime': 6.0538, 'eval_samples_per_second': 1.652, 'eval_steps_per_second': 0.33, 'epoch': 12.8}\n"
     ]
    },
    {
     "name": "stderr",
     "output_type": "stream",
     "text": [
      " 35%|███▌      | 35/100 [22:43<37:49, 34.92s/it]\n",
      "\u001b[A\n",
      "\u001b[Ad:\\research_models\\handwritten_ocr\\handwritten_ocr\\.venv\\Lib\\site-packages\\sklearn\\metrics\\_regression.py:492: FutureWarning: 'squared' is deprecated in version 1.4 and will be removed in 1.6. To calculate the root mean squared error, use the function'root_mean_squared_error'.\n",
      "  warnings.warn(\n",
      "                                                \n",
      "\u001b[A                                    \n",
      "\n",
      " 35%|███▌      | 35/100 [22:49<37:49, 34.92s/it]\n",
      "\u001b[A\n",
      "\u001b[A"
     ]
    },
    {
     "name": "stdout",
     "output_type": "stream",
     "text": [
      "{'eval_loss': 0.02306133136153221, 'eval_rmse': 0.15033316612243652, 'eval_runtime': 6.1602, 'eval_samples_per_second': 1.623, 'eval_steps_per_second': 0.325, 'epoch': 14.0}\n"
     ]
    },
    {
     "name": "stderr",
     "output_type": "stream",
     "text": [
      " 37%|███▋      | 37/100 [24:09<40:33, 38.63s/it]\n",
      "\u001b[A\n",
      "\u001b[Ad:\\research_models\\handwritten_ocr\\handwritten_ocr\\.venv\\Lib\\site-packages\\sklearn\\metrics\\_regression.py:492: FutureWarning: 'squared' is deprecated in version 1.4 and will be removed in 1.6. To calculate the root mean squared error, use the function'root_mean_squared_error'.\n",
      "  warnings.warn(\n",
      "                                                \n",
      "\u001b[A                                    \n",
      "\n",
      " 37%|███▋      | 37/100 [24:24<40:33, 38.63s/it]\n",
      "\u001b[A\n",
      "\u001b[A"
     ]
    },
    {
     "name": "stdout",
     "output_type": "stream",
     "text": [
      "{'eval_loss': 0.021645251661539078, 'eval_rmse': 0.14680461585521698, 'eval_runtime': 6.0959, 'eval_samples_per_second': 1.64, 'eval_steps_per_second': 0.328, 'epoch': 14.8}\n"
     ]
    },
    {
     "name": "stderr",
     "output_type": "stream",
     "text": [
      "                                                \n",
      " 40%|████      | 40/100 [25:55<36:01, 36.03s/it]"
     ]
    },
    {
     "name": "stdout",
     "output_type": "stream",
     "text": [
      "{'loss': 0.0621, 'grad_norm': 4.315786838531494, 'learning_rate': 3e-06, 'epoch': 16.0}\n"
     ]
    },
    {
     "name": "stderr",
     "output_type": "stream",
     "text": [
      "\n",
      "\u001b[A\n",
      "\u001b[Ad:\\research_models\\handwritten_ocr\\handwritten_ocr\\.venv\\Lib\\site-packages\\sklearn\\metrics\\_regression.py:492: FutureWarning: 'squared' is deprecated in version 1.4 and will be removed in 1.6. To calculate the root mean squared error, use the function'root_mean_squared_error'.\n",
      "  warnings.warn(\n",
      "                                                \n",
      "\u001b[A                                    \n",
      "\n",
      " 40%|████      | 40/100 [26:02<36:01, 36.03s/it]\n",
      "\u001b[A\n",
      "\u001b[A"
     ]
    },
    {
     "name": "stdout",
     "output_type": "stream",
     "text": [
      "{'eval_loss': 0.021104011684656143, 'eval_rmse': 0.1450696587562561, 'eval_runtime': 6.4919, 'eval_samples_per_second': 1.54, 'eval_steps_per_second': 0.308, 'epoch': 16.0}\n"
     ]
    },
    {
     "name": "stderr",
     "output_type": "stream",
     "text": [
      " 42%|████▏     | 42/100 [27:20<37:26, 38.73s/it]\n",
      "\u001b[A\n",
      "\u001b[Ad:\\research_models\\handwritten_ocr\\handwritten_ocr\\.venv\\Lib\\site-packages\\sklearn\\metrics\\_regression.py:492: FutureWarning: 'squared' is deprecated in version 1.4 and will be removed in 1.6. To calculate the root mean squared error, use the function'root_mean_squared_error'.\n",
      "  warnings.warn(\n",
      "                                                \n",
      "\u001b[A                                    \n",
      "\n",
      " 42%|████▏     | 42/100 [27:35<37:26, 38.73s/it]\n",
      "\u001b[A\n",
      "\u001b[A"
     ]
    },
    {
     "name": "stdout",
     "output_type": "stream",
     "text": [
      "{'eval_loss': 0.02209676057100296, 'eval_rmse': 0.14849849045276642, 'eval_runtime': 6.2114, 'eval_samples_per_second': 1.61, 'eval_steps_per_second': 0.322, 'epoch': 16.8}\n"
     ]
    },
    {
     "name": "stderr",
     "output_type": "stream",
     "text": [
      " 45%|████▌     | 45/100 [29:01<31:40, 34.56s/it]\n",
      "\u001b[A\n",
      "\u001b[Ad:\\research_models\\handwritten_ocr\\handwritten_ocr\\.venv\\Lib\\site-packages\\sklearn\\metrics\\_regression.py:492: FutureWarning: 'squared' is deprecated in version 1.4 and will be removed in 1.6. To calculate the root mean squared error, use the function'root_mean_squared_error'.\n",
      "  warnings.warn(\n",
      "                                                \n",
      "\u001b[A                                    \n",
      "\n",
      " 45%|████▌     | 45/100 [29:07<31:40, 34.56s/it]\n",
      "\u001b[A\n",
      "\u001b[A"
     ]
    },
    {
     "name": "stdout",
     "output_type": "stream",
     "text": [
      "{'eval_loss': 0.025093773379921913, 'eval_rmse': 0.15840451419353485, 'eval_runtime': 5.9391, 'eval_samples_per_second': 1.684, 'eval_steps_per_second': 0.337, 'epoch': 18.0}\n"
     ]
    },
    {
     "name": "stderr",
     "output_type": "stream",
     "text": [
      " 47%|████▋     | 47/100 [30:29<34:45, 39.35s/it]\n",
      "\u001b[A\n",
      "\u001b[Ad:\\research_models\\handwritten_ocr\\handwritten_ocr\\.venv\\Lib\\site-packages\\sklearn\\metrics\\_regression.py:492: FutureWarning: 'squared' is deprecated in version 1.4 and will be removed in 1.6. To calculate the root mean squared error, use the function'root_mean_squared_error'.\n",
      "  warnings.warn(\n",
      "                                                \n",
      "\u001b[A                                    \n",
      "\n",
      " 47%|████▋     | 47/100 [30:43<34:45, 39.35s/it]\n",
      "\u001b[A\n",
      "\u001b[A"
     ]
    },
    {
     "name": "stdout",
     "output_type": "stream",
     "text": [
      "{'eval_loss': 0.02579115703701973, 'eval_rmse': 0.1605810970067978, 'eval_runtime': 5.7873, 'eval_samples_per_second': 1.728, 'eval_steps_per_second': 0.346, 'epoch': 18.8}\n"
     ]
    },
    {
     "name": "stderr",
     "output_type": "stream",
     "text": [
      "                                                \n",
      " 50%|█████     | 50/100 [32:06<28:32, 34.25s/it]"
     ]
    },
    {
     "name": "stdout",
     "output_type": "stream",
     "text": [
      "{'loss': 0.0489, 'grad_norm': 2.712169647216797, 'learning_rate': 2.5e-06, 'epoch': 20.0}\n"
     ]
    },
    {
     "name": "stderr",
     "output_type": "stream",
     "text": [
      "\n",
      "\u001b[A\n",
      "\u001b[Ad:\\research_models\\handwritten_ocr\\handwritten_ocr\\.venv\\Lib\\site-packages\\sklearn\\metrics\\_regression.py:492: FutureWarning: 'squared' is deprecated in version 1.4 and will be removed in 1.6. To calculate the root mean squared error, use the function'root_mean_squared_error'.\n",
      "  warnings.warn(\n",
      "                                                \n",
      "\u001b[A                                    \n",
      "\n",
      " 50%|█████     | 50/100 [32:12<28:32, 34.25s/it]\n",
      "\u001b[A\n",
      "\u001b[A"
     ]
    },
    {
     "name": "stdout",
     "output_type": "stream",
     "text": [
      "{'eval_loss': 0.02523222006857395, 'eval_rmse': 0.15810494124889374, 'eval_runtime': 6.1984, 'eval_samples_per_second': 1.613, 'eval_steps_per_second': 0.323, 'epoch': 20.0}\n"
     ]
    },
    {
     "name": "stderr",
     "output_type": "stream",
     "text": [
      " 52%|█████▏    | 52/100 [33:24<29:01, 36.28s/it]\n",
      "\u001b[A\n",
      "\u001b[Ad:\\research_models\\handwritten_ocr\\handwritten_ocr\\.venv\\Lib\\site-packages\\sklearn\\metrics\\_regression.py:492: FutureWarning: 'squared' is deprecated in version 1.4 and will be removed in 1.6. To calculate the root mean squared error, use the function'root_mean_squared_error'.\n",
      "  warnings.warn(\n",
      "                                                \n",
      "\u001b[A                                    \n",
      "\n",
      " 52%|█████▏    | 52/100 [33:39<29:01, 36.28s/it]\n",
      "\u001b[A\n",
      "\u001b[A"
     ]
    },
    {
     "name": "stdout",
     "output_type": "stream",
     "text": [
      "{'eval_loss': 0.024291595444083214, 'eval_rmse': 0.15457399189472198, 'eval_runtime': 6.6807, 'eval_samples_per_second': 1.497, 'eval_steps_per_second': 0.299, 'epoch': 20.8}\n"
     ]
    },
    {
     "name": "stderr",
     "output_type": "stream",
     "text": [
      " 55%|█████▌    | 55/100 [35:03<24:56, 33.25s/it]\n",
      "\u001b[A\n",
      "\u001b[Ad:\\research_models\\handwritten_ocr\\handwritten_ocr\\.venv\\Lib\\site-packages\\sklearn\\metrics\\_regression.py:492: FutureWarning: 'squared' is deprecated in version 1.4 and will be removed in 1.6. To calculate the root mean squared error, use the function'root_mean_squared_error'.\n",
      "  warnings.warn(\n",
      "                                                \n",
      "\u001b[A                                    \n",
      "\n",
      " 55%|█████▌    | 55/100 [35:09<24:56, 33.25s/it]\n",
      "\u001b[A\n",
      "\u001b[A"
     ]
    },
    {
     "name": "stdout",
     "output_type": "stream",
     "text": [
      "{'eval_loss': 0.023527059704065323, 'eval_rmse': 0.15208153426647186, 'eval_runtime': 6.0531, 'eval_samples_per_second': 1.652, 'eval_steps_per_second': 0.33, 'epoch': 22.0}\n"
     ]
    },
    {
     "name": "stderr",
     "output_type": "stream",
     "text": [
      " 57%|█████▋    | 57/100 [36:17<24:54, 34.75s/it]\n",
      "\u001b[A\n",
      "\u001b[Ad:\\research_models\\handwritten_ocr\\handwritten_ocr\\.venv\\Lib\\site-packages\\sklearn\\metrics\\_regression.py:492: FutureWarning: 'squared' is deprecated in version 1.4 and will be removed in 1.6. To calculate the root mean squared error, use the function'root_mean_squared_error'.\n",
      "  warnings.warn(\n",
      "                                                \n",
      "\u001b[A                                    \n",
      "\n",
      " 57%|█████▋    | 57/100 [36:30<24:54, 34.75s/it]\n",
      "\u001b[A\n",
      "\u001b[A"
     ]
    },
    {
     "name": "stdout",
     "output_type": "stream",
     "text": [
      "{'eval_loss': 0.02390977554023266, 'eval_rmse': 0.15339680016040802, 'eval_runtime': 5.4758, 'eval_samples_per_second': 1.826, 'eval_steps_per_second': 0.365, 'epoch': 22.8}\n"
     ]
    },
    {
     "name": "stderr",
     "output_type": "stream",
     "text": [
      "                                                \n",
      " 60%|██████    | 60/100 [37:45<20:25, 30.64s/it]"
     ]
    },
    {
     "name": "stdout",
     "output_type": "stream",
     "text": [
      "{'loss': 0.0426, 'grad_norm': 4.139486312866211, 'learning_rate': 2.0000000000000003e-06, 'epoch': 24.0}\n"
     ]
    },
    {
     "name": "stderr",
     "output_type": "stream",
     "text": [
      "\n",
      "\u001b[A\n",
      "\u001b[Ad:\\research_models\\handwritten_ocr\\handwritten_ocr\\.venv\\Lib\\site-packages\\sklearn\\metrics\\_regression.py:492: FutureWarning: 'squared' is deprecated in version 1.4 and will be removed in 1.6. To calculate the root mean squared error, use the function'root_mean_squared_error'.\n",
      "  warnings.warn(\n",
      "                                                \n",
      "\u001b[A                                      \n",
      "\n",
      " 60%|██████    | 60/100 [37:51<20:25, 30.64s/it]\n",
      "\u001b[A\n",
      "\u001b[A"
     ]
    },
    {
     "name": "stdout",
     "output_type": "stream",
     "text": [
      "{'eval_loss': 0.025781134143471718, 'eval_rmse': 0.15909041464328766, 'eval_runtime': 6.0232, 'eval_samples_per_second': 1.66, 'eval_steps_per_second': 0.332, 'epoch': 24.0}\n"
     ]
    },
    {
     "name": "stderr",
     "output_type": "stream",
     "text": [
      " 62%|██████▏   | 62/100 [39:01<21:30, 33.95s/it]\n",
      "\u001b[A\n",
      "\u001b[Ad:\\research_models\\handwritten_ocr\\handwritten_ocr\\.venv\\Lib\\site-packages\\sklearn\\metrics\\_regression.py:492: FutureWarning: 'squared' is deprecated in version 1.4 and will be removed in 1.6. To calculate the root mean squared error, use the function'root_mean_squared_error'.\n",
      "  warnings.warn(\n",
      "                                                \n",
      "\u001b[A                                      \n",
      "\n",
      " 62%|██████▏   | 62/100 [39:14<21:30, 33.95s/it]\n",
      "\u001b[A\n",
      "\u001b[A"
     ]
    },
    {
     "name": "stdout",
     "output_type": "stream",
     "text": [
      "{'eval_loss': 0.027242830023169518, 'eval_rmse': 0.16288836300373077, 'eval_runtime': 5.7172, 'eval_samples_per_second': 1.749, 'eval_steps_per_second': 0.35, 'epoch': 24.8}\n"
     ]
    },
    {
     "name": "stderr",
     "output_type": "stream",
     "text": [
      " 65%|██████▌   | 65/100 [40:36<18:34, 31.85s/it]\n",
      "\u001b[A\n",
      "\u001b[Ad:\\research_models\\handwritten_ocr\\handwritten_ocr\\.venv\\Lib\\site-packages\\sklearn\\metrics\\_regression.py:492: FutureWarning: 'squared' is deprecated in version 1.4 and will be removed in 1.6. To calculate the root mean squared error, use the function'root_mean_squared_error'.\n",
      "  warnings.warn(\n",
      "                                                \n",
      "\u001b[A                                      \n",
      "\n",
      " 65%|██████▌   | 65/100 [40:42<18:34, 31.85s/it]\n",
      "\u001b[A\n",
      "\u001b[A"
     ]
    },
    {
     "name": "stdout",
     "output_type": "stream",
     "text": [
      "{'eval_loss': 0.0274873785674572, 'eval_rmse': 0.16334159672260284, 'eval_runtime': 6.1054, 'eval_samples_per_second': 1.638, 'eval_steps_per_second': 0.328, 'epoch': 26.0}\n"
     ]
    },
    {
     "name": "stderr",
     "output_type": "stream",
     "text": [
      " 67%|██████▋   | 67/100 [41:53<19:11, 34.89s/it]\n",
      "\u001b[A\n",
      "\u001b[Ad:\\research_models\\handwritten_ocr\\handwritten_ocr\\.venv\\Lib\\site-packages\\sklearn\\metrics\\_regression.py:492: FutureWarning: 'squared' is deprecated in version 1.4 and will be removed in 1.6. To calculate the root mean squared error, use the function'root_mean_squared_error'.\n",
      "  warnings.warn(\n",
      "                                                \n",
      "\u001b[A                                      \n",
      "\n",
      " 67%|██████▋   | 67/100 [42:08<19:11, 34.89s/it]\n",
      "\u001b[A\n",
      "\u001b[A"
     ]
    },
    {
     "name": "stdout",
     "output_type": "stream",
     "text": [
      "{'eval_loss': 0.026293110102415085, 'eval_rmse': 0.16021643579006195, 'eval_runtime': 5.7074, 'eval_samples_per_second': 1.752, 'eval_steps_per_second': 0.35, 'epoch': 26.8}\n"
     ]
    },
    {
     "name": "stderr",
     "output_type": "stream",
     "text": [
      "                                                \n",
      " 70%|███████   | 70/100 [43:24<15:30, 31.02s/it]"
     ]
    },
    {
     "name": "stdout",
     "output_type": "stream",
     "text": [
      "{'loss': 0.0346, 'grad_norm': 1.4431077241897583, 'learning_rate': 1.5e-06, 'epoch': 28.0}\n"
     ]
    },
    {
     "name": "stderr",
     "output_type": "stream",
     "text": [
      "\n",
      "\u001b[A\n",
      "\u001b[Ad:\\research_models\\handwritten_ocr\\handwritten_ocr\\.venv\\Lib\\site-packages\\sklearn\\metrics\\_regression.py:492: FutureWarning: 'squared' is deprecated in version 1.4 and will be removed in 1.6. To calculate the root mean squared error, use the function'root_mean_squared_error'.\n",
      "  warnings.warn(\n",
      "                                                \n",
      "\u001b[A                                      \n",
      "\n",
      " 70%|███████   | 70/100 [43:29<15:30, 31.02s/it]\n",
      "\u001b[A\n",
      "\u001b[A"
     ]
    },
    {
     "name": "stdout",
     "output_type": "stream",
     "text": [
      "{'eval_loss': 0.023362549021840096, 'eval_rmse': 0.1521606594324112, 'eval_runtime': 5.6283, 'eval_samples_per_second': 1.777, 'eval_steps_per_second': 0.355, 'epoch': 28.0}\n"
     ]
    },
    {
     "name": "stderr",
     "output_type": "stream",
     "text": [
      " 72%|███████▏  | 72/100 [44:37<15:39, 33.56s/it]\n",
      "\u001b[A\n",
      "\u001b[Ad:\\research_models\\handwritten_ocr\\handwritten_ocr\\.venv\\Lib\\site-packages\\sklearn\\metrics\\_regression.py:492: FutureWarning: 'squared' is deprecated in version 1.4 and will be removed in 1.6. To calculate the root mean squared error, use the function'root_mean_squared_error'.\n",
      "  warnings.warn(\n",
      "                                                \n",
      "\u001b[A                                      \n",
      "\n",
      " 72%|███████▏  | 72/100 [44:51<15:39, 33.56s/it]\n",
      "\u001b[A\n",
      "\u001b[A"
     ]
    },
    {
     "name": "stdout",
     "output_type": "stream",
     "text": [
      "{'eval_loss': 0.02235650271177292, 'eval_rmse': 0.14908553659915924, 'eval_runtime': 5.8191, 'eval_samples_per_second': 1.718, 'eval_steps_per_second': 0.344, 'epoch': 28.8}\n"
     ]
    },
    {
     "name": "stderr",
     "output_type": "stream",
     "text": [
      " 75%|███████▌  | 75/100 [46:09<12:57, 31.08s/it]\n",
      "\u001b[A\n",
      "\u001b[Ad:\\research_models\\handwritten_ocr\\handwritten_ocr\\.venv\\Lib\\site-packages\\sklearn\\metrics\\_regression.py:492: FutureWarning: 'squared' is deprecated in version 1.4 and will be removed in 1.6. To calculate the root mean squared error, use the function'root_mean_squared_error'.\n",
      "  warnings.warn(\n",
      "                                                \n",
      "\u001b[A                                      \n",
      "\n",
      " 75%|███████▌  | 75/100 [46:15<12:57, 31.08s/it]\n",
      "\u001b[A\n",
      "\u001b[A"
     ]
    },
    {
     "name": "stdout",
     "output_type": "stream",
     "text": [
      "{'eval_loss': 0.021803326904773712, 'eval_rmse': 0.14713524281978607, 'eval_runtime': 5.6633, 'eval_samples_per_second': 1.766, 'eval_steps_per_second': 0.353, 'epoch': 30.0}\n"
     ]
    },
    {
     "name": "stderr",
     "output_type": "stream",
     "text": [
      " 77%|███████▋  | 77/100 [47:25<13:08, 34.29s/it]\n",
      "\u001b[A\n",
      "\u001b[Ad:\\research_models\\handwritten_ocr\\handwritten_ocr\\.venv\\Lib\\site-packages\\sklearn\\metrics\\_regression.py:492: FutureWarning: 'squared' is deprecated in version 1.4 and will be removed in 1.6. To calculate the root mean squared error, use the function'root_mean_squared_error'.\n",
      "  warnings.warn(\n",
      "                                                \n",
      "\u001b[A                                      \n",
      "\n",
      " 77%|███████▋  | 77/100 [47:38<13:08, 34.29s/it]\n",
      "\u001b[A\n",
      "\u001b[A"
     ]
    },
    {
     "name": "stdout",
     "output_type": "stream",
     "text": [
      "{'eval_loss': 0.021548207849264145, 'eval_rmse': 0.14630639553070068, 'eval_runtime': 5.5223, 'eval_samples_per_second': 1.811, 'eval_steps_per_second': 0.362, 'epoch': 30.8}\n"
     ]
    },
    {
     "name": "stderr",
     "output_type": "stream",
     "text": [
      "                                                \n",
      " 80%|████████  | 80/100 [48:54<10:09, 30.48s/it]"
     ]
    },
    {
     "name": "stdout",
     "output_type": "stream",
     "text": [
      "{'loss': 0.0347, 'grad_norm': 3.051319122314453, 'learning_rate': 1.0000000000000002e-06, 'epoch': 32.0}\n"
     ]
    },
    {
     "name": "stderr",
     "output_type": "stream",
     "text": [
      "\n",
      "\u001b[A\n",
      "\u001b[Ad:\\research_models\\handwritten_ocr\\handwritten_ocr\\.venv\\Lib\\site-packages\\sklearn\\metrics\\_regression.py:492: FutureWarning: 'squared' is deprecated in version 1.4 and will be removed in 1.6. To calculate the root mean squared error, use the function'root_mean_squared_error'.\n",
      "  warnings.warn(\n",
      "                                                \n",
      "\u001b[A                                      \n",
      "\n",
      " 80%|████████  | 80/100 [48:59<10:09, 30.48s/it]\n",
      "\u001b[A\n",
      "\u001b[A"
     ]
    },
    {
     "name": "stdout",
     "output_type": "stream",
     "text": [
      "{'eval_loss': 0.022010961547493935, 'eval_rmse': 0.14751629531383514, 'eval_runtime': 5.648, 'eval_samples_per_second': 1.771, 'eval_steps_per_second': 0.354, 'epoch': 32.0}\n"
     ]
    },
    {
     "name": "stderr",
     "output_type": "stream",
     "text": [
      " 82%|████████▏ | 82/100 [50:08<10:05, 33.66s/it]\n",
      "\u001b[A\n",
      "\u001b[Ad:\\research_models\\handwritten_ocr\\handwritten_ocr\\.venv\\Lib\\site-packages\\sklearn\\metrics\\_regression.py:492: FutureWarning: 'squared' is deprecated in version 1.4 and will be removed in 1.6. To calculate the root mean squared error, use the function'root_mean_squared_error'.\n",
      "  warnings.warn(\n",
      "                                                \n",
      "\u001b[A                                      \n",
      "\n",
      " 82%|████████▏ | 82/100 [50:23<10:05, 33.66s/it]\n",
      "\u001b[A\n",
      "\u001b[A"
     ]
    },
    {
     "name": "stdout",
     "output_type": "stream",
     "text": [
      "{'eval_loss': 0.022630486637353897, 'eval_rmse': 0.14926284551620483, 'eval_runtime': 6.3264, 'eval_samples_per_second': 1.581, 'eval_steps_per_second': 0.316, 'epoch': 32.8}\n"
     ]
    },
    {
     "name": "stderr",
     "output_type": "stream",
     "text": [
      " 85%|████████▌ | 85/100 [51:41<07:45, 31.02s/it]\n",
      "\u001b[A\n",
      "\u001b[Ad:\\research_models\\handwritten_ocr\\handwritten_ocr\\.venv\\Lib\\site-packages\\sklearn\\metrics\\_regression.py:492: FutureWarning: 'squared' is deprecated in version 1.4 and will be removed in 1.6. To calculate the root mean squared error, use the function'root_mean_squared_error'.\n",
      "  warnings.warn(\n",
      "                                                \n",
      "\u001b[A                                      \n",
      "\n",
      " 85%|████████▌ | 85/100 [51:46<07:45, 31.02s/it]\n",
      "\u001b[A\n",
      "\u001b[A"
     ]
    },
    {
     "name": "stdout",
     "output_type": "stream",
     "text": [
      "{'eval_loss': 0.022970618680119514, 'eval_rmse': 0.15026313066482544, 'eval_runtime': 5.5758, 'eval_samples_per_second': 1.793, 'eval_steps_per_second': 0.359, 'epoch': 34.0}\n"
     ]
    },
    {
     "name": "stderr",
     "output_type": "stream",
     "text": [
      " 87%|████████▋ | 87/100 [52:53<07:13, 33.38s/it]\n",
      "\u001b[A\n",
      "\u001b[Ad:\\research_models\\handwritten_ocr\\handwritten_ocr\\.venv\\Lib\\site-packages\\sklearn\\metrics\\_regression.py:492: FutureWarning: 'squared' is deprecated in version 1.4 and will be removed in 1.6. To calculate the root mean squared error, use the function'root_mean_squared_error'.\n",
      "  warnings.warn(\n",
      "                                                \n",
      "\u001b[A                                      \n",
      "\n",
      " 87%|████████▋ | 87/100 [53:07<07:13, 33.38s/it]\n",
      "\u001b[A\n",
      "\u001b[A"
     ]
    },
    {
     "name": "stdout",
     "output_type": "stream",
     "text": [
      "{'eval_loss': 0.02302488498389721, 'eval_rmse': 0.15046902000904083, 'eval_runtime': 5.6589, 'eval_samples_per_second': 1.767, 'eval_steps_per_second': 0.353, 'epoch': 34.8}\n"
     ]
    },
    {
     "name": "stderr",
     "output_type": "stream",
     "text": [
      "                                                \n",
      " 90%|█████████ | 90/100 [54:25<05:08, 30.84s/it]"
     ]
    },
    {
     "name": "stdout",
     "output_type": "stream",
     "text": [
      "{'loss': 0.0296, 'grad_norm': 0.7940732836723328, 'learning_rate': 5.000000000000001e-07, 'epoch': 36.0}\n"
     ]
    },
    {
     "name": "stderr",
     "output_type": "stream",
     "text": [
      "\n",
      "\u001b[A\n",
      "\u001b[Ad:\\research_models\\handwritten_ocr\\handwritten_ocr\\.venv\\Lib\\site-packages\\sklearn\\metrics\\_regression.py:492: FutureWarning: 'squared' is deprecated in version 1.4 and will be removed in 1.6. To calculate the root mean squared error, use the function'root_mean_squared_error'.\n",
      "  warnings.warn(\n",
      "                                                \n",
      "\u001b[A                                      \n",
      "\n",
      " 90%|█████████ | 90/100 [54:30<05:08, 30.84s/it]\n",
      "\u001b[A\n",
      "\u001b[A"
     ]
    },
    {
     "name": "stdout",
     "output_type": "stream",
     "text": [
      "{'eval_loss': 0.022788193076848984, 'eval_rmse': 0.14994406700134277, 'eval_runtime': 5.642, 'eval_samples_per_second': 1.772, 'eval_steps_per_second': 0.354, 'epoch': 36.0}\n"
     ]
    },
    {
     "name": "stderr",
     "output_type": "stream",
     "text": [
      " 92%|█████████▏| 92/100 [55:37<04:26, 33.29s/it]\n",
      "\u001b[A\n",
      "\u001b[Ad:\\research_models\\handwritten_ocr\\handwritten_ocr\\.venv\\Lib\\site-packages\\sklearn\\metrics\\_regression.py:492: FutureWarning: 'squared' is deprecated in version 1.4 and will be removed in 1.6. To calculate the root mean squared error, use the function'root_mean_squared_error'.\n",
      "  warnings.warn(\n",
      "                                                \n",
      "\u001b[A                                      \n",
      "\n",
      " 92%|█████████▏| 92/100 [55:50<04:26, 33.29s/it]\n",
      "\u001b[A\n",
      "\u001b[A"
     ]
    },
    {
     "name": "stdout",
     "output_type": "stream",
     "text": [
      "{'eval_loss': 0.022649070248007774, 'eval_rmse': 0.14962796866893768, 'eval_runtime': 5.4121, 'eval_samples_per_second': 1.848, 'eval_steps_per_second': 0.37, 'epoch': 36.8}\n"
     ]
    },
    {
     "name": "stderr",
     "output_type": "stream",
     "text": [
      " 95%|█████████▌| 95/100 [57:07<02:33, 30.61s/it]\n",
      "\u001b[A\n",
      "\u001b[Ad:\\research_models\\handwritten_ocr\\handwritten_ocr\\.venv\\Lib\\site-packages\\sklearn\\metrics\\_regression.py:492: FutureWarning: 'squared' is deprecated in version 1.4 and will be removed in 1.6. To calculate the root mean squared error, use the function'root_mean_squared_error'.\n",
      "  warnings.warn(\n",
      "                                                \n",
      "\u001b[A                                      \n",
      "\n",
      " 95%|█████████▌| 95/100 [57:12<02:33, 30.61s/it]\n",
      "\u001b[A\n",
      "\u001b[A"
     ]
    },
    {
     "name": "stdout",
     "output_type": "stream",
     "text": [
      "{'eval_loss': 0.02253524772822857, 'eval_rmse': 0.14932458102703094, 'eval_runtime': 5.4552, 'eval_samples_per_second': 1.833, 'eval_steps_per_second': 0.367, 'epoch': 38.0}\n"
     ]
    },
    {
     "name": "stderr",
     "output_type": "stream",
     "text": [
      " 97%|█████████▋| 97/100 [58:18<01:38, 32.79s/it]\n",
      "\u001b[A\n",
      "\u001b[Ad:\\research_models\\handwritten_ocr\\handwritten_ocr\\.venv\\Lib\\site-packages\\sklearn\\metrics\\_regression.py:492: FutureWarning: 'squared' is deprecated in version 1.4 and will be removed in 1.6. To calculate the root mean squared error, use the function'root_mean_squared_error'.\n",
      "  warnings.warn(\n",
      "                                                \n",
      "\u001b[A                                      \n",
      "\n",
      " 97%|█████████▋| 97/100 [58:31<01:38, 32.79s/it]\n",
      "\u001b[A\n",
      "\u001b[A"
     ]
    },
    {
     "name": "stdout",
     "output_type": "stream",
     "text": [
      "{'eval_loss': 0.022466639056801796, 'eval_rmse': 0.14915348589420319, 'eval_runtime': 5.4462, 'eval_samples_per_second': 1.836, 'eval_steps_per_second': 0.367, 'epoch': 38.8}\n"
     ]
    },
    {
     "name": "stderr",
     "output_type": "stream",
     "text": [
      "                                                 \n",
      "100%|██████████| 100/100 [59:54<00:00, 31.89s/it]"
     ]
    },
    {
     "name": "stdout",
     "output_type": "stream",
     "text": [
      "{'loss': 0.026, 'grad_norm': 1.0884042978286743, 'learning_rate': 0.0, 'epoch': 40.0}\n"
     ]
    },
    {
     "name": "stderr",
     "output_type": "stream",
     "text": [
      "\n",
      "\u001b[A\n",
      "\u001b[Ad:\\research_models\\handwritten_ocr\\handwritten_ocr\\.venv\\Lib\\site-packages\\sklearn\\metrics\\_regression.py:492: FutureWarning: 'squared' is deprecated in version 1.4 and will be removed in 1.6. To calculate the root mean squared error, use the function'root_mean_squared_error'.\n",
      "  warnings.warn(\n",
      "                                                 \n",
      "\u001b[A                                      \n",
      "\n",
      "100%|██████████| 100/100 [1:00:02<00:00, 31.89s/it]\n",
      "\u001b[A\n",
      "\u001b[A"
     ]
    },
    {
     "name": "stdout",
     "output_type": "stream",
     "text": [
      "{'eval_loss': 0.022415360435843468, 'eval_rmse': 0.14900733530521393, 'eval_runtime': 6.1482, 'eval_samples_per_second': 1.626, 'eval_steps_per_second': 0.325, 'epoch': 40.0}\n"
     ]
    },
    {
     "name": "stderr",
     "output_type": "stream",
     "text": [
      "                                                   \n",
      "100%|██████████| 100/100 [1:00:04<00:00, 36.05s/it]"
     ]
    },
    {
     "name": "stdout",
     "output_type": "stream",
     "text": [
      "{'train_runtime': 3604.737, 'train_samples_per_second': 0.499, 'train_steps_per_second': 0.028, 'train_loss': 0.13698517948389052, 'epoch': 40.0}\n"
     ]
    },
    {
     "name": "stderr",
     "output_type": "stream",
     "text": [
      "\n"
     ]
    },
    {
     "data": {
      "text/plain": [
       "TrainOutput(global_step=100, training_loss=0.13698517948389052, metrics={'train_runtime': 3604.737, 'train_samples_per_second': 0.499, 'train_steps_per_second': 0.028, 'total_flos': 0.0, 'train_loss': 0.13698517948389052, 'epoch': 40.0})"
      ]
     },
     "execution_count": 28,
     "metadata": {},
     "output_type": "execute_result"
    }
   ],
   "source": [
    "# Define custom metrics function for evaluation\n",
    "def compute_metrics(eval_pred):\n",
    "    predictions, labels = eval_pred\n",
    "    predictions = predictions.squeeze()\n",
    "    mse = mean_squared_error(labels, predictions, squared=False)\n",
    "    return {'rmse': mse}\n",
    "\n",
    "from transformers import AdamW, Trainer, TrainingArguments\n",
    "\n",
    "# Adjusted Training Arguments\n",
    "training_args = TrainingArguments(\n",
    "    output_dir='./results',\n",
    "    evaluation_strategy=\"epoch\",\n",
    "    save_strategy=\"epoch\",\n",
    "    learning_rate=5e-6,              # Lower learning rate\n",
    "    per_device_train_batch_size=8,   # Reduce batch size if needed for memory\n",
    "    per_device_eval_batch_size=8,\n",
    "    num_train_epochs=50,             # Increase epochs\n",
    "    weight_decay=0.02,               # Increased weight decay\n",
    "    load_best_model_at_end=True,\n",
    "    metric_for_best_model=\"rmse\",\n",
    "    greater_is_better=False,\n",
    "    logging_dir='./logs',\n",
    "    logging_steps=10,\n",
    "    gradient_accumulation_steps=2    # Simulate larger batch size\n",
    ")\n",
    "\n",
    "\n",
    "# Initialize Trainer with custom optimizer if necessary\n",
    "optimizer = AdamW(model.parameters(), lr=5e-6, weight_decay=0.02)\n",
    "\n",
    "\n",
    "trainer = Trainer(\n",
    "    model=model,\n",
    "    args=training_args,\n",
    "    train_dataset=train_dataset,\n",
    "    eval_dataset=val_dataset,\n",
    "    compute_metrics=compute_metrics,\n",
    "    optimizers=(optimizer, None)     # Custom optimizer if needed\n",
    ")\n",
    "\n",
    "# Fine-tune the model\n",
    "trainer.train()"
   ]
  },
  {
   "cell_type": "code",
   "execution_count": 31,
   "metadata": {},
   "outputs": [
    {
     "name": "stderr",
     "output_type": "stream",
     "text": [
      "100%|██████████| 2/2 [00:01<00:00,  1.70it/s]d:\\research_models\\handwritten_ocr\\handwritten_ocr\\.venv\\Lib\\site-packages\\sklearn\\metrics\\_regression.py:492: FutureWarning: 'squared' is deprecated in version 1.4 and will be removed in 1.6. To calculate the root mean squared error, use the function'root_mean_squared_error'.\n",
      "  warnings.warn(\n",
      "100%|██████████| 2/2 [00:01<00:00,  1.70it/s]"
     ]
    },
    {
     "name": "stdout",
     "output_type": "stream",
     "text": [
      "{'eval_loss': 0.021104011684656143, 'eval_rmse': 0.1450696587562561, 'eval_runtime': 6.168, 'eval_samples_per_second': 1.621, 'eval_steps_per_second': 0.324, 'epoch': 40.0}\n"
     ]
    },
    {
     "name": "stderr",
     "output_type": "stream",
     "text": [
      "\n"
     ]
    }
   ],
   "source": [
    "# Evaluate the model\n",
    "metrics = trainer.evaluate()\n",
    "print(metrics)"
   ]
  },
  {
   "cell_type": "code",
   "execution_count": 30,
   "metadata": {},
   "outputs": [
    {
     "data": {
      "text/plain": [
       "('./essay_scoring_model\\\\tokenizer_config.json',\n",
       " './essay_scoring_model\\\\special_tokens_map.json',\n",
       " './essay_scoring_model\\\\vocab.txt',\n",
       " './essay_scoring_model\\\\added_tokens.json')"
      ]
     },
     "execution_count": 30,
     "metadata": {},
     "output_type": "execute_result"
    }
   ],
   "source": [
    "# Save the fine-tuned model\n",
    "trainer.save_model('./essay_scoring_model')\n",
    "tokenizer.save_pretrained('./essay_scoring_model')"
   ]
  }
 ],
 "metadata": {
  "kernelspec": {
   "display_name": ".venv",
   "language": "python",
   "name": "python3"
  },
  "language_info": {
   "codemirror_mode": {
    "name": "ipython",
    "version": 3
   },
   "file_extension": ".py",
   "mimetype": "text/x-python",
   "name": "python",
   "nbconvert_exporter": "python",
   "pygments_lexer": "ipython3",
   "version": "3.12.6"
  }
 },
 "nbformat": 4,
 "nbformat_minor": 2
}
