{
 "cells": [
  {
   "cell_type": "code",
   "execution_count": 4,
   "metadata": {},
   "outputs": [
    {
     "name": "stdout",
     "output_type": "stream",
     "text": [
      "Collecting matplotlib\n",
      "  Using cached matplotlib-3.9.2-cp312-cp312-win_amd64.whl.metadata (11 kB)\n",
      "Collecting contourpy>=1.0.1 (from matplotlib)\n",
      "  Downloading contourpy-1.3.1-cp312-cp312-win_amd64.whl.metadata (5.4 kB)\n",
      "Collecting cycler>=0.10 (from matplotlib)\n",
      "  Using cached cycler-0.12.1-py3-none-any.whl.metadata (3.8 kB)\n",
      "Collecting fonttools>=4.22.0 (from matplotlib)\n",
      "  Downloading fonttools-4.55.0-cp312-cp312-win_amd64.whl.metadata (167 kB)\n",
      "Collecting kiwisolver>=1.3.1 (from matplotlib)\n",
      "  Using cached kiwisolver-1.4.7-cp312-cp312-win_amd64.whl.metadata (6.4 kB)\n",
      "Requirement already satisfied: numpy>=1.23 in .\\.venv\\lib\\site-packages (from matplotlib) (2.1.2)\n",
      "Requirement already satisfied: packaging>=20.0 in .\\.venv\\lib\\site-packages (from matplotlib) (24.1)\n",
      "Requirement already satisfied: pillow>=8 in .\\.venv\\lib\\site-packages (from matplotlib) (11.0.0)\n",
      "Requirement already satisfied: pyparsing>=2.3.1 in .\\.venv\\lib\\site-packages (from matplotlib) (3.2.0)\n",
      "Requirement already satisfied: python-dateutil>=2.7 in .\\.venv\\lib\\site-packages (from matplotlib) (2.9.0.post0)\n",
      "Requirement already satisfied: six>=1.5 in .\\.venv\\lib\\site-packages (from python-dateutil>=2.7->matplotlib) (1.16.0)\n",
      "Using cached matplotlib-3.9.2-cp312-cp312-win_amd64.whl (7.8 MB)\n",
      "Downloading contourpy-1.3.1-cp312-cp312-win_amd64.whl (220 kB)\n",
      "Using cached cycler-0.12.1-py3-none-any.whl (8.3 kB)\n",
      "Downloading fonttools-4.55.0-cp312-cp312-win_amd64.whl (2.2 MB)\n",
      "   ---------------------------------------- 0.0/2.2 MB ? eta -:--:--\n",
      "   -------------- ------------------------- 0.8/2.2 MB 4.2 MB/s eta 0:00:01\n",
      "   ---------------------------------------- 2.2/2.2 MB 5.4 MB/s eta 0:00:00\n",
      "Using cached kiwisolver-1.4.7-cp312-cp312-win_amd64.whl (55 kB)\n",
      "Installing collected packages: kiwisolver, fonttools, cycler, contourpy, matplotlib\n",
      "Successfully installed contourpy-1.3.1 cycler-0.12.1 fonttools-4.55.0 kiwisolver-1.4.7 matplotlib-3.9.2\n",
      "Note: you may need to restart the kernel to use updated packages.\n"
     ]
    }
   ],
   "source": [
    "%pip install matplotlib"
   ]
  },
  {
   "cell_type": "code",
   "execution_count": 5,
   "metadata": {},
   "outputs": [],
   "source": [
    "import pandas as pd\n",
    "import torch\n",
    "from transformers import BertTokenizer, BertModel, Trainer, TrainingArguments\n",
    "from sklearn.model_selection import train_test_split\n",
    "from sklearn.metrics import mean_squared_error\n",
    "from torch.utils.data import Dataset\n",
    "import torch.nn as nn\n",
    "import optuna\n",
    "from optuna.trial import Trial\n",
    "import torch\n",
    "from transformers import TrainingArguments\n",
    "import numpy as np\n",
    "from functools import partial"
   ]
  },
  {
   "cell_type": "code",
   "execution_count": 6,
   "metadata": {},
   "outputs": [],
   "source": [
    "# Load dataset with detected encoding\n",
    "df = pd.read_csv('all-data-engineering-quiz-utf - copy.csv')\n",
    "\n",
    "custom_prompt = \"\"\"\n",
    "Analyze the content, grammar, and structure of the given text in comparison to the ideal answer:\n",
    "\n",
    "Content:\n",
    "- Evaluate how well the student answer captures the key points and information provided in the ideal answer.\n",
    "- Provide a content relevancy score (0-3) based on how closely the student answer matches the ideal answer.\n",
    "\n",
    "Grammar: \n",
    "- Identify any grammatical errors, sentence structure issues, and make suggestions for improvement.\n",
    "- Provide a grammar score (0-5) based on the overall grammatical quality of the student answer.\n",
    "\n",
    "Structure:\n",
    "- Evaluate the organization and flow of the student answer. \n",
    "- Does it start with a hook to engage the reader? Does it have a clear explanation of the key points? Does it end with a proper conclusion?\n",
    "- Provide a structure score (0-5) based on the overall structure and coherence of the student answer.\n",
    "\n",
    "Overall, how well does the student answer match the quality and content of the ideal answer? Provide detailed feedback to help improve the student's response.\n",
    "\"\"\""
   ]
  },
  {
   "cell_type": "code",
   "execution_count": 7,
   "metadata": {},
   "outputs": [],
   "source": [
    "# Combine relevant text fields for input, joining reasoning fields if they are arrays\n",
    "df['input_text'] = (\n",
    "    df['Question'] + \" \" +\n",
    "    df['Student Answer'] + \" \" +\n",
    "    df['Ideal Answer']\n",
    ")\n",
    "\n",
    "# Define target columns\n",
    "df['content_relevancy_score'] = df['Content Relevancy Score'].astype(float)\n",
    "df['grammar_score'] = df['Grammar Score'].astype(float)\n",
    "df['structure_score'] = df['Structure Score'].astype(float)\n",
    "\n",
    "# Scale scores to range from 0 to 1 (optional for normalized regression)\n",
    "df['content_relevancy_score'] /= 3  # Normalize content relevancy score to 0-1\n",
    "df['grammar_score'] /= 5            # Normalize grammar score to 0-1\n",
    "df['structure_score'] /= 5          # Normalize structure score to 0-1\n",
    "\n",
    "# Train-test split\n",
    "train_df, val_df = train_test_split(df, test_size=0.2, random_state=42)"
   ]
  },
  {
   "cell_type": "code",
   "execution_count": 8,
   "metadata": {},
   "outputs": [],
   "source": [
    "# Initialize tokenizer\n",
    "tokenizer = BertTokenizer.from_pretrained('bert-base-uncased')"
   ]
  },
  {
   "cell_type": "code",
   "execution_count": 9,
   "metadata": {},
   "outputs": [],
   "source": [
    "# Custom Dataset Class\n",
    "class EssayDataset(Dataset):\n",
    "    def __init__(self, dataframe, tokenizer, max_length, custom_prompt):\n",
    "        self.dataframe = dataframe\n",
    "        self.tokenizer = tokenizer\n",
    "        self.max_length = max_length\n",
    "        self.custom_prompt = custom_prompt\n",
    "\n",
    "    def __len__(self):\n",
    "        return len(self.dataframe)\n",
    "\n",
    "    def __getitem__(self, idx):\n",
    "        text = self.custom_prompt + \" \" + self.dataframe.iloc[idx]['Question'] + \" \" + self.dataframe.iloc[idx]['Student Answer'] + \" \" + self.dataframe.iloc[idx]['Ideal Answer']\n",
    "        content_score = self.dataframe.iloc[idx]['content_relevancy_score']\n",
    "        grammar_score = self.dataframe.iloc[idx]['grammar_score']\n",
    "        structure_score = self.dataframe.iloc[idx]['structure_score']\n",
    "\n",
    "        # Tokenize input text\n",
    "        inputs = self.tokenizer(\n",
    "            text,\n",
    "            truncation=True,\n",
    "            padding='max_length',\n",
    "            max_length=self.max_length,\n",
    "            return_tensors='pt'\n",
    "        )\n",
    "\n",
    "        # Combine scores into a single tensor for regression\n",
    "        labels = torch.tensor([content_score, grammar_score, structure_score], dtype=torch.float)\n",
    "\n",
    "        return {\n",
    "            'input_ids': inputs['input_ids'].squeeze(),\n",
    "            'attention_mask': inputs['attention_mask'].squeeze(),\n",
    "            'labels': labels\n",
    "        }"
   ]
  },
  {
   "cell_type": "code",
   "execution_count": 10,
   "metadata": {},
   "outputs": [],
   "source": [
    "# Create datasets\n",
    "max_length = 512\n",
    "train_dataset = EssayDataset(train_df, tokenizer, max_length, custom_prompt)\n",
    "val_dataset = EssayDataset(val_df, tokenizer, max_length, custom_prompt)"
   ]
  },
  {
   "cell_type": "code",
   "execution_count": 11,
   "metadata": {},
   "outputs": [],
   "source": [
    "# Custom BERT Model for Multi-output Regression\n",
    "class BertForMultiOutputRegression(nn.Module):\n",
    "    def __init__(self):\n",
    "        super(BertForMultiOutputRegression, self).__init__()\n",
    "        self.bert = BertModel.from_pretrained('bert-base-uncased')\n",
    "        self.regressor = nn.Linear(self.bert.config.hidden_size, 3)  # 3 outputs: content, grammar, structure\n",
    "\n",
    "    def forward(self, input_ids, attention_mask, labels=None):\n",
    "        outputs = self.bert(input_ids=input_ids, attention_mask=attention_mask)\n",
    "        pooled_output = outputs.pooler_output\n",
    "        logits = self.regressor(pooled_output)\n",
    "\n",
    "        loss = None\n",
    "        if labels is not None:\n",
    "            loss_fct = nn.MSELoss()\n",
    "            loss = loss_fct(logits, labels)\n",
    "\n",
    "        return {'loss': loss, 'logits': logits} if loss is not None else {'logits': logits}"
   ]
  },
  {
   "cell_type": "code",
   "execution_count": 12,
   "metadata": {},
   "outputs": [],
   "source": [
    "# Initialize the model\n",
    "model = BertForMultiOutputRegression()"
   ]
  },
  {
   "cell_type": "code",
   "execution_count": 13,
   "metadata": {},
   "outputs": [],
   "source": [
    "# Define custom metrics function for evaluation\n",
    "def compute_metrics(eval_pred):\n",
    "    predictions, labels = eval_pred\n",
    "    predictions = predictions.squeeze()\n",
    "    mse = mean_squared_error(labels, predictions, squared=False)\n",
    "    return {'rmse': mse}\n",
    "\n",
    "from transformers import AdamW, Trainer, TrainingArguments\n",
    "\n",
    "def objective(trial: Trial, train_dataset, val_dataset, tokenizer, model_class):\n",
    "    # Define hyperparameter search space\n",
    "    hyperparameters = {\n",
    "        'learning_rate': trial.suggest_float('learning_rate', 1e-6, 1e-4, log=True),\n",
    "        'batch_size': trial.suggest_categorical('batch_size', [4, 8, 16]),\n",
    "        'weight_decay': trial.suggest_float('weight_decay', 0.01, 0.1),\n",
    "        'num_epochs': trial.suggest_int('num_epochs', 3, 10),\n",
    "        'dropout_rate': trial.suggest_float('dropout_rate', 0.1, 0.5),\n",
    "        'warmup_steps': trial.suggest_int('warmup_steps', 100, 1000),\n",
    "        'gradient_accumulation_steps': trial.suggest_categorical('gradient_accumulation_steps', [1, 2, 4])\n",
    "    }\n",
    "    \n",
    "    # Initialize model with dropout\n",
    "    class BertForMultiOutputRegressionWithDropout(model_class):\n",
    "        def __init__(self, dropout_rate):\n",
    "            super().__init__()\n",
    "            self.dropout = torch.nn.Dropout(dropout_rate)\n",
    "            \n",
    "        def forward(self, input_ids, attention_mask, labels=None):\n",
    "            outputs = self.bert(input_ids=input_ids, attention_mask=attention_mask)\n",
    "            pooled_output = outputs.pooler_output\n",
    "            pooled_output = self.dropout(pooled_output)\n",
    "            logits = self.regressor(pooled_output)\n",
    "            \n",
    "            loss = None\n",
    "            if labels is not None:\n",
    "                loss_fct = torch.nn.MSELoss()\n",
    "                loss = loss_fct(logits, labels)\n",
    "            \n",
    "            return {'loss': loss, 'logits': logits} if loss is not None else {'logits': logits}\n",
    "    \n",
    "    # Initialize model with current trial's dropout rate\n",
    "    model = BertForMultiOutputRegressionWithDropout(hyperparameters['dropout_rate'])"
   ]
  },
  {
   "cell_type": "code",
   "execution_count": 14,
   "metadata": {},
   "outputs": [],
   "source": [
    "import matplotlib.pyplot as plt\n",
    "\n",
    "\n",
    "# Plot loss and MSE for all trials\n",
    "def plot_trials_metrics(study):\n",
    "    trial_numbers = []\n",
    "    losses = []\n",
    "    rmses = []\n",
    "\n",
    "    for trial in study.trials:\n",
    "        if trial.state == optuna.trial.TrialState.COMPLETE:\n",
    "            trial_numbers.append(trial.number)\n",
    "            losses.append(trial.value)  # Assuming `value` is RMSE\n",
    "            rmses.append(trial.user_attrs.get('rmse', trial.value))  # Replace 'rmse' with the correct key if different\n",
    "\n",
    "    # Plot\n",
    "    plt.figure(figsize=(10, 5))\n",
    "    plt.plot(trial_numbers, losses, label='Loss (Objective)', marker='o')\n",
    "    plt.plot(trial_numbers, rmses, label='RMSE', marker='x')\n",
    "    plt.xlabel('Trial Number')\n",
    "    plt.ylabel('Value')\n",
    "    plt.title('Loss and RMSE Across Trials')\n",
    "    plt.legend()\n",
    "    plt.grid()\n",
    "    plt.show()"
   ]
  },
  {
   "cell_type": "code",
   "execution_count": 15,
   "metadata": {},
   "outputs": [
    {
     "name": "stderr",
     "output_type": "stream",
     "text": [
      "[I 2024-11-20 03:08:39,441] A new study created in memory with name: no-name-b9d0f474-8bae-4123-9743-9976ca9df1e2\n"
     ]
    },
    {
     "name": "stdout",
     "output_type": "stream",
     "text": [
      "Starting hyperparameter optimization...\n"
     ]
    },
    {
     "name": "stderr",
     "output_type": "stream",
     "text": [
      "d:\\research_models\\handwritten_ocr\\handwritten_ocr\\.venv\\Lib\\site-packages\\transformers\\training_args.py:1559: FutureWarning: `evaluation_strategy` is deprecated and will be removed in version 4.46 of 🤗 Transformers. Use `eval_strategy` instead\n",
      "  warnings.warn(\n"
     ]
    },
    {
     "data": {
      "application/vnd.jupyter.widget-view+json": {
       "model_id": "006f04b076984b1fbe668988161a1fd4",
       "version_major": 2,
       "version_minor": 0
      },
      "text/plain": [
       "  0%|          | 0/4 [00:00<?, ?it/s]"
      ]
     },
     "metadata": {},
     "output_type": "display_data"
    },
    {
     "data": {
      "application/vnd.jupyter.widget-view+json": {
       "model_id": "3ef56cad64cf41508fe5179612181460",
       "version_major": 2,
       "version_minor": 0
      },
      "text/plain": [
       "  0%|          | 0/2 [00:00<?, ?it/s]"
      ]
     },
     "metadata": {},
     "output_type": "display_data"
    },
    {
     "name": "stderr",
     "output_type": "stream",
     "text": [
      "d:\\research_models\\handwritten_ocr\\handwritten_ocr\\.venv\\Lib\\site-packages\\sklearn\\metrics\\_regression.py:492: FutureWarning: 'squared' is deprecated in version 1.4 and will be removed in 1.6. To calculate the root mean squared error, use the function'root_mean_squared_error'.\n",
      "  warnings.warn(\n"
     ]
    },
    {
     "name": "stdout",
     "output_type": "stream",
     "text": [
      "{'eval_loss': 1.0028200149536133, 'eval_rmse': 0.8883153796195984, 'eval_runtime': 5.3031, 'eval_samples_per_second': 1.886, 'eval_steps_per_second': 0.377, 'epoch': 0.8}\n"
     ]
    },
    {
     "data": {
      "application/vnd.jupyter.widget-view+json": {
       "model_id": "0e5523cacff944ff864b4444ec69cddd",
       "version_major": 2,
       "version_minor": 0
      },
      "text/plain": [
       "  0%|          | 0/2 [00:00<?, ?it/s]"
      ]
     },
     "metadata": {},
     "output_type": "display_data"
    },
    {
     "name": "stderr",
     "output_type": "stream",
     "text": [
      "d:\\research_models\\handwritten_ocr\\handwritten_ocr\\.venv\\Lib\\site-packages\\sklearn\\metrics\\_regression.py:492: FutureWarning: 'squared' is deprecated in version 1.4 and will be removed in 1.6. To calculate the root mean squared error, use the function'root_mean_squared_error'.\n",
      "  warnings.warn(\n"
     ]
    },
    {
     "name": "stdout",
     "output_type": "stream",
     "text": [
      "{'eval_loss': 1.0015392303466797, 'eval_rmse': 0.887834370136261, 'eval_runtime': 5.4106, 'eval_samples_per_second': 1.848, 'eval_steps_per_second': 0.37, 'epoch': 1.6}\n"
     ]
    },
    {
     "data": {
      "application/vnd.jupyter.widget-view+json": {
       "model_id": "a9a16741aad84d2db7c42c01ff70e5a9",
       "version_major": 2,
       "version_minor": 0
      },
      "text/plain": [
       "  0%|          | 0/2 [00:00<?, ?it/s]"
      ]
     },
     "metadata": {},
     "output_type": "display_data"
    },
    {
     "name": "stderr",
     "output_type": "stream",
     "text": [
      "d:\\research_models\\handwritten_ocr\\handwritten_ocr\\.venv\\Lib\\site-packages\\sklearn\\metrics\\_regression.py:492: FutureWarning: 'squared' is deprecated in version 1.4 and will be removed in 1.6. To calculate the root mean squared error, use the function'root_mean_squared_error'.\n",
      "  warnings.warn(\n"
     ]
    },
    {
     "name": "stdout",
     "output_type": "stream",
     "text": [
      "{'eval_loss': 0.9990270733833313, 'eval_rmse': 0.8869109749794006, 'eval_runtime': 5.0883, 'eval_samples_per_second': 1.965, 'eval_steps_per_second': 0.393, 'epoch': 2.4}\n"
     ]
    },
    {
     "data": {
      "application/vnd.jupyter.widget-view+json": {
       "model_id": "fbfdcbeccf35460fbea71b7a2b4689d3",
       "version_major": 2,
       "version_minor": 0
      },
      "text/plain": [
       "  0%|          | 0/2 [00:00<?, ?it/s]"
      ]
     },
     "metadata": {},
     "output_type": "display_data"
    },
    {
     "name": "stderr",
     "output_type": "stream",
     "text": [
      "d:\\research_models\\handwritten_ocr\\handwritten_ocr\\.venv\\Lib\\site-packages\\sklearn\\metrics\\_regression.py:492: FutureWarning: 'squared' is deprecated in version 1.4 and will be removed in 1.6. To calculate the root mean squared error, use the function'root_mean_squared_error'.\n",
      "  warnings.warn(\n"
     ]
    },
    {
     "name": "stdout",
     "output_type": "stream",
     "text": [
      "{'eval_loss': 0.9952901601791382, 'eval_rmse': 0.8855581879615784, 'eval_runtime': 6.2697, 'eval_samples_per_second': 1.595, 'eval_steps_per_second': 0.319, 'epoch': 3.2}\n",
      "{'train_runtime': 272.0961, 'train_samples_per_second': 0.529, 'train_steps_per_second': 0.015, 'train_loss': 3.9037976264953613, 'epoch': 3.2}\n"
     ]
    },
    {
     "data": {
      "application/vnd.jupyter.widget-view+json": {
       "model_id": "ae96c716af1646b9893cd0c44e831c48",
       "version_major": 2,
       "version_minor": 0
      },
      "text/plain": [
       "  0%|          | 0/2 [00:00<?, ?it/s]"
      ]
     },
     "metadata": {},
     "output_type": "display_data"
    },
    {
     "name": "stderr",
     "output_type": "stream",
     "text": [
      "d:\\research_models\\handwritten_ocr\\handwritten_ocr\\.venv\\Lib\\site-packages\\sklearn\\metrics\\_regression.py:492: FutureWarning: 'squared' is deprecated in version 1.4 and will be removed in 1.6. To calculate the root mean squared error, use the function'root_mean_squared_error'.\n",
      "  warnings.warn(\n",
      "[I 2024-11-20 03:13:18,345] Trial 0 finished with value: 0.8855581879615784 and parameters: {'learning_rate': 1.169560214818053e-05, 'batch_size': 8, 'weight_decay': 0.023648088975472492, 'num_epochs': 4, 'dropout_rate': 0.1665090685188837, 'warmup_steps': 316, 'gradient_accumulation_steps': 4}. Best is trial 0 with value: 0.8855581879615784.\n",
      "d:\\research_models\\handwritten_ocr\\handwritten_ocr\\.venv\\Lib\\site-packages\\transformers\\training_args.py:1559: FutureWarning: `evaluation_strategy` is deprecated and will be removed in version 4.46 of 🤗 Transformers. Use `eval_strategy` instead\n",
      "  warnings.warn(\n"
     ]
    },
    {
     "data": {
      "application/vnd.jupyter.widget-view+json": {
       "model_id": "298730ec75414f1bb21920e10f49d319",
       "version_major": 2,
       "version_minor": 0
      },
      "text/plain": [
       "  0%|          | 0/20 [00:00<?, ?it/s]"
      ]
     },
     "metadata": {},
     "output_type": "display_data"
    },
    {
     "data": {
      "application/vnd.jupyter.widget-view+json": {
       "model_id": "1e7fddb9b25348e68b46eabaa38b80ad",
       "version_major": 2,
       "version_minor": 0
      },
      "text/plain": [
       "  0%|          | 0/2 [00:00<?, ?it/s]"
      ]
     },
     "metadata": {},
     "output_type": "display_data"
    },
    {
     "name": "stderr",
     "output_type": "stream",
     "text": [
      "d:\\research_models\\handwritten_ocr\\handwritten_ocr\\.venv\\Lib\\site-packages\\sklearn\\metrics\\_regression.py:492: FutureWarning: 'squared' is deprecated in version 1.4 and will be removed in 1.6. To calculate the root mean squared error, use the function'root_mean_squared_error'.\n",
      "  warnings.warn(\n"
     ]
    },
    {
     "name": "stdout",
     "output_type": "stream",
     "text": [
      "{'eval_loss': 0.580414354801178, 'eval_rmse': 0.7615153789520264, 'eval_runtime': 5.3217, 'eval_samples_per_second': 1.879, 'eval_steps_per_second': 0.376, 'epoch': 1.0}\n"
     ]
    },
    {
     "data": {
      "application/vnd.jupyter.widget-view+json": {
       "model_id": "769fee0581cb44889c53c8a1650d35ed",
       "version_major": 2,
       "version_minor": 0
      },
      "text/plain": [
       "  0%|          | 0/2 [00:00<?, ?it/s]"
      ]
     },
     "metadata": {},
     "output_type": "display_data"
    },
    {
     "name": "stderr",
     "output_type": "stream",
     "text": [
      "d:\\research_models\\handwritten_ocr\\handwritten_ocr\\.venv\\Lib\\site-packages\\sklearn\\metrics\\_regression.py:492: FutureWarning: 'squared' is deprecated in version 1.4 and will be removed in 1.6. To calculate the root mean squared error, use the function'root_mean_squared_error'.\n",
      "  warnings.warn(\n"
     ]
    },
    {
     "name": "stdout",
     "output_type": "stream",
     "text": [
      "{'eval_loss': 0.5480875372886658, 'eval_rmse': 0.7393743991851807, 'eval_runtime': 5.289, 'eval_samples_per_second': 1.891, 'eval_steps_per_second': 0.378, 'epoch': 2.0}\n"
     ]
    },
    {
     "data": {
      "application/vnd.jupyter.widget-view+json": {
       "model_id": "2c494ffb3f7a40d88b22b0bdd4c46384",
       "version_major": 2,
       "version_minor": 0
      },
      "text/plain": [
       "  0%|          | 0/2 [00:00<?, ?it/s]"
      ]
     },
     "metadata": {},
     "output_type": "display_data"
    },
    {
     "name": "stderr",
     "output_type": "stream",
     "text": [
      "d:\\research_models\\handwritten_ocr\\handwritten_ocr\\.venv\\Lib\\site-packages\\sklearn\\metrics\\_regression.py:492: FutureWarning: 'squared' is deprecated in version 1.4 and will be removed in 1.6. To calculate the root mean squared error, use the function'root_mean_squared_error'.\n",
      "  warnings.warn(\n"
     ]
    },
    {
     "name": "stdout",
     "output_type": "stream",
     "text": [
      "{'eval_loss': 0.488252729177475, 'eval_rmse': 0.696474015712738, 'eval_runtime': 5.8451, 'eval_samples_per_second': 1.711, 'eval_steps_per_second': 0.342, 'epoch': 3.0}\n"
     ]
    },
    {
     "data": {
      "application/vnd.jupyter.widget-view+json": {
       "model_id": "74af86614dd642d08436c6a6610376dc",
       "version_major": 2,
       "version_minor": 0
      },
      "text/plain": [
       "  0%|          | 0/2 [00:00<?, ?it/s]"
      ]
     },
     "metadata": {},
     "output_type": "display_data"
    },
    {
     "name": "stderr",
     "output_type": "stream",
     "text": [
      "d:\\research_models\\handwritten_ocr\\handwritten_ocr\\.venv\\Lib\\site-packages\\sklearn\\metrics\\_regression.py:492: FutureWarning: 'squared' is deprecated in version 1.4 and will be removed in 1.6. To calculate the root mean squared error, use the function'root_mean_squared_error'.\n",
      "  warnings.warn(\n"
     ]
    },
    {
     "name": "stdout",
     "output_type": "stream",
     "text": [
      "{'eval_loss': 0.4233265817165375, 'eval_rmse': 0.6457066535949707, 'eval_runtime': 5.1073, 'eval_samples_per_second': 1.958, 'eval_steps_per_second': 0.392, 'epoch': 4.0}\n",
      "{'train_runtime': 327.8939, 'train_samples_per_second': 0.439, 'train_steps_per_second': 0.061, 'train_loss': 0.5731837272644043, 'epoch': 4.0}\n"
     ]
    },
    {
     "data": {
      "application/vnd.jupyter.widget-view+json": {
       "model_id": "fc56f6552bfc497194884a618a7de5ff",
       "version_major": 2,
       "version_minor": 0
      },
      "text/plain": [
       "  0%|          | 0/2 [00:00<?, ?it/s]"
      ]
     },
     "metadata": {},
     "output_type": "display_data"
    },
    {
     "name": "stderr",
     "output_type": "stream",
     "text": [
      "d:\\research_models\\handwritten_ocr\\handwritten_ocr\\.venv\\Lib\\site-packages\\sklearn\\metrics\\_regression.py:492: FutureWarning: 'squared' is deprecated in version 1.4 and will be removed in 1.6. To calculate the root mean squared error, use the function'root_mean_squared_error'.\n",
      "  warnings.warn(\n",
      "[I 2024-11-20 03:18:54,115] Trial 1 finished with value: 0.6457066535949707 and parameters: {'learning_rate': 3.3150364822178346e-05, 'batch_size': 8, 'weight_decay': 0.04334724883944415, 'num_epochs': 4, 'dropout_rate': 0.1448901049633808, 'warmup_steps': 953, 'gradient_accumulation_steps': 1}. Best is trial 1 with value: 0.6457066535949707.\n",
      "d:\\research_models\\handwritten_ocr\\handwritten_ocr\\.venv\\Lib\\site-packages\\transformers\\training_args.py:1559: FutureWarning: `evaluation_strategy` is deprecated and will be removed in version 4.46 of 🤗 Transformers. Use `eval_strategy` instead\n",
      "  warnings.warn(\n"
     ]
    },
    {
     "data": {
      "application/vnd.jupyter.widget-view+json": {
       "model_id": "53be45b8a4974ed1a8f58d079fca8549",
       "version_major": 2,
       "version_minor": 0
      },
      "text/plain": [
       "  0%|          | 0/40 [00:00<?, ?it/s]"
      ]
     },
     "metadata": {},
     "output_type": "display_data"
    },
    {
     "data": {
      "application/vnd.jupyter.widget-view+json": {
       "model_id": "8c62fbad72e341c1bdac564750bc057f",
       "version_major": 2,
       "version_minor": 0
      },
      "text/plain": [
       "  0%|          | 0/3 [00:00<?, ?it/s]"
      ]
     },
     "metadata": {},
     "output_type": "display_data"
    },
    {
     "name": "stderr",
     "output_type": "stream",
     "text": [
      "d:\\research_models\\handwritten_ocr\\handwritten_ocr\\.venv\\Lib\\site-packages\\sklearn\\metrics\\_regression.py:492: FutureWarning: 'squared' is deprecated in version 1.4 and will be removed in 1.6. To calculate the root mean squared error, use the function'root_mean_squared_error'.\n",
      "  warnings.warn(\n"
     ]
    },
    {
     "name": "stdout",
     "output_type": "stream",
     "text": [
      "{'eval_loss': 0.8634928464889526, 'eval_rmse': 0.895876407623291, 'eval_runtime': 5.1326, 'eval_samples_per_second': 1.948, 'eval_steps_per_second': 0.585, 'epoch': 0.89}\n"
     ]
    },
    {
     "data": {
      "application/vnd.jupyter.widget-view+json": {
       "model_id": "211f55f789d346648f85827c31a3176f",
       "version_major": 2,
       "version_minor": 0
      },
      "text/plain": [
       "  0%|          | 0/3 [00:00<?, ?it/s]"
      ]
     },
     "metadata": {},
     "output_type": "display_data"
    },
    {
     "name": "stderr",
     "output_type": "stream",
     "text": [
      "d:\\research_models\\handwritten_ocr\\handwritten_ocr\\.venv\\Lib\\site-packages\\sklearn\\metrics\\_regression.py:492: FutureWarning: 'squared' is deprecated in version 1.4 and will be removed in 1.6. To calculate the root mean squared error, use the function'root_mean_squared_error'.\n",
      "  warnings.warn(\n"
     ]
    },
    {
     "name": "stdout",
     "output_type": "stream",
     "text": [
      "{'eval_loss': 0.8604761362075806, 'eval_rmse': 0.8945274353027344, 'eval_runtime': 5.3216, 'eval_samples_per_second': 1.879, 'eval_steps_per_second': 0.564, 'epoch': 2.0}\n"
     ]
    },
    {
     "data": {
      "application/vnd.jupyter.widget-view+json": {
       "model_id": "fd57b89ddbb24136a2663cc78d408dc1",
       "version_major": 2,
       "version_minor": 0
      },
      "text/plain": [
       "  0%|          | 0/3 [00:00<?, ?it/s]"
      ]
     },
     "metadata": {},
     "output_type": "display_data"
    },
    {
     "name": "stderr",
     "output_type": "stream",
     "text": [
      "d:\\research_models\\handwritten_ocr\\handwritten_ocr\\.venv\\Lib\\site-packages\\sklearn\\metrics\\_regression.py:492: FutureWarning: 'squared' is deprecated in version 1.4 and will be removed in 1.6. To calculate the root mean squared error, use the function'root_mean_squared_error'.\n",
      "  warnings.warn(\n"
     ]
    },
    {
     "name": "stdout",
     "output_type": "stream",
     "text": [
      "{'eval_loss': 0.8559539914131165, 'eval_rmse': 0.8925593495368958, 'eval_runtime': 5.2985, 'eval_samples_per_second': 1.887, 'eval_steps_per_second': 0.566, 'epoch': 2.89}\n"
     ]
    },
    {
     "data": {
      "application/vnd.jupyter.widget-view+json": {
       "model_id": "d2c8cf7c4703402c82c788e996da91cd",
       "version_major": 2,
       "version_minor": 0
      },
      "text/plain": [
       "  0%|          | 0/3 [00:00<?, ?it/s]"
      ]
     },
     "metadata": {},
     "output_type": "display_data"
    },
    {
     "name": "stderr",
     "output_type": "stream",
     "text": [
      "d:\\research_models\\handwritten_ocr\\handwritten_ocr\\.venv\\Lib\\site-packages\\sklearn\\metrics\\_regression.py:492: FutureWarning: 'squared' is deprecated in version 1.4 and will be removed in 1.6. To calculate the root mean squared error, use the function'root_mean_squared_error'.\n",
      "  warnings.warn(\n"
     ]
    },
    {
     "name": "stdout",
     "output_type": "stream",
     "text": [
      "{'eval_loss': 0.8476854562759399, 'eval_rmse': 0.8889339566230774, 'eval_runtime': 5.161, 'eval_samples_per_second': 1.938, 'eval_steps_per_second': 0.581, 'epoch': 4.0}\n"
     ]
    },
    {
     "data": {
      "application/vnd.jupyter.widget-view+json": {
       "model_id": "fccb3b4cf24d46699f5e78d2a51c2438",
       "version_major": 2,
       "version_minor": 0
      },
      "text/plain": [
       "  0%|          | 0/3 [00:00<?, ?it/s]"
      ]
     },
     "metadata": {},
     "output_type": "display_data"
    },
    {
     "name": "stderr",
     "output_type": "stream",
     "text": [
      "d:\\research_models\\handwritten_ocr\\handwritten_ocr\\.venv\\Lib\\site-packages\\sklearn\\metrics\\_regression.py:492: FutureWarning: 'squared' is deprecated in version 1.4 and will be removed in 1.6. To calculate the root mean squared error, use the function'root_mean_squared_error'.\n",
      "  warnings.warn(\n"
     ]
    },
    {
     "name": "stdout",
     "output_type": "stream",
     "text": [
      "{'eval_loss': 0.8386347889900208, 'eval_rmse': 0.8848511576652527, 'eval_runtime': 6.3606, 'eval_samples_per_second': 1.572, 'eval_steps_per_second': 0.472, 'epoch': 4.89}\n"
     ]
    },
    {
     "data": {
      "application/vnd.jupyter.widget-view+json": {
       "model_id": "768c3b607c9d4d8ba10364de3aca12f7",
       "version_major": 2,
       "version_minor": 0
      },
      "text/plain": [
       "  0%|          | 0/3 [00:00<?, ?it/s]"
      ]
     },
     "metadata": {},
     "output_type": "display_data"
    },
    {
     "name": "stderr",
     "output_type": "stream",
     "text": [
      "d:\\research_models\\handwritten_ocr\\handwritten_ocr\\.venv\\Lib\\site-packages\\sklearn\\metrics\\_regression.py:492: FutureWarning: 'squared' is deprecated in version 1.4 and will be removed in 1.6. To calculate the root mean squared error, use the function'root_mean_squared_error'.\n",
      "  warnings.warn(\n"
     ]
    },
    {
     "name": "stdout",
     "output_type": "stream",
     "text": [
      "{'eval_loss': 0.8239048719406128, 'eval_rmse': 0.8780970573425293, 'eval_runtime': 5.1903, 'eval_samples_per_second': 1.927, 'eval_steps_per_second': 0.578, 'epoch': 6.0}\n"
     ]
    },
    {
     "data": {
      "application/vnd.jupyter.widget-view+json": {
       "model_id": "d217862fc169449fb337588bdcbaf2b4",
       "version_major": 2,
       "version_minor": 0
      },
      "text/plain": [
       "  0%|          | 0/3 [00:00<?, ?it/s]"
      ]
     },
     "metadata": {},
     "output_type": "display_data"
    },
    {
     "name": "stderr",
     "output_type": "stream",
     "text": [
      "d:\\research_models\\handwritten_ocr\\handwritten_ocr\\.venv\\Lib\\site-packages\\sklearn\\metrics\\_regression.py:492: FutureWarning: 'squared' is deprecated in version 1.4 and will be removed in 1.6. To calculate the root mean squared error, use the function'root_mean_squared_error'.\n",
      "  warnings.warn(\n"
     ]
    },
    {
     "name": "stdout",
     "output_type": "stream",
     "text": [
      "{'eval_loss': 0.8081838488578796, 'eval_rmse': 0.8708006739616394, 'eval_runtime': 5.092, 'eval_samples_per_second': 1.964, 'eval_steps_per_second': 0.589, 'epoch': 6.89}\n"
     ]
    },
    {
     "data": {
      "application/vnd.jupyter.widget-view+json": {
       "model_id": "18b958864c3944de874a461e641bc79f",
       "version_major": 2,
       "version_minor": 0
      },
      "text/plain": [
       "  0%|          | 0/3 [00:00<?, ?it/s]"
      ]
     },
     "metadata": {},
     "output_type": "display_data"
    },
    {
     "name": "stderr",
     "output_type": "stream",
     "text": [
      "d:\\research_models\\handwritten_ocr\\handwritten_ocr\\.venv\\Lib\\site-packages\\sklearn\\metrics\\_regression.py:492: FutureWarning: 'squared' is deprecated in version 1.4 and will be removed in 1.6. To calculate the root mean squared error, use the function'root_mean_squared_error'.\n",
      "  warnings.warn(\n"
     ]
    },
    {
     "name": "stdout",
     "output_type": "stream",
     "text": [
      "{'eval_loss': 0.7840085029602051, 'eval_rmse': 0.8592094779014587, 'eval_runtime': 5.0916, 'eval_samples_per_second': 1.964, 'eval_steps_per_second': 0.589, 'epoch': 8.0}\n"
     ]
    },
    {
     "data": {
      "application/vnd.jupyter.widget-view+json": {
       "model_id": "00c311336d29455ba390b0ca1452bab4",
       "version_major": 2,
       "version_minor": 0
      },
      "text/plain": [
       "  0%|          | 0/3 [00:00<?, ?it/s]"
      ]
     },
     "metadata": {},
     "output_type": "display_data"
    },
    {
     "name": "stderr",
     "output_type": "stream",
     "text": [
      "d:\\research_models\\handwritten_ocr\\handwritten_ocr\\.venv\\Lib\\site-packages\\sklearn\\metrics\\_regression.py:492: FutureWarning: 'squared' is deprecated in version 1.4 and will be removed in 1.6. To calculate the root mean squared error, use the function'root_mean_squared_error'.\n",
      "  warnings.warn(\n"
     ]
    },
    {
     "name": "stdout",
     "output_type": "stream",
     "text": [
      "{'eval_loss': 0.7609130144119263, 'eval_rmse': 0.8476417064666748, 'eval_runtime': 5.256, 'eval_samples_per_second': 1.903, 'eval_steps_per_second': 0.571, 'epoch': 8.89}\n",
      "{'train_runtime': 736.3664, 'train_samples_per_second': 0.489, 'train_steps_per_second': 0.054, 'train_loss': 1.7492774963378905, 'epoch': 8.89}\n"
     ]
    },
    {
     "data": {
      "application/vnd.jupyter.widget-view+json": {
       "model_id": "62d70d763e0a405fa586e8c978e065c4",
       "version_major": 2,
       "version_minor": 0
      },
      "text/plain": [
       "  0%|          | 0/3 [00:00<?, ?it/s]"
      ]
     },
     "metadata": {},
     "output_type": "display_data"
    },
    {
     "name": "stderr",
     "output_type": "stream",
     "text": [
      "d:\\research_models\\handwritten_ocr\\handwritten_ocr\\.venv\\Lib\\site-packages\\sklearn\\metrics\\_regression.py:492: FutureWarning: 'squared' is deprecated in version 1.4 and will be removed in 1.6. To calculate the root mean squared error, use the function'root_mean_squared_error'.\n",
      "  warnings.warn(\n",
      "[I 2024-11-20 03:31:17,200] Trial 2 finished with value: 0.8476417064666748 and parameters: {'learning_rate': 2.727972242909377e-06, 'batch_size': 4, 'weight_decay': 0.04441539012011543, 'num_epochs': 10, 'dropout_rate': 0.4764911979997952, 'warmup_steps': 659, 'gradient_accumulation_steps': 2}. Best is trial 1 with value: 0.6457066535949707.\n",
      "d:\\research_models\\handwritten_ocr\\handwritten_ocr\\.venv\\Lib\\site-packages\\transformers\\training_args.py:1559: FutureWarning: `evaluation_strategy` is deprecated and will be removed in version 4.46 of 🤗 Transformers. Use `eval_strategy` instead\n",
      "  warnings.warn(\n"
     ]
    },
    {
     "data": {
      "application/vnd.jupyter.widget-view+json": {
       "model_id": "756838bf0d9d413180be9765e8e9ca35",
       "version_major": 2,
       "version_minor": 0
      },
      "text/plain": [
       "  0%|          | 0/21 [00:00<?, ?it/s]"
      ]
     },
     "metadata": {},
     "output_type": "display_data"
    },
    {
     "data": {
      "application/vnd.jupyter.widget-view+json": {
       "model_id": "f5a2f04573e643fab657b7934751d5ec",
       "version_major": 2,
       "version_minor": 0
      },
      "text/plain": [
       "  0%|          | 0/1 [00:00<?, ?it/s]"
      ]
     },
     "metadata": {},
     "output_type": "display_data"
    },
    {
     "name": "stderr",
     "output_type": "stream",
     "text": [
      "d:\\research_models\\handwritten_ocr\\handwritten_ocr\\.venv\\Lib\\site-packages\\sklearn\\metrics\\_regression.py:492: FutureWarning: 'squared' is deprecated in version 1.4 and will be removed in 1.6. To calculate the root mean squared error, use the function'root_mean_squared_error'.\n",
      "  warnings.warn(\n"
     ]
    },
    {
     "name": "stdout",
     "output_type": "stream",
     "text": [
      "{'eval_loss': 0.3209204077720642, 'eval_rmse': 0.5128872990608215, 'eval_runtime': 5.5485, 'eval_samples_per_second': 1.802, 'eval_steps_per_second': 0.18, 'epoch': 1.0}\n"
     ]
    },
    {
     "data": {
      "application/vnd.jupyter.widget-view+json": {
       "model_id": "e6ab2bb3a82846db8badf4f8115be487",
       "version_major": 2,
       "version_minor": 0
      },
      "text/plain": [
       "  0%|          | 0/1 [00:00<?, ?it/s]"
      ]
     },
     "metadata": {},
     "output_type": "display_data"
    },
    {
     "name": "stderr",
     "output_type": "stream",
     "text": [
      "d:\\research_models\\handwritten_ocr\\handwritten_ocr\\.venv\\Lib\\site-packages\\sklearn\\metrics\\_regression.py:492: FutureWarning: 'squared' is deprecated in version 1.4 and will be removed in 1.6. To calculate the root mean squared error, use the function'root_mean_squared_error'.\n",
      "  warnings.warn(\n"
     ]
    },
    {
     "name": "stdout",
     "output_type": "stream",
     "text": [
      "{'eval_loss': 0.3169534504413605, 'eval_rmse': 0.5093562602996826, 'eval_runtime': 5.3951, 'eval_samples_per_second': 1.854, 'eval_steps_per_second': 0.185, 'epoch': 2.0}\n"
     ]
    },
    {
     "data": {
      "application/vnd.jupyter.widget-view+json": {
       "model_id": "406dec84caf44f879f6e8d4520f6dd13",
       "version_major": 2,
       "version_minor": 0
      },
      "text/plain": [
       "  0%|          | 0/1 [00:00<?, ?it/s]"
      ]
     },
     "metadata": {},
     "output_type": "display_data"
    },
    {
     "name": "stderr",
     "output_type": "stream",
     "text": [
      "d:\\research_models\\handwritten_ocr\\handwritten_ocr\\.venv\\Lib\\site-packages\\sklearn\\metrics\\_regression.py:492: FutureWarning: 'squared' is deprecated in version 1.4 and will be removed in 1.6. To calculate the root mean squared error, use the function'root_mean_squared_error'.\n",
      "  warnings.warn(\n"
     ]
    },
    {
     "name": "stdout",
     "output_type": "stream",
     "text": [
      "{'eval_loss': 0.3099493682384491, 'eval_rmse': 0.5031017661094666, 'eval_runtime': 5.3661, 'eval_samples_per_second': 1.864, 'eval_steps_per_second': 0.186, 'epoch': 3.0}\n"
     ]
    },
    {
     "data": {
      "application/vnd.jupyter.widget-view+json": {
       "model_id": "9d1ffb98301d43568ed6a0383d9bec4e",
       "version_major": 2,
       "version_minor": 0
      },
      "text/plain": [
       "  0%|          | 0/1 [00:00<?, ?it/s]"
      ]
     },
     "metadata": {},
     "output_type": "display_data"
    },
    {
     "name": "stderr",
     "output_type": "stream",
     "text": [
      "d:\\research_models\\handwritten_ocr\\handwritten_ocr\\.venv\\Lib\\site-packages\\sklearn\\metrics\\_regression.py:492: FutureWarning: 'squared' is deprecated in version 1.4 and will be removed in 1.6. To calculate the root mean squared error, use the function'root_mean_squared_error'.\n",
      "  warnings.warn(\n"
     ]
    },
    {
     "name": "stdout",
     "output_type": "stream",
     "text": [
      "{'eval_loss': 0.2999473214149475, 'eval_rmse': 0.4942469298839569, 'eval_runtime': 5.3055, 'eval_samples_per_second': 1.885, 'eval_steps_per_second': 0.188, 'epoch': 4.0}\n"
     ]
    },
    {
     "data": {
      "application/vnd.jupyter.widget-view+json": {
       "model_id": "f162372e1e9348f89ee7e56921d80b91",
       "version_major": 2,
       "version_minor": 0
      },
      "text/plain": [
       "  0%|          | 0/1 [00:00<?, ?it/s]"
      ]
     },
     "metadata": {},
     "output_type": "display_data"
    },
    {
     "name": "stderr",
     "output_type": "stream",
     "text": [
      "d:\\research_models\\handwritten_ocr\\handwritten_ocr\\.venv\\Lib\\site-packages\\sklearn\\metrics\\_regression.py:492: FutureWarning: 'squared' is deprecated in version 1.4 and will be removed in 1.6. To calculate the root mean squared error, use the function'root_mean_squared_error'.\n",
      "  warnings.warn(\n"
     ]
    },
    {
     "name": "stdout",
     "output_type": "stream",
     "text": [
      "{'eval_loss': 0.286876380443573, 'eval_rmse': 0.4826526939868927, 'eval_runtime': 5.4127, 'eval_samples_per_second': 1.848, 'eval_steps_per_second': 0.185, 'epoch': 5.0}\n"
     ]
    },
    {
     "data": {
      "application/vnd.jupyter.widget-view+json": {
       "model_id": "08c42a4f23ca4cdb810996a0d4c15c6a",
       "version_major": 2,
       "version_minor": 0
      },
      "text/plain": [
       "  0%|          | 0/1 [00:00<?, ?it/s]"
      ]
     },
     "metadata": {},
     "output_type": "display_data"
    },
    {
     "name": "stderr",
     "output_type": "stream",
     "text": [
      "d:\\research_models\\handwritten_ocr\\handwritten_ocr\\.venv\\Lib\\site-packages\\sklearn\\metrics\\_regression.py:492: FutureWarning: 'squared' is deprecated in version 1.4 and will be removed in 1.6. To calculate the root mean squared error, use the function'root_mean_squared_error'.\n",
      "  warnings.warn(\n"
     ]
    },
    {
     "name": "stdout",
     "output_type": "stream",
     "text": [
      "{'eval_loss': 0.2709645926952362, 'eval_rmse': 0.4684170186519623, 'eval_runtime': 5.4072, 'eval_samples_per_second': 1.849, 'eval_steps_per_second': 0.185, 'epoch': 6.0}\n"
     ]
    },
    {
     "data": {
      "application/vnd.jupyter.widget-view+json": {
       "model_id": "a78e5cd873764839a4f632ff18a5abbc",
       "version_major": 2,
       "version_minor": 0
      },
      "text/plain": [
       "  0%|          | 0/1 [00:00<?, ?it/s]"
      ]
     },
     "metadata": {},
     "output_type": "display_data"
    },
    {
     "name": "stderr",
     "output_type": "stream",
     "text": [
      "d:\\research_models\\handwritten_ocr\\handwritten_ocr\\.venv\\Lib\\site-packages\\sklearn\\metrics\\_regression.py:492: FutureWarning: 'squared' is deprecated in version 1.4 and will be removed in 1.6. To calculate the root mean squared error, use the function'root_mean_squared_error'.\n",
      "  warnings.warn(\n"
     ]
    },
    {
     "name": "stdout",
     "output_type": "stream",
     "text": [
      "{'eval_loss': 0.25327831506729126, 'eval_rmse': 0.45240700244903564, 'eval_runtime': 5.2821, 'eval_samples_per_second': 1.893, 'eval_steps_per_second': 0.189, 'epoch': 7.0}\n",
      "{'train_runtime': 806.094, 'train_samples_per_second': 0.313, 'train_steps_per_second': 0.026, 'train_loss': 0.27419433139619376, 'epoch': 7.0}\n"
     ]
    },
    {
     "data": {
      "application/vnd.jupyter.widget-view+json": {
       "model_id": "ddadc3a319494c5b9f36a89366f37713",
       "version_major": 2,
       "version_minor": 0
      },
      "text/plain": [
       "  0%|          | 0/1 [00:00<?, ?it/s]"
      ]
     },
     "metadata": {},
     "output_type": "display_data"
    },
    {
     "name": "stderr",
     "output_type": "stream",
     "text": [
      "d:\\research_models\\handwritten_ocr\\handwritten_ocr\\.venv\\Lib\\site-packages\\sklearn\\metrics\\_regression.py:492: FutureWarning: 'squared' is deprecated in version 1.4 and will be removed in 1.6. To calculate the root mean squared error, use the function'root_mean_squared_error'.\n",
      "  warnings.warn(\n",
      "[I 2024-11-20 03:44:50,119] Trial 3 finished with value: 0.45240700244903564 and parameters: {'learning_rate': 2.043576361760869e-06, 'batch_size': 16, 'weight_decay': 0.037534570645098166, 'num_epochs': 7, 'dropout_rate': 0.15480482264981266, 'warmup_steps': 183, 'gradient_accumulation_steps': 1}. Best is trial 3 with value: 0.45240700244903564.\n",
      "d:\\research_models\\handwritten_ocr\\handwritten_ocr\\.venv\\Lib\\site-packages\\transformers\\training_args.py:1559: FutureWarning: `evaluation_strategy` is deprecated and will be removed in version 4.46 of 🤗 Transformers. Use `eval_strategy` instead\n",
      "  warnings.warn(\n"
     ]
    },
    {
     "data": {
      "application/vnd.jupyter.widget-view+json": {
       "model_id": "f928520e01654cb4b36c1a60f825cdfb",
       "version_major": 2,
       "version_minor": 0
      },
      "text/plain": [
       "  0%|          | 0/35 [00:00<?, ?it/s]"
      ]
     },
     "metadata": {},
     "output_type": "display_data"
    },
    {
     "data": {
      "application/vnd.jupyter.widget-view+json": {
       "model_id": "7b48b1e9d2a64607a4c1698f59c94d9c",
       "version_major": 2,
       "version_minor": 0
      },
      "text/plain": [
       "  0%|          | 0/2 [00:00<?, ?it/s]"
      ]
     },
     "metadata": {},
     "output_type": "display_data"
    },
    {
     "name": "stderr",
     "output_type": "stream",
     "text": [
      "d:\\research_models\\handwritten_ocr\\handwritten_ocr\\.venv\\Lib\\site-packages\\sklearn\\metrics\\_regression.py:492: FutureWarning: 'squared' is deprecated in version 1.4 and will be removed in 1.6. To calculate the root mean squared error, use the function'root_mean_squared_error'.\n",
      "  warnings.warn(\n"
     ]
    },
    {
     "name": "stdout",
     "output_type": "stream",
     "text": [
      "{'eval_loss': 0.5350159406661987, 'eval_rmse': 0.7300221920013428, 'eval_runtime': 5.3199, 'eval_samples_per_second': 1.88, 'eval_steps_per_second': 0.376, 'epoch': 1.0}\n"
     ]
    },
    {
     "data": {
      "application/vnd.jupyter.widget-view+json": {
       "model_id": "e4f8983b2e0540d4ba1e14ff8d7290e4",
       "version_major": 2,
       "version_minor": 0
      },
      "text/plain": [
       "  0%|          | 0/2 [00:00<?, ?it/s]"
      ]
     },
     "metadata": {},
     "output_type": "display_data"
    },
    {
     "name": "stderr",
     "output_type": "stream",
     "text": [
      "d:\\research_models\\handwritten_ocr\\handwritten_ocr\\.venv\\Lib\\site-packages\\sklearn\\metrics\\_regression.py:492: FutureWarning: 'squared' is deprecated in version 1.4 and will be removed in 1.6. To calculate the root mean squared error, use the function'root_mean_squared_error'.\n",
      "  warnings.warn(\n"
     ]
    },
    {
     "name": "stdout",
     "output_type": "stream",
     "text": [
      "{'eval_loss': 0.4207586348056793, 'eval_rmse': 0.6476669907569885, 'eval_runtime': 5.3359, 'eval_samples_per_second': 1.874, 'eval_steps_per_second': 0.375, 'epoch': 2.0}\n"
     ]
    },
    {
     "data": {
      "application/vnd.jupyter.widget-view+json": {
       "model_id": "193a1e8102f344b29253ac62870a7269",
       "version_major": 2,
       "version_minor": 0
      },
      "text/plain": [
       "  0%|          | 0/2 [00:00<?, ?it/s]"
      ]
     },
     "metadata": {},
     "output_type": "display_data"
    },
    {
     "name": "stderr",
     "output_type": "stream",
     "text": [
      "d:\\research_models\\handwritten_ocr\\handwritten_ocr\\.venv\\Lib\\site-packages\\sklearn\\metrics\\_regression.py:492: FutureWarning: 'squared' is deprecated in version 1.4 and will be removed in 1.6. To calculate the root mean squared error, use the function'root_mean_squared_error'.\n",
      "  warnings.warn(\n"
     ]
    },
    {
     "name": "stdout",
     "output_type": "stream",
     "text": [
      "{'eval_loss': 0.2713741660118103, 'eval_rmse': 0.5194743275642395, 'eval_runtime': 5.4709, 'eval_samples_per_second': 1.828, 'eval_steps_per_second': 0.366, 'epoch': 3.0}\n"
     ]
    },
    {
     "data": {
      "application/vnd.jupyter.widget-view+json": {
       "model_id": "32e68ff64b3943ea8aad9ccd0648c87a",
       "version_major": 2,
       "version_minor": 0
      },
      "text/plain": [
       "  0%|          | 0/2 [00:00<?, ?it/s]"
      ]
     },
     "metadata": {},
     "output_type": "display_data"
    },
    {
     "name": "stderr",
     "output_type": "stream",
     "text": [
      "d:\\research_models\\handwritten_ocr\\handwritten_ocr\\.venv\\Lib\\site-packages\\sklearn\\metrics\\_regression.py:492: FutureWarning: 'squared' is deprecated in version 1.4 and will be removed in 1.6. To calculate the root mean squared error, use the function'root_mean_squared_error'.\n",
      "  warnings.warn(\n"
     ]
    },
    {
     "name": "stdout",
     "output_type": "stream",
     "text": [
      "{'eval_loss': 0.12108407914638519, 'eval_rmse': 0.34709107875823975, 'eval_runtime': 5.4467, 'eval_samples_per_second': 1.836, 'eval_steps_per_second': 0.367, 'epoch': 4.0}\n"
     ]
    },
    {
     "data": {
      "application/vnd.jupyter.widget-view+json": {
       "model_id": "2d76f326934347ef9cad43ffb00c5802",
       "version_major": 2,
       "version_minor": 0
      },
      "text/plain": [
       "  0%|          | 0/2 [00:00<?, ?it/s]"
      ]
     },
     "metadata": {},
     "output_type": "display_data"
    },
    {
     "name": "stderr",
     "output_type": "stream",
     "text": [
      "d:\\research_models\\handwritten_ocr\\handwritten_ocr\\.venv\\Lib\\site-packages\\sklearn\\metrics\\_regression.py:492: FutureWarning: 'squared' is deprecated in version 1.4 and will be removed in 1.6. To calculate the root mean squared error, use the function'root_mean_squared_error'.\n",
      "  warnings.warn(\n"
     ]
    },
    {
     "name": "stdout",
     "output_type": "stream",
     "text": [
      "{'eval_loss': 0.048624102026224136, 'eval_rmse': 0.21562249958515167, 'eval_runtime': 5.5142, 'eval_samples_per_second': 1.813, 'eval_steps_per_second': 0.363, 'epoch': 5.0}\n"
     ]
    },
    {
     "data": {
      "application/vnd.jupyter.widget-view+json": {
       "model_id": "091903f62e6646d192e649fe4ce3cd74",
       "version_major": 2,
       "version_minor": 0
      },
      "text/plain": [
       "  0%|          | 0/2 [00:00<?, ?it/s]"
      ]
     },
     "metadata": {},
     "output_type": "display_data"
    },
    {
     "name": "stderr",
     "output_type": "stream",
     "text": [
      "d:\\research_models\\handwritten_ocr\\handwritten_ocr\\.venv\\Lib\\site-packages\\sklearn\\metrics\\_regression.py:492: FutureWarning: 'squared' is deprecated in version 1.4 and will be removed in 1.6. To calculate the root mean squared error, use the function'root_mean_squared_error'.\n",
      "  warnings.warn(\n"
     ]
    },
    {
     "name": "stdout",
     "output_type": "stream",
     "text": [
      "{'eval_loss': 0.02053263410925865, 'eval_rmse': 0.14326195418834686, 'eval_runtime': 5.5217, 'eval_samples_per_second': 1.811, 'eval_steps_per_second': 0.362, 'epoch': 6.0}\n"
     ]
    },
    {
     "data": {
      "application/vnd.jupyter.widget-view+json": {
       "model_id": "4b833bdcb1b5420eaf6dddf76f097a92",
       "version_major": 2,
       "version_minor": 0
      },
      "text/plain": [
       "  0%|          | 0/2 [00:00<?, ?it/s]"
      ]
     },
     "metadata": {},
     "output_type": "display_data"
    },
    {
     "name": "stderr",
     "output_type": "stream",
     "text": [
      "d:\\research_models\\handwritten_ocr\\handwritten_ocr\\.venv\\Lib\\site-packages\\sklearn\\metrics\\_regression.py:492: FutureWarning: 'squared' is deprecated in version 1.4 and will be removed in 1.6. To calculate the root mean squared error, use the function'root_mean_squared_error'.\n",
      "  warnings.warn(\n"
     ]
    },
    {
     "name": "stdout",
     "output_type": "stream",
     "text": [
      "{'eval_loss': 0.01703459396958351, 'eval_rmse': 0.12977483868598938, 'eval_runtime': 5.3986, 'eval_samples_per_second': 1.852, 'eval_steps_per_second': 0.37, 'epoch': 7.0}\n",
      "{'train_runtime': 563.1075, 'train_samples_per_second': 0.448, 'train_steps_per_second': 0.062, 'train_loss': 0.254055540902274, 'epoch': 7.0}\n"
     ]
    },
    {
     "data": {
      "application/vnd.jupyter.widget-view+json": {
       "model_id": "d4864ff7bd244aa9864a859d2473d2c7",
       "version_major": 2,
       "version_minor": 0
      },
      "text/plain": [
       "  0%|          | 0/2 [00:00<?, ?it/s]"
      ]
     },
     "metadata": {},
     "output_type": "display_data"
    },
    {
     "name": "stderr",
     "output_type": "stream",
     "text": [
      "d:\\research_models\\handwritten_ocr\\handwritten_ocr\\.venv\\Lib\\site-packages\\sklearn\\metrics\\_regression.py:492: FutureWarning: 'squared' is deprecated in version 1.4 and will be removed in 1.6. To calculate the root mean squared error, use the function'root_mean_squared_error'.\n",
      "  warnings.warn(\n",
      "[I 2024-11-20 03:54:20,765] Trial 4 finished with value: 0.12977483868598938 and parameters: {'learning_rate': 3.908869773882852e-05, 'batch_size': 8, 'weight_decay': 0.05458254091084816, 'num_epochs': 7, 'dropout_rate': 0.18171617704115506, 'warmup_steps': 229, 'gradient_accumulation_steps': 1}. Best is trial 4 with value: 0.12977483868598938.\n",
      "d:\\research_models\\handwritten_ocr\\handwritten_ocr\\.venv\\Lib\\site-packages\\transformers\\training_args.py:1559: FutureWarning: `evaluation_strategy` is deprecated and will be removed in version 4.46 of 🤗 Transformers. Use `eval_strategy` instead\n",
      "  warnings.warn(\n"
     ]
    },
    {
     "data": {
      "application/vnd.jupyter.widget-view+json": {
       "model_id": "46f7e9e2188942eba8bda740280e4d2c",
       "version_major": 2,
       "version_minor": 0
      },
      "text/plain": [
       "  0%|          | 0/8 [00:00<?, ?it/s]"
      ]
     },
     "metadata": {},
     "output_type": "display_data"
    },
    {
     "data": {
      "application/vnd.jupyter.widget-view+json": {
       "model_id": "9bc8c7bbd5934b468ebeeb84ce84b66f",
       "version_major": 2,
       "version_minor": 0
      },
      "text/plain": [
       "  0%|          | 0/2 [00:00<?, ?it/s]"
      ]
     },
     "metadata": {},
     "output_type": "display_data"
    },
    {
     "name": "stderr",
     "output_type": "stream",
     "text": [
      "d:\\research_models\\handwritten_ocr\\handwritten_ocr\\.venv\\Lib\\site-packages\\sklearn\\metrics\\_regression.py:492: FutureWarning: 'squared' is deprecated in version 1.4 and will be removed in 1.6. To calculate the root mean squared error, use the function'root_mean_squared_error'.\n",
      "  warnings.warn(\n"
     ]
    },
    {
     "name": "stdout",
     "output_type": "stream",
     "text": [
      "{'eval_loss': 0.8370658159255981, 'eval_rmse': 0.8152109980583191, 'eval_runtime': 5.4831, 'eval_samples_per_second': 1.824, 'eval_steps_per_second': 0.365, 'epoch': 0.8}\n"
     ]
    },
    {
     "data": {
      "application/vnd.jupyter.widget-view+json": {
       "model_id": "55d86bb770ce45198df0dddc66870576",
       "version_major": 2,
       "version_minor": 0
      },
      "text/plain": [
       "  0%|          | 0/2 [00:00<?, ?it/s]"
      ]
     },
     "metadata": {},
     "output_type": "display_data"
    },
    {
     "name": "stderr",
     "output_type": "stream",
     "text": [
      "d:\\research_models\\handwritten_ocr\\handwritten_ocr\\.venv\\Lib\\site-packages\\sklearn\\metrics\\_regression.py:492: FutureWarning: 'squared' is deprecated in version 1.4 and will be removed in 1.6. To calculate the root mean squared error, use the function'root_mean_squared_error'.\n",
      "  warnings.warn(\n"
     ]
    },
    {
     "name": "stdout",
     "output_type": "stream",
     "text": [
      "{'eval_loss': 0.8358033895492554, 'eval_rmse': 0.8147394061088562, 'eval_runtime': 5.4772, 'eval_samples_per_second': 1.826, 'eval_steps_per_second': 0.365, 'epoch': 2.0}\n"
     ]
    },
    {
     "data": {
      "application/vnd.jupyter.widget-view+json": {
       "model_id": "9097a77eda5f4dd78d1292f5e3be4c87",
       "version_major": 2,
       "version_minor": 0
      },
      "text/plain": [
       "  0%|          | 0/2 [00:00<?, ?it/s]"
      ]
     },
     "metadata": {},
     "output_type": "display_data"
    },
    {
     "name": "stderr",
     "output_type": "stream",
     "text": [
      "d:\\research_models\\handwritten_ocr\\handwritten_ocr\\.venv\\Lib\\site-packages\\sklearn\\metrics\\_regression.py:492: FutureWarning: 'squared' is deprecated in version 1.4 and will be removed in 1.6. To calculate the root mean squared error, use the function'root_mean_squared_error'.\n",
      "  warnings.warn(\n"
     ]
    },
    {
     "name": "stdout",
     "output_type": "stream",
     "text": [
      "{'eval_loss': 0.8342365026473999, 'eval_rmse': 0.8141574263572693, 'eval_runtime': 5.2906, 'eval_samples_per_second': 1.89, 'eval_steps_per_second': 0.378, 'epoch': 2.8}\n"
     ]
    },
    {
     "data": {
      "application/vnd.jupyter.widget-view+json": {
       "model_id": "1baa0df2e9ac4400879f3216dba6b697",
       "version_major": 2,
       "version_minor": 0
      },
      "text/plain": [
       "  0%|          | 0/2 [00:00<?, ?it/s]"
      ]
     },
     "metadata": {},
     "output_type": "display_data"
    },
    {
     "name": "stderr",
     "output_type": "stream",
     "text": [
      "d:\\research_models\\handwritten_ocr\\handwritten_ocr\\.venv\\Lib\\site-packages\\sklearn\\metrics\\_regression.py:492: FutureWarning: 'squared' is deprecated in version 1.4 and will be removed in 1.6. To calculate the root mean squared error, use the function'root_mean_squared_error'.\n",
      "  warnings.warn(\n"
     ]
    },
    {
     "name": "stdout",
     "output_type": "stream",
     "text": [
      "{'eval_loss': 0.8332147598266602, 'eval_rmse': 0.8137772679328918, 'eval_runtime': 5.4384, 'eval_samples_per_second': 1.839, 'eval_steps_per_second': 0.368, 'epoch': 3.2}\n",
      "{'train_runtime': 260.9354, 'train_samples_per_second': 0.552, 'train_steps_per_second': 0.031, 'train_loss': 1.5308291912078857, 'epoch': 3.2}\n"
     ]
    },
    {
     "data": {
      "application/vnd.jupyter.widget-view+json": {
       "model_id": "87ec883c8d654f8f8111a41943b2e065",
       "version_major": 2,
       "version_minor": 0
      },
      "text/plain": [
       "  0%|          | 0/2 [00:00<?, ?it/s]"
      ]
     },
     "metadata": {},
     "output_type": "display_data"
    },
    {
     "name": "stderr",
     "output_type": "stream",
     "text": [
      "d:\\research_models\\handwritten_ocr\\handwritten_ocr\\.venv\\Lib\\site-packages\\sklearn\\metrics\\_regression.py:492: FutureWarning: 'squared' is deprecated in version 1.4 and will be removed in 1.6. To calculate the root mean squared error, use the function'root_mean_squared_error'.\n",
      "  warnings.warn(\n",
      "[I 2024-11-20 03:58:48,772] Trial 5 finished with value: 0.8137772679328918 and parameters: {'learning_rate': 1.0669156963395519e-06, 'batch_size': 8, 'weight_decay': 0.04520523519303713, 'num_epochs': 4, 'dropout_rate': 0.12877117510713343, 'warmup_steps': 336, 'gradient_accumulation_steps': 2}. Best is trial 4 with value: 0.12977483868598938.\n",
      "d:\\research_models\\handwritten_ocr\\handwritten_ocr\\.venv\\Lib\\site-packages\\transformers\\training_args.py:1559: FutureWarning: `evaluation_strategy` is deprecated and will be removed in version 4.46 of 🤗 Transformers. Use `eval_strategy` instead\n",
      "  warnings.warn(\n"
     ]
    },
    {
     "data": {
      "application/vnd.jupyter.widget-view+json": {
       "model_id": "8fd8543cb88a4eafa8140ea4ee49c8d2",
       "version_major": 2,
       "version_minor": 0
      },
      "text/plain": [
       "  0%|          | 0/5 [00:00<?, ?it/s]"
      ]
     },
     "metadata": {},
     "output_type": "display_data"
    },
    {
     "data": {
      "application/vnd.jupyter.widget-view+json": {
       "model_id": "b289d0e2ce904e23b3400807293cacb3",
       "version_major": 2,
       "version_minor": 0
      },
      "text/plain": [
       "  0%|          | 0/2 [00:00<?, ?it/s]"
      ]
     },
     "metadata": {},
     "output_type": "display_data"
    },
    {
     "name": "stderr",
     "output_type": "stream",
     "text": [
      "d:\\research_models\\handwritten_ocr\\handwritten_ocr\\.venv\\Lib\\site-packages\\sklearn\\metrics\\_regression.py:492: FutureWarning: 'squared' is deprecated in version 1.4 and will be removed in 1.6. To calculate the root mean squared error, use the function'root_mean_squared_error'.\n",
      "  warnings.warn(\n"
     ]
    },
    {
     "name": "stdout",
     "output_type": "stream",
     "text": [
      "{'eval_loss': 0.5908914804458618, 'eval_rmse': 0.7684831023216248, 'eval_runtime': 5.2824, 'eval_samples_per_second': 1.893, 'eval_steps_per_second': 0.379, 'epoch': 0.8}\n"
     ]
    },
    {
     "data": {
      "application/vnd.jupyter.widget-view+json": {
       "model_id": "46f5a91a5e364e6bbb52990b891bdd71",
       "version_major": 2,
       "version_minor": 0
      },
      "text/plain": [
       "  0%|          | 0/2 [00:00<?, ?it/s]"
      ]
     },
     "metadata": {},
     "output_type": "display_data"
    },
    {
     "name": "stderr",
     "output_type": "stream",
     "text": [
      "d:\\research_models\\handwritten_ocr\\handwritten_ocr\\.venv\\Lib\\site-packages\\sklearn\\metrics\\_regression.py:492: FutureWarning: 'squared' is deprecated in version 1.4 and will be removed in 1.6. To calculate the root mean squared error, use the function'root_mean_squared_error'.\n",
      "  warnings.warn(\n"
     ]
    },
    {
     "name": "stdout",
     "output_type": "stream",
     "text": [
      "{'eval_loss': 0.5908118486404419, 'eval_rmse': 0.7684304118156433, 'eval_runtime': 5.2614, 'eval_samples_per_second': 1.901, 'eval_steps_per_second': 0.38, 'epoch': 1.6}\n"
     ]
    },
    {
     "data": {
      "application/vnd.jupyter.widget-view+json": {
       "model_id": "965850e61b6440a2910960277556b12c",
       "version_major": 2,
       "version_minor": 0
      },
      "text/plain": [
       "  0%|          | 0/2 [00:00<?, ?it/s]"
      ]
     },
     "metadata": {},
     "output_type": "display_data"
    },
    {
     "name": "stderr",
     "output_type": "stream",
     "text": [
      "d:\\research_models\\handwritten_ocr\\handwritten_ocr\\.venv\\Lib\\site-packages\\sklearn\\metrics\\_regression.py:492: FutureWarning: 'squared' is deprecated in version 1.4 and will be removed in 1.6. To calculate the root mean squared error, use the function'root_mean_squared_error'.\n",
      "  warnings.warn(\n"
     ]
    },
    {
     "name": "stdout",
     "output_type": "stream",
     "text": [
      "{'eval_loss': 0.5906590223312378, 'eval_rmse': 0.7683291435241699, 'eval_runtime': 5.3574, 'eval_samples_per_second': 1.867, 'eval_steps_per_second': 0.373, 'epoch': 2.4}\n"
     ]
    },
    {
     "data": {
      "application/vnd.jupyter.widget-view+json": {
       "model_id": "4027b8190ce145709037aea562969ecf",
       "version_major": 2,
       "version_minor": 0
      },
      "text/plain": [
       "  0%|          | 0/2 [00:00<?, ?it/s]"
      ]
     },
     "metadata": {},
     "output_type": "display_data"
    },
    {
     "name": "stderr",
     "output_type": "stream",
     "text": [
      "d:\\research_models\\handwritten_ocr\\handwritten_ocr\\.venv\\Lib\\site-packages\\sklearn\\metrics\\_regression.py:492: FutureWarning: 'squared' is deprecated in version 1.4 and will be removed in 1.6. To calculate the root mean squared error, use the function'root_mean_squared_error'.\n",
      "  warnings.warn(\n"
     ]
    },
    {
     "name": "stdout",
     "output_type": "stream",
     "text": [
      "{'eval_loss': 0.5901163816452026, 'eval_rmse': 0.7679699063301086, 'eval_runtime': 5.4, 'eval_samples_per_second': 1.852, 'eval_steps_per_second': 0.37, 'epoch': 4.0}\n",
      "{'train_runtime': 310.6403, 'train_samples_per_second': 0.579, 'train_steps_per_second': 0.016, 'train_loss': 2.681940460205078, 'epoch': 4.0}\n"
     ]
    },
    {
     "data": {
      "application/vnd.jupyter.widget-view+json": {
       "model_id": "d30b0725ed3a4128a7a7c59917bdb7a6",
       "version_major": 2,
       "version_minor": 0
      },
      "text/plain": [
       "  0%|          | 0/2 [00:00<?, ?it/s]"
      ]
     },
     "metadata": {},
     "output_type": "display_data"
    },
    {
     "name": "stderr",
     "output_type": "stream",
     "text": [
      "d:\\research_models\\handwritten_ocr\\handwritten_ocr\\.venv\\Lib\\site-packages\\sklearn\\metrics\\_regression.py:492: FutureWarning: 'squared' is deprecated in version 1.4 and will be removed in 1.6. To calculate the root mean squared error, use the function'root_mean_squared_error'.\n",
      "  warnings.warn(\n",
      "[I 2024-11-20 04:04:06,425] Trial 6 finished with value: 0.7679699063301086 and parameters: {'learning_rate': 1.8928574805764934e-06, 'batch_size': 8, 'weight_decay': 0.09957681228547745, 'num_epochs': 5, 'dropout_rate': 0.31010771717371194, 'warmup_steps': 837, 'gradient_accumulation_steps': 4}. Best is trial 4 with value: 0.12977483868598938.\n",
      "d:\\research_models\\handwritten_ocr\\handwritten_ocr\\.venv\\Lib\\site-packages\\transformers\\training_args.py:1559: FutureWarning: `evaluation_strategy` is deprecated and will be removed in version 4.46 of 🤗 Transformers. Use `eval_strategy` instead\n",
      "  warnings.warn(\n"
     ]
    },
    {
     "data": {
      "application/vnd.jupyter.widget-view+json": {
       "model_id": "f0ccf6e241d34cb7801b961073a1ad52",
       "version_major": 2,
       "version_minor": 0
      },
      "text/plain": [
       "  0%|          | 0/21 [00:00<?, ?it/s]"
      ]
     },
     "metadata": {},
     "output_type": "display_data"
    },
    {
     "data": {
      "application/vnd.jupyter.widget-view+json": {
       "model_id": "53a932c8d10d4d50a8bc6433f98efe52",
       "version_major": 2,
       "version_minor": 0
      },
      "text/plain": [
       "  0%|          | 0/1 [00:00<?, ?it/s]"
      ]
     },
     "metadata": {},
     "output_type": "display_data"
    },
    {
     "name": "stderr",
     "output_type": "stream",
     "text": [
      "d:\\research_models\\handwritten_ocr\\handwritten_ocr\\.venv\\Lib\\site-packages\\sklearn\\metrics\\_regression.py:492: FutureWarning: 'squared' is deprecated in version 1.4 and will be removed in 1.6. To calculate the root mean squared error, use the function'root_mean_squared_error'.\n",
      "  warnings.warn(\n"
     ]
    },
    {
     "name": "stdout",
     "output_type": "stream",
     "text": [
      "{'eval_loss': 0.8639849424362183, 'eval_rmse': 0.8961162567138672, 'eval_runtime': 5.3527, 'eval_samples_per_second': 1.868, 'eval_steps_per_second': 0.187, 'epoch': 1.0}\n"
     ]
    },
    {
     "data": {
      "application/vnd.jupyter.widget-view+json": {
       "model_id": "570fe4bdba4f4c0a84da631e8277585a",
       "version_major": 2,
       "version_minor": 0
      },
      "text/plain": [
       "  0%|          | 0/1 [00:00<?, ?it/s]"
      ]
     },
     "metadata": {},
     "output_type": "display_data"
    },
    {
     "name": "stderr",
     "output_type": "stream",
     "text": [
      "d:\\research_models\\handwritten_ocr\\handwritten_ocr\\.venv\\Lib\\site-packages\\sklearn\\metrics\\_regression.py:492: FutureWarning: 'squared' is deprecated in version 1.4 and will be removed in 1.6. To calculate the root mean squared error, use the function'root_mean_squared_error'.\n",
      "  warnings.warn(\n"
     ]
    },
    {
     "name": "stdout",
     "output_type": "stream",
     "text": [
      "{'eval_loss': 0.8636124730110168, 'eval_rmse': 0.895953357219696, 'eval_runtime': 5.3648, 'eval_samples_per_second': 1.864, 'eval_steps_per_second': 0.186, 'epoch': 2.0}\n"
     ]
    },
    {
     "data": {
      "application/vnd.jupyter.widget-view+json": {
       "model_id": "017b2c0249cd4330939af9f1c2d2035b",
       "version_major": 2,
       "version_minor": 0
      },
      "text/plain": [
       "  0%|          | 0/1 [00:00<?, ?it/s]"
      ]
     },
     "metadata": {},
     "output_type": "display_data"
    },
    {
     "name": "stderr",
     "output_type": "stream",
     "text": [
      "d:\\research_models\\handwritten_ocr\\handwritten_ocr\\.venv\\Lib\\site-packages\\sklearn\\metrics\\_regression.py:492: FutureWarning: 'squared' is deprecated in version 1.4 and will be removed in 1.6. To calculate the root mean squared error, use the function'root_mean_squared_error'.\n",
      "  warnings.warn(\n"
     ]
    },
    {
     "name": "stdout",
     "output_type": "stream",
     "text": [
      "{'eval_loss': 0.8629652261734009, 'eval_rmse': 0.8956678509712219, 'eval_runtime': 5.2987, 'eval_samples_per_second': 1.887, 'eval_steps_per_second': 0.189, 'epoch': 3.0}\n"
     ]
    },
    {
     "data": {
      "application/vnd.jupyter.widget-view+json": {
       "model_id": "830e40c38967445d9b1811d8e61e7524",
       "version_major": 2,
       "version_minor": 0
      },
      "text/plain": [
       "  0%|          | 0/1 [00:00<?, ?it/s]"
      ]
     },
     "metadata": {},
     "output_type": "display_data"
    },
    {
     "name": "stderr",
     "output_type": "stream",
     "text": [
      "d:\\research_models\\handwritten_ocr\\handwritten_ocr\\.venv\\Lib\\site-packages\\sklearn\\metrics\\_regression.py:492: FutureWarning: 'squared' is deprecated in version 1.4 and will be removed in 1.6. To calculate the root mean squared error, use the function'root_mean_squared_error'.\n",
      "  warnings.warn(\n"
     ]
    },
    {
     "name": "stdout",
     "output_type": "stream",
     "text": [
      "{'eval_loss': 0.8620365262031555, 'eval_rmse': 0.8952536582946777, 'eval_runtime': 5.2863, 'eval_samples_per_second': 1.892, 'eval_steps_per_second': 0.189, 'epoch': 4.0}\n"
     ]
    },
    {
     "data": {
      "application/vnd.jupyter.widget-view+json": {
       "model_id": "b9ce894781b94ed6bb8134410adedb56",
       "version_major": 2,
       "version_minor": 0
      },
      "text/plain": [
       "  0%|          | 0/1 [00:00<?, ?it/s]"
      ]
     },
     "metadata": {},
     "output_type": "display_data"
    },
    {
     "name": "stderr",
     "output_type": "stream",
     "text": [
      "d:\\research_models\\handwritten_ocr\\handwritten_ocr\\.venv\\Lib\\site-packages\\sklearn\\metrics\\_regression.py:492: FutureWarning: 'squared' is deprecated in version 1.4 and will be removed in 1.6. To calculate the root mean squared error, use the function'root_mean_squared_error'.\n",
      "  warnings.warn(\n"
     ]
    },
    {
     "name": "stdout",
     "output_type": "stream",
     "text": [
      "{'eval_loss': 0.8608056902885437, 'eval_rmse': 0.8947094082832336, 'eval_runtime': 5.3553, 'eval_samples_per_second': 1.867, 'eval_steps_per_second': 0.187, 'epoch': 5.0}\n"
     ]
    },
    {
     "data": {
      "application/vnd.jupyter.widget-view+json": {
       "model_id": "508d6ead5ed4433ca5a73513db357ba5",
       "version_major": 2,
       "version_minor": 0
      },
      "text/plain": [
       "  0%|          | 0/1 [00:00<?, ?it/s]"
      ]
     },
     "metadata": {},
     "output_type": "display_data"
    },
    {
     "name": "stderr",
     "output_type": "stream",
     "text": [
      "d:\\research_models\\handwritten_ocr\\handwritten_ocr\\.venv\\Lib\\site-packages\\sklearn\\metrics\\_regression.py:492: FutureWarning: 'squared' is deprecated in version 1.4 and will be removed in 1.6. To calculate the root mean squared error, use the function'root_mean_squared_error'.\n",
      "  warnings.warn(\n"
     ]
    },
    {
     "name": "stdout",
     "output_type": "stream",
     "text": [
      "{'eval_loss': 0.8592908978462219, 'eval_rmse': 0.8940339088439941, 'eval_runtime': 5.3451, 'eval_samples_per_second': 1.871, 'eval_steps_per_second': 0.187, 'epoch': 6.0}\n"
     ]
    },
    {
     "data": {
      "application/vnd.jupyter.widget-view+json": {
       "model_id": "78eaa61d9f8940ff8600caa0bde20a2d",
       "version_major": 2,
       "version_minor": 0
      },
      "text/plain": [
       "  0%|          | 0/1 [00:00<?, ?it/s]"
      ]
     },
     "metadata": {},
     "output_type": "display_data"
    },
    {
     "name": "stderr",
     "output_type": "stream",
     "text": [
      "d:\\research_models\\handwritten_ocr\\handwritten_ocr\\.venv\\Lib\\site-packages\\sklearn\\metrics\\_regression.py:492: FutureWarning: 'squared' is deprecated in version 1.4 and will be removed in 1.6. To calculate the root mean squared error, use the function'root_mean_squared_error'.\n",
      "  warnings.warn(\n"
     ]
    },
    {
     "name": "stdout",
     "output_type": "stream",
     "text": [
      "{'eval_loss': 0.8574365377426147, 'eval_rmse': 0.8932244181632996, 'eval_runtime': 5.4947, 'eval_samples_per_second': 1.82, 'eval_steps_per_second': 0.182, 'epoch': 7.0}\n",
      "{'train_runtime': 686.9298, 'train_samples_per_second': 0.367, 'train_steps_per_second': 0.031, 'train_loss': 0.8461806887672061, 'epoch': 7.0}\n"
     ]
    },
    {
     "data": {
      "application/vnd.jupyter.widget-view+json": {
       "model_id": "1a099edad15c4cacb8575a10c3994c8c",
       "version_major": 2,
       "version_minor": 0
      },
      "text/plain": [
       "  0%|          | 0/1 [00:00<?, ?it/s]"
      ]
     },
     "metadata": {},
     "output_type": "display_data"
    },
    {
     "name": "stderr",
     "output_type": "stream",
     "text": [
      "d:\\research_models\\handwritten_ocr\\handwritten_ocr\\.venv\\Lib\\site-packages\\sklearn\\metrics\\_regression.py:492: FutureWarning: 'squared' is deprecated in version 1.4 and will be removed in 1.6. To calculate the root mean squared error, use the function'root_mean_squared_error'.\n",
      "  warnings.warn(\n",
      "[I 2024-11-20 04:15:40,310] Trial 7 finished with value: 0.8932244181632996 and parameters: {'learning_rate': 1.0272747498593167e-06, 'batch_size': 16, 'weight_decay': 0.042159623785862535, 'num_epochs': 7, 'dropout_rate': 0.25144203599364556, 'warmup_steps': 897, 'gradient_accumulation_steps': 1}. Best is trial 4 with value: 0.12977483868598938.\n",
      "d:\\research_models\\handwritten_ocr\\handwritten_ocr\\.venv\\Lib\\site-packages\\transformers\\training_args.py:1559: FutureWarning: `evaluation_strategy` is deprecated and will be removed in version 4.46 of 🤗 Transformers. Use `eval_strategy` instead\n",
      "  warnings.warn(\n"
     ]
    },
    {
     "data": {
      "application/vnd.jupyter.widget-view+json": {
       "model_id": "1c0aeb98a43340d49b34d7adc3cd603a",
       "version_major": 2,
       "version_minor": 0
      },
      "text/plain": [
       "  0%|          | 0/35 [00:00<?, ?it/s]"
      ]
     },
     "metadata": {},
     "output_type": "display_data"
    },
    {
     "data": {
      "application/vnd.jupyter.widget-view+json": {
       "model_id": "1c5c2ec04aa446b19d7e3dfa42b8d70f",
       "version_major": 2,
       "version_minor": 0
      },
      "text/plain": [
       "  0%|          | 0/2 [00:00<?, ?it/s]"
      ]
     },
     "metadata": {},
     "output_type": "display_data"
    },
    {
     "name": "stderr",
     "output_type": "stream",
     "text": [
      "d:\\research_models\\handwritten_ocr\\handwritten_ocr\\.venv\\Lib\\site-packages\\sklearn\\metrics\\_regression.py:492: FutureWarning: 'squared' is deprecated in version 1.4 and will be removed in 1.6. To calculate the root mean squared error, use the function'root_mean_squared_error'.\n",
      "  warnings.warn(\n"
     ]
    },
    {
     "name": "stdout",
     "output_type": "stream",
     "text": [
      "{'eval_loss': 0.5694876909255981, 'eval_rmse': 0.7529416680335999, 'eval_runtime': 5.3309, 'eval_samples_per_second': 1.876, 'eval_steps_per_second': 0.375, 'epoch': 1.0}\n"
     ]
    },
    {
     "data": {
      "application/vnd.jupyter.widget-view+json": {
       "model_id": "49ffee926748435ea20dc17290388471",
       "version_major": 2,
       "version_minor": 0
      },
      "text/plain": [
       "  0%|          | 0/2 [00:00<?, ?it/s]"
      ]
     },
     "metadata": {},
     "output_type": "display_data"
    },
    {
     "name": "stderr",
     "output_type": "stream",
     "text": [
      "d:\\research_models\\handwritten_ocr\\handwritten_ocr\\.venv\\Lib\\site-packages\\sklearn\\metrics\\_regression.py:492: FutureWarning: 'squared' is deprecated in version 1.4 and will be removed in 1.6. To calculate the root mean squared error, use the function'root_mean_squared_error'.\n",
      "  warnings.warn(\n"
     ]
    },
    {
     "name": "stdout",
     "output_type": "stream",
     "text": [
      "{'eval_loss': 0.5570570230484009, 'eval_rmse': 0.7447754740715027, 'eval_runtime': 5.3629, 'eval_samples_per_second': 1.865, 'eval_steps_per_second': 0.373, 'epoch': 2.0}\n"
     ]
    },
    {
     "data": {
      "application/vnd.jupyter.widget-view+json": {
       "model_id": "c9d717e052204b5d97de387a31b9b982",
       "version_major": 2,
       "version_minor": 0
      },
      "text/plain": [
       "  0%|          | 0/2 [00:00<?, ?it/s]"
      ]
     },
     "metadata": {},
     "output_type": "display_data"
    },
    {
     "name": "stderr",
     "output_type": "stream",
     "text": [
      "d:\\research_models\\handwritten_ocr\\handwritten_ocr\\.venv\\Lib\\site-packages\\sklearn\\metrics\\_regression.py:492: FutureWarning: 'squared' is deprecated in version 1.4 and will be removed in 1.6. To calculate the root mean squared error, use the function'root_mean_squared_error'.\n",
      "  warnings.warn(\n"
     ]
    },
    {
     "name": "stdout",
     "output_type": "stream",
     "text": [
      "{'eval_loss': 0.5370885729789734, 'eval_rmse': 0.731402575969696, 'eval_runtime': 5.5019, 'eval_samples_per_second': 1.818, 'eval_steps_per_second': 0.364, 'epoch': 3.0}\n"
     ]
    },
    {
     "data": {
      "application/vnd.jupyter.widget-view+json": {
       "model_id": "525b0dc5e6f14679956845c78f71a843",
       "version_major": 2,
       "version_minor": 0
      },
      "text/plain": [
       "  0%|          | 0/2 [00:00<?, ?it/s]"
      ]
     },
     "metadata": {},
     "output_type": "display_data"
    },
    {
     "name": "stderr",
     "output_type": "stream",
     "text": [
      "d:\\research_models\\handwritten_ocr\\handwritten_ocr\\.venv\\Lib\\site-packages\\sklearn\\metrics\\_regression.py:492: FutureWarning: 'squared' is deprecated in version 1.4 and will be removed in 1.6. To calculate the root mean squared error, use the function'root_mean_squared_error'.\n",
      "  warnings.warn(\n"
     ]
    },
    {
     "name": "stdout",
     "output_type": "stream",
     "text": [
      "{'eval_loss': 0.5091654062271118, 'eval_rmse': 0.7122308611869812, 'eval_runtime': 5.4487, 'eval_samples_per_second': 1.835, 'eval_steps_per_second': 0.367, 'epoch': 4.0}\n"
     ]
    },
    {
     "data": {
      "application/vnd.jupyter.widget-view+json": {
       "model_id": "b7b9bab09da2440188e160bcd5d8486d",
       "version_major": 2,
       "version_minor": 0
      },
      "text/plain": [
       "  0%|          | 0/2 [00:00<?, ?it/s]"
      ]
     },
     "metadata": {},
     "output_type": "display_data"
    },
    {
     "name": "stderr",
     "output_type": "stream",
     "text": [
      "d:\\research_models\\handwritten_ocr\\handwritten_ocr\\.venv\\Lib\\site-packages\\sklearn\\metrics\\_regression.py:492: FutureWarning: 'squared' is deprecated in version 1.4 and will be removed in 1.6. To calculate the root mean squared error, use the function'root_mean_squared_error'.\n",
      "  warnings.warn(\n"
     ]
    },
    {
     "name": "stdout",
     "output_type": "stream",
     "text": [
      "{'eval_loss': 0.47228965163230896, 'eval_rmse': 0.6860719323158264, 'eval_runtime': 5.4366, 'eval_samples_per_second': 1.839, 'eval_steps_per_second': 0.368, 'epoch': 5.0}\n"
     ]
    },
    {
     "data": {
      "application/vnd.jupyter.widget-view+json": {
       "model_id": "d09af4ebf35e43da955aeeba10905328",
       "version_major": 2,
       "version_minor": 0
      },
      "text/plain": [
       "  0%|          | 0/2 [00:00<?, ?it/s]"
      ]
     },
     "metadata": {},
     "output_type": "display_data"
    },
    {
     "name": "stderr",
     "output_type": "stream",
     "text": [
      "d:\\research_models\\handwritten_ocr\\handwritten_ocr\\.venv\\Lib\\site-packages\\sklearn\\metrics\\_regression.py:492: FutureWarning: 'squared' is deprecated in version 1.4 and will be removed in 1.6. To calculate the root mean squared error, use the function'root_mean_squared_error'.\n",
      "  warnings.warn(\n"
     ]
    },
    {
     "name": "stdout",
     "output_type": "stream",
     "text": [
      "{'eval_loss': 0.4292353689670563, 'eval_rmse': 0.654167115688324, 'eval_runtime': 5.4006, 'eval_samples_per_second': 1.852, 'eval_steps_per_second': 0.37, 'epoch': 6.0}\n"
     ]
    },
    {
     "data": {
      "application/vnd.jupyter.widget-view+json": {
       "model_id": "463c2709f9284be5add4a68a4e13e2ac",
       "version_major": 2,
       "version_minor": 0
      },
      "text/plain": [
       "  0%|          | 0/2 [00:00<?, ?it/s]"
      ]
     },
     "metadata": {},
     "output_type": "display_data"
    },
    {
     "name": "stderr",
     "output_type": "stream",
     "text": [
      "d:\\research_models\\handwritten_ocr\\handwritten_ocr\\.venv\\Lib\\site-packages\\sklearn\\metrics\\_regression.py:492: FutureWarning: 'squared' is deprecated in version 1.4 and will be removed in 1.6. To calculate the root mean squared error, use the function'root_mean_squared_error'.\n",
      "  warnings.warn(\n"
     ]
    },
    {
     "name": "stdout",
     "output_type": "stream",
     "text": [
      "{'eval_loss': 0.38070762157440186, 'eval_rmse': 0.6162629723548889, 'eval_runtime': 5.3611, 'eval_samples_per_second': 1.865, 'eval_steps_per_second': 0.373, 'epoch': 7.0}\n",
      "{'train_runtime': 560.7809, 'train_samples_per_second': 0.449, 'train_steps_per_second': 0.062, 'train_loss': 0.4861869267054966, 'epoch': 7.0}\n"
     ]
    },
    {
     "data": {
      "application/vnd.jupyter.widget-view+json": {
       "model_id": "ef5edc06e3c646a49dda2b1bbd574d62",
       "version_major": 2,
       "version_minor": 0
      },
      "text/plain": [
       "  0%|          | 0/2 [00:00<?, ?it/s]"
      ]
     },
     "metadata": {},
     "output_type": "display_data"
    },
    {
     "name": "stderr",
     "output_type": "stream",
     "text": [
      "d:\\research_models\\handwritten_ocr\\handwritten_ocr\\.venv\\Lib\\site-packages\\sklearn\\metrics\\_regression.py:492: FutureWarning: 'squared' is deprecated in version 1.4 and will be removed in 1.6. To calculate the root mean squared error, use the function'root_mean_squared_error'.\n",
      "  warnings.warn(\n",
      "[I 2024-11-20 04:25:08,467] Trial 8 finished with value: 0.6162629723548889 and parameters: {'learning_rate': 8.097050042595478e-06, 'batch_size': 8, 'weight_decay': 0.03859745228855783, 'num_epochs': 7, 'dropout_rate': 0.47956640078555623, 'warmup_steps': 404, 'gradient_accumulation_steps': 1}. Best is trial 4 with value: 0.12977483868598938.\n",
      "d:\\research_models\\handwritten_ocr\\handwritten_ocr\\.venv\\Lib\\site-packages\\transformers\\training_args.py:1559: FutureWarning: `evaluation_strategy` is deprecated and will be removed in version 4.46 of 🤗 Transformers. Use `eval_strategy` instead\n",
      "  warnings.warn(\n"
     ]
    },
    {
     "data": {
      "application/vnd.jupyter.widget-view+json": {
       "model_id": "60da1add08074e8ba4aa16b5623993bd",
       "version_major": 2,
       "version_minor": 0
      },
      "text/plain": [
       "  0%|          | 0/9 [00:00<?, ?it/s]"
      ]
     },
     "metadata": {},
     "output_type": "display_data"
    },
    {
     "data": {
      "application/vnd.jupyter.widget-view+json": {
       "model_id": "8ed0f06275e04984ab0ae1fe06aa14d1",
       "version_major": 2,
       "version_minor": 0
      },
      "text/plain": [
       "  0%|          | 0/1 [00:00<?, ?it/s]"
      ]
     },
     "metadata": {},
     "output_type": "display_data"
    },
    {
     "name": "stderr",
     "output_type": "stream",
     "text": [
      "d:\\research_models\\handwritten_ocr\\handwritten_ocr\\.venv\\Lib\\site-packages\\sklearn\\metrics\\_regression.py:492: FutureWarning: 'squared' is deprecated in version 1.4 and will be removed in 1.6. To calculate the root mean squared error, use the function'root_mean_squared_error'.\n",
      "  warnings.warn(\n"
     ]
    },
    {
     "name": "stdout",
     "output_type": "stream",
     "text": [
      "{'eval_loss': 0.8372117280960083, 'eval_rmse': 0.8152649998664856, 'eval_runtime': 5.4174, 'eval_samples_per_second': 1.846, 'eval_steps_per_second': 0.185, 'epoch': 1.0}\n"
     ]
    },
    {
     "data": {
      "application/vnd.jupyter.widget-view+json": {
       "model_id": "4560448d57c64c95a7367e10e0961fcf",
       "version_major": 2,
       "version_minor": 0
      },
      "text/plain": [
       "  0%|          | 0/1 [00:00<?, ?it/s]"
      ]
     },
     "metadata": {},
     "output_type": "display_data"
    },
    {
     "name": "stderr",
     "output_type": "stream",
     "text": [
      "d:\\research_models\\handwritten_ocr\\handwritten_ocr\\.venv\\Lib\\site-packages\\sklearn\\metrics\\_regression.py:492: FutureWarning: 'squared' is deprecated in version 1.4 and will be removed in 1.6. To calculate the root mean squared error, use the function'root_mean_squared_error'.\n",
      "  warnings.warn(\n"
     ]
    },
    {
     "name": "stdout",
     "output_type": "stream",
     "text": [
      "{'eval_loss': 0.836164116859436, 'eval_rmse': 0.8148725628852844, 'eval_runtime': 5.3955, 'eval_samples_per_second': 1.853, 'eval_steps_per_second': 0.185, 'epoch': 2.0}\n"
     ]
    },
    {
     "data": {
      "application/vnd.jupyter.widget-view+json": {
       "model_id": "8e576151d8c0466da1b3586367953537",
       "version_major": 2,
       "version_minor": 0
      },
      "text/plain": [
       "  0%|          | 0/1 [00:00<?, ?it/s]"
      ]
     },
     "metadata": {},
     "output_type": "display_data"
    },
    {
     "name": "stderr",
     "output_type": "stream",
     "text": [
      "d:\\research_models\\handwritten_ocr\\handwritten_ocr\\.venv\\Lib\\site-packages\\sklearn\\metrics\\_regression.py:492: FutureWarning: 'squared' is deprecated in version 1.4 and will be removed in 1.6. To calculate the root mean squared error, use the function'root_mean_squared_error'.\n",
      "  warnings.warn(\n"
     ]
    },
    {
     "name": "stdout",
     "output_type": "stream",
     "text": [
      "{'eval_loss': 0.8336883783340454, 'eval_rmse': 0.8139470219612122, 'eval_runtime': 5.3929, 'eval_samples_per_second': 1.854, 'eval_steps_per_second': 0.185, 'epoch': 3.0}\n"
     ]
    },
    {
     "data": {
      "application/vnd.jupyter.widget-view+json": {
       "model_id": "dbdb41bf46f54f7c95995d26c4387704",
       "version_major": 2,
       "version_minor": 0
      },
      "text/plain": [
       "  0%|          | 0/1 [00:00<?, ?it/s]"
      ]
     },
     "metadata": {},
     "output_type": "display_data"
    },
    {
     "name": "stderr",
     "output_type": "stream",
     "text": [
      "d:\\research_models\\handwritten_ocr\\handwritten_ocr\\.venv\\Lib\\site-packages\\sklearn\\metrics\\_regression.py:492: FutureWarning: 'squared' is deprecated in version 1.4 and will be removed in 1.6. To calculate the root mean squared error, use the function'root_mean_squared_error'.\n",
      "  warnings.warn(\n"
     ]
    },
    {
     "name": "stdout",
     "output_type": "stream",
     "text": [
      "{'eval_loss': 0.8319021463394165, 'eval_rmse': 0.8132801055908203, 'eval_runtime': 5.491, 'eval_samples_per_second': 1.821, 'eval_steps_per_second': 0.182, 'epoch': 4.0}\n"
     ]
    },
    {
     "data": {
      "application/vnd.jupyter.widget-view+json": {
       "model_id": "29f99685485c4351bc6c8621177495c6",
       "version_major": 2,
       "version_minor": 0
      },
      "text/plain": [
       "  0%|          | 0/1 [00:00<?, ?it/s]"
      ]
     },
     "metadata": {},
     "output_type": "display_data"
    },
    {
     "name": "stderr",
     "output_type": "stream",
     "text": [
      "d:\\research_models\\handwritten_ocr\\handwritten_ocr\\.venv\\Lib\\site-packages\\sklearn\\metrics\\_regression.py:492: FutureWarning: 'squared' is deprecated in version 1.4 and will be removed in 1.6. To calculate the root mean squared error, use the function'root_mean_squared_error'.\n",
      "  warnings.warn(\n"
     ]
    },
    {
     "name": "stdout",
     "output_type": "stream",
     "text": [
      "{'eval_loss': 0.8297611474990845, 'eval_rmse': 0.8124732971191406, 'eval_runtime': 5.6364, 'eval_samples_per_second': 1.774, 'eval_steps_per_second': 0.177, 'epoch': 5.0}\n"
     ]
    },
    {
     "data": {
      "application/vnd.jupyter.widget-view+json": {
       "model_id": "d385518ffd914b679eef6f00ad882ea8",
       "version_major": 2,
       "version_minor": 0
      },
      "text/plain": [
       "  0%|          | 0/1 [00:00<?, ?it/s]"
      ]
     },
     "metadata": {},
     "output_type": "display_data"
    },
    {
     "name": "stderr",
     "output_type": "stream",
     "text": [
      "d:\\research_models\\handwritten_ocr\\handwritten_ocr\\.venv\\Lib\\site-packages\\sklearn\\metrics\\_regression.py:492: FutureWarning: 'squared' is deprecated in version 1.4 and will be removed in 1.6. To calculate the root mean squared error, use the function'root_mean_squared_error'.\n",
      "  warnings.warn(\n"
     ]
    },
    {
     "name": "stdout",
     "output_type": "stream",
     "text": [
      "{'eval_loss': 0.8243486285209656, 'eval_rmse': 0.8104364275932312, 'eval_runtime': 5.4024, 'eval_samples_per_second': 1.851, 'eval_steps_per_second': 0.185, 'epoch': 6.0}\n",
      "{'train_runtime': 587.0721, 'train_samples_per_second': 0.552, 'train_steps_per_second': 0.015, 'train_loss': 1.5419090059068468, 'epoch': 6.0}\n"
     ]
    },
    {
     "data": {
      "application/vnd.jupyter.widget-view+json": {
       "model_id": "da062fbf7e1c49938ed5d8f3f2eda9c2",
       "version_major": 2,
       "version_minor": 0
      },
      "text/plain": [
       "  0%|          | 0/1 [00:00<?, ?it/s]"
      ]
     },
     "metadata": {},
     "output_type": "display_data"
    },
    {
     "name": "stderr",
     "output_type": "stream",
     "text": [
      "d:\\research_models\\handwritten_ocr\\handwritten_ocr\\.venv\\Lib\\site-packages\\sklearn\\metrics\\_regression.py:492: FutureWarning: 'squared' is deprecated in version 1.4 and will be removed in 1.6. To calculate the root mean squared error, use the function'root_mean_squared_error'.\n",
      "  warnings.warn(\n",
      "[I 2024-11-20 04:35:01,946] Trial 9 finished with value: 0.8104364275932312 and parameters: {'learning_rate': 7.803931068128743e-06, 'batch_size': 16, 'weight_decay': 0.07564589447603635, 'num_epochs': 9, 'dropout_rate': 0.38596507523379187, 'warmup_steps': 942, 'gradient_accumulation_steps': 4}. Best is trial 4 with value: 0.12977483868598938.\n",
      "d:\\research_models\\handwritten_ocr\\handwritten_ocr\\.venv\\Lib\\site-packages\\transformers\\training_args.py:1559: FutureWarning: `evaluation_strategy` is deprecated and will be removed in version 4.46 of 🤗 Transformers. Use `eval_strategy` instead\n",
      "  warnings.warn(\n"
     ]
    },
    {
     "data": {
      "application/vnd.jupyter.widget-view+json": {
       "model_id": "2215267a55494413875d48f37b299e2e",
       "version_major": 2,
       "version_minor": 0
      },
      "text/plain": [
       "  0%|          | 0/81 [00:00<?, ?it/s]"
      ]
     },
     "metadata": {},
     "output_type": "display_data"
    },
    {
     "data": {
      "application/vnd.jupyter.widget-view+json": {
       "model_id": "661fea46e07049adb1564d18da485007",
       "version_major": 2,
       "version_minor": 0
      },
      "text/plain": [
       "  0%|          | 0/3 [00:00<?, ?it/s]"
      ]
     },
     "metadata": {},
     "output_type": "display_data"
    },
    {
     "name": "stderr",
     "output_type": "stream",
     "text": [
      "d:\\research_models\\handwritten_ocr\\handwritten_ocr\\.venv\\Lib\\site-packages\\sklearn\\metrics\\_regression.py:492: FutureWarning: 'squared' is deprecated in version 1.4 and will be removed in 1.6. To calculate the root mean squared error, use the function'root_mean_squared_error'.\n",
      "  warnings.warn(\n"
     ]
    },
    {
     "name": "stdout",
     "output_type": "stream",
     "text": [
      "{'eval_loss': 0.24648654460906982, 'eval_rmse': 0.42539727687835693, 'eval_runtime': 5.2116, 'eval_samples_per_second': 1.919, 'eval_steps_per_second': 0.576, 'epoch': 1.0}\n"
     ]
    },
    {
     "data": {
      "application/vnd.jupyter.widget-view+json": {
       "model_id": "96f9a3de408c45759d3fbe80f9a7b6be",
       "version_major": 2,
       "version_minor": 0
      },
      "text/plain": [
       "  0%|          | 0/3 [00:00<?, ?it/s]"
      ]
     },
     "metadata": {},
     "output_type": "display_data"
    },
    {
     "name": "stderr",
     "output_type": "stream",
     "text": [
      "d:\\research_models\\handwritten_ocr\\handwritten_ocr\\.venv\\Lib\\site-packages\\sklearn\\metrics\\_regression.py:492: FutureWarning: 'squared' is deprecated in version 1.4 and will be removed in 1.6. To calculate the root mean squared error, use the function'root_mean_squared_error'.\n",
      "  warnings.warn(\n"
     ]
    },
    {
     "name": "stdout",
     "output_type": "stream",
     "text": [
      "{'eval_loss': 0.05212489515542984, 'eval_rmse': 0.21840636432170868, 'eval_runtime': 5.2002, 'eval_samples_per_second': 1.923, 'eval_steps_per_second': 0.577, 'epoch': 2.0}\n"
     ]
    },
    {
     "data": {
      "application/vnd.jupyter.widget-view+json": {
       "model_id": "5e3e342b1d7441e9bb7b222b017b2e76",
       "version_major": 2,
       "version_minor": 0
      },
      "text/plain": [
       "  0%|          | 0/3 [00:00<?, ?it/s]"
      ]
     },
     "metadata": {},
     "output_type": "display_data"
    },
    {
     "name": "stderr",
     "output_type": "stream",
     "text": [
      "d:\\research_models\\handwritten_ocr\\handwritten_ocr\\.venv\\Lib\\site-packages\\sklearn\\metrics\\_regression.py:492: FutureWarning: 'squared' is deprecated in version 1.4 and will be removed in 1.6. To calculate the root mean squared error, use the function'root_mean_squared_error'.\n",
      "  warnings.warn(\n"
     ]
    },
    {
     "name": "stdout",
     "output_type": "stream",
     "text": [
      "{'eval_loss': 0.022029515355825424, 'eval_rmse': 0.1478663831949234, 'eval_runtime': 5.0335, 'eval_samples_per_second': 1.987, 'eval_steps_per_second': 0.596, 'epoch': 3.0}\n"
     ]
    },
    {
     "data": {
      "application/vnd.jupyter.widget-view+json": {
       "model_id": "af63ec8ed6324178aaf65f41c97c3e59",
       "version_major": 2,
       "version_minor": 0
      },
      "text/plain": [
       "  0%|          | 0/3 [00:00<?, ?it/s]"
      ]
     },
     "metadata": {},
     "output_type": "display_data"
    },
    {
     "name": "stderr",
     "output_type": "stream",
     "text": [
      "d:\\research_models\\handwritten_ocr\\handwritten_ocr\\.venv\\Lib\\site-packages\\sklearn\\metrics\\_regression.py:492: FutureWarning: 'squared' is deprecated in version 1.4 and will be removed in 1.6. To calculate the root mean squared error, use the function'root_mean_squared_error'.\n",
      "  warnings.warn(\n"
     ]
    },
    {
     "name": "stdout",
     "output_type": "stream",
     "text": [
      "{'eval_loss': 0.04108104109764099, 'eval_rmse': 0.18902508914470673, 'eval_runtime': 5.087, 'eval_samples_per_second': 1.966, 'eval_steps_per_second': 0.59, 'epoch': 4.0}\n"
     ]
    },
    {
     "data": {
      "application/vnd.jupyter.widget-view+json": {
       "model_id": "96c99a6fdbe64feab2ead266afb21fd4",
       "version_major": 2,
       "version_minor": 0
      },
      "text/plain": [
       "  0%|          | 0/3 [00:00<?, ?it/s]"
      ]
     },
     "metadata": {},
     "output_type": "display_data"
    },
    {
     "name": "stderr",
     "output_type": "stream",
     "text": [
      "d:\\research_models\\handwritten_ocr\\handwritten_ocr\\.venv\\Lib\\site-packages\\sklearn\\metrics\\_regression.py:492: FutureWarning: 'squared' is deprecated in version 1.4 and will be removed in 1.6. To calculate the root mean squared error, use the function'root_mean_squared_error'.\n",
      "  warnings.warn(\n"
     ]
    },
    {
     "name": "stdout",
     "output_type": "stream",
     "text": [
      "{'eval_loss': 0.02680594101548195, 'eval_rmse': 0.16217559576034546, 'eval_runtime': 5.0617, 'eval_samples_per_second': 1.976, 'eval_steps_per_second': 0.593, 'epoch': 5.0}\n",
      "{'loss': 0.1922, 'grad_norm': 3.1433353424072266, 'learning_rate': 4.0321695539260345e-05, 'epoch': 5.56}\n"
     ]
    },
    {
     "data": {
      "application/vnd.jupyter.widget-view+json": {
       "model_id": "9c062c210a39433c858495927ff8dbfa",
       "version_major": 2,
       "version_minor": 0
      },
      "text/plain": [
       "  0%|          | 0/3 [00:00<?, ?it/s]"
      ]
     },
     "metadata": {},
     "output_type": "display_data"
    },
    {
     "name": "stderr",
     "output_type": "stream",
     "text": [
      "d:\\research_models\\handwritten_ocr\\handwritten_ocr\\.venv\\Lib\\site-packages\\sklearn\\metrics\\_regression.py:492: FutureWarning: 'squared' is deprecated in version 1.4 and will be removed in 1.6. To calculate the root mean squared error, use the function'root_mean_squared_error'.\n",
      "  warnings.warn(\n"
     ]
    },
    {
     "name": "stdout",
     "output_type": "stream",
     "text": [
      "{'eval_loss': 0.025576597079634666, 'eval_rmse': 0.15895183384418488, 'eval_runtime': 5.3056, 'eval_samples_per_second': 1.885, 'eval_steps_per_second': 0.565, 'epoch': 6.0}\n"
     ]
    },
    {
     "data": {
      "application/vnd.jupyter.widget-view+json": {
       "model_id": "1a275eee56d64281bfa22c1741e46771",
       "version_major": 2,
       "version_minor": 0
      },
      "text/plain": [
       "  0%|          | 0/3 [00:00<?, ?it/s]"
      ]
     },
     "metadata": {},
     "output_type": "display_data"
    },
    {
     "name": "stderr",
     "output_type": "stream",
     "text": [
      "d:\\research_models\\handwritten_ocr\\handwritten_ocr\\.venv\\Lib\\site-packages\\sklearn\\metrics\\_regression.py:492: FutureWarning: 'squared' is deprecated in version 1.4 and will be removed in 1.6. To calculate the root mean squared error, use the function'root_mean_squared_error'.\n",
      "  warnings.warn(\n"
     ]
    },
    {
     "name": "stdout",
     "output_type": "stream",
     "text": [
      "{'eval_loss': 0.04560472071170807, 'eval_rmse': 0.21323169767856598, 'eval_runtime': 5.1837, 'eval_samples_per_second': 1.929, 'eval_steps_per_second': 0.579, 'epoch': 7.0}\n"
     ]
    },
    {
     "data": {
      "application/vnd.jupyter.widget-view+json": {
       "model_id": "d352ae5e66194813a6ce1afad25a251c",
       "version_major": 2,
       "version_minor": 0
      },
      "text/plain": [
       "  0%|          | 0/3 [00:00<?, ?it/s]"
      ]
     },
     "metadata": {},
     "output_type": "display_data"
    },
    {
     "name": "stderr",
     "output_type": "stream",
     "text": [
      "d:\\research_models\\handwritten_ocr\\handwritten_ocr\\.venv\\Lib\\site-packages\\sklearn\\metrics\\_regression.py:492: FutureWarning: 'squared' is deprecated in version 1.4 and will be removed in 1.6. To calculate the root mean squared error, use the function'root_mean_squared_error'.\n",
      "  warnings.warn(\n"
     ]
    },
    {
     "name": "stdout",
     "output_type": "stream",
     "text": [
      "{'eval_loss': 0.053743261843919754, 'eval_rmse': 0.22917775809764862, 'eval_runtime': 5.1383, 'eval_samples_per_second': 1.946, 'eval_steps_per_second': 0.584, 'epoch': 8.0}\n"
     ]
    },
    {
     "data": {
      "application/vnd.jupyter.widget-view+json": {
       "model_id": "a4390fc0c82c4354b57a170b98ab0d10",
       "version_major": 2,
       "version_minor": 0
      },
      "text/plain": [
       "  0%|          | 0/3 [00:00<?, ?it/s]"
      ]
     },
     "metadata": {},
     "output_type": "display_data"
    },
    {
     "name": "stderr",
     "output_type": "stream",
     "text": [
      "d:\\research_models\\handwritten_ocr\\handwritten_ocr\\.venv\\Lib\\site-packages\\sklearn\\metrics\\_regression.py:492: FutureWarning: 'squared' is deprecated in version 1.4 and will be removed in 1.6. To calculate the root mean squared error, use the function'root_mean_squared_error'.\n",
      "  warnings.warn(\n"
     ]
    },
    {
     "name": "stdout",
     "output_type": "stream",
     "text": [
      "{'eval_loss': 0.020376894623041153, 'eval_rmse': 0.14215277135372162, 'eval_runtime': 5.0714, 'eval_samples_per_second': 1.972, 'eval_steps_per_second': 0.592, 'epoch': 9.0}\n",
      "{'train_runtime': 732.9639, 'train_samples_per_second': 0.442, 'train_steps_per_second': 0.111, 'train_loss': 0.14385124489113135, 'epoch': 9.0}\n"
     ]
    },
    {
     "data": {
      "application/vnd.jupyter.widget-view+json": {
       "model_id": "643e1406e9ac452e9931b09bf1c9c256",
       "version_major": 2,
       "version_minor": 0
      },
      "text/plain": [
       "  0%|          | 0/3 [00:00<?, ?it/s]"
      ]
     },
     "metadata": {},
     "output_type": "display_data"
    },
    {
     "name": "stderr",
     "output_type": "stream",
     "text": [
      "d:\\research_models\\handwritten_ocr\\handwritten_ocr\\.venv\\Lib\\site-packages\\sklearn\\metrics\\_regression.py:492: FutureWarning: 'squared' is deprecated in version 1.4 and will be removed in 1.6. To calculate the root mean squared error, use the function'root_mean_squared_error'.\n",
      "  warnings.warn(\n",
      "[I 2024-11-20 04:47:22,248] Trial 10 finished with value: 0.14215277135372162 and parameters: {'learning_rate': 8.951416409715796e-05, 'batch_size': 4, 'weight_decay': 0.0682810823858164, 'num_epochs': 9, 'dropout_rate': 0.24814003754160496, 'warmup_steps': 111, 'gradient_accumulation_steps': 1}. Best is trial 4 with value: 0.12977483868598938.\n",
      "d:\\research_models\\handwritten_ocr\\handwritten_ocr\\.venv\\Lib\\site-packages\\transformers\\training_args.py:1559: FutureWarning: `evaluation_strategy` is deprecated and will be removed in version 4.46 of 🤗 Transformers. Use `eval_strategy` instead\n",
      "  warnings.warn(\n"
     ]
    },
    {
     "data": {
      "application/vnd.jupyter.widget-view+json": {
       "model_id": "aa6f92fd5d654954be4ac6be724e6654",
       "version_major": 2,
       "version_minor": 0
      },
      "text/plain": [
       "  0%|          | 0/81 [00:00<?, ?it/s]"
      ]
     },
     "metadata": {},
     "output_type": "display_data"
    },
    {
     "data": {
      "application/vnd.jupyter.widget-view+json": {
       "model_id": "3465028ac4a049b19ad322f04053f5d8",
       "version_major": 2,
       "version_minor": 0
      },
      "text/plain": [
       "  0%|          | 0/3 [00:00<?, ?it/s]"
      ]
     },
     "metadata": {},
     "output_type": "display_data"
    },
    {
     "name": "stderr",
     "output_type": "stream",
     "text": [
      "d:\\research_models\\handwritten_ocr\\handwritten_ocr\\.venv\\Lib\\site-packages\\sklearn\\metrics\\_regression.py:492: FutureWarning: 'squared' is deprecated in version 1.4 and will be removed in 1.6. To calculate the root mean squared error, use the function'root_mean_squared_error'.\n",
      "  warnings.warn(\n"
     ]
    },
    {
     "name": "stdout",
     "output_type": "stream",
     "text": [
      "{'eval_loss': 0.3293103575706482, 'eval_rmse': 0.5121244788169861, 'eval_runtime': 5.2014, 'eval_samples_per_second': 1.923, 'eval_steps_per_second': 0.577, 'epoch': 1.0}\n"
     ]
    },
    {
     "data": {
      "application/vnd.jupyter.widget-view+json": {
       "model_id": "7f878f8817144e70af87b13996c1edfb",
       "version_major": 2,
       "version_minor": 0
      },
      "text/plain": [
       "  0%|          | 0/3 [00:00<?, ?it/s]"
      ]
     },
     "metadata": {},
     "output_type": "display_data"
    },
    {
     "name": "stderr",
     "output_type": "stream",
     "text": [
      "d:\\research_models\\handwritten_ocr\\handwritten_ocr\\.venv\\Lib\\site-packages\\sklearn\\metrics\\_regression.py:492: FutureWarning: 'squared' is deprecated in version 1.4 and will be removed in 1.6. To calculate the root mean squared error, use the function'root_mean_squared_error'.\n",
      "  warnings.warn(\n"
     ]
    },
    {
     "name": "stdout",
     "output_type": "stream",
     "text": [
      "{'eval_loss': 0.09624151885509491, 'eval_rmse': 0.3004777729511261, 'eval_runtime': 5.1183, 'eval_samples_per_second': 1.954, 'eval_steps_per_second': 0.586, 'epoch': 2.0}\n"
     ]
    },
    {
     "data": {
      "application/vnd.jupyter.widget-view+json": {
       "model_id": "8269a2e803f04a31ae1f919d3884ed33",
       "version_major": 2,
       "version_minor": 0
      },
      "text/plain": [
       "  0%|          | 0/3 [00:00<?, ?it/s]"
      ]
     },
     "metadata": {},
     "output_type": "display_data"
    },
    {
     "name": "stderr",
     "output_type": "stream",
     "text": [
      "d:\\research_models\\handwritten_ocr\\handwritten_ocr\\.venv\\Lib\\site-packages\\sklearn\\metrics\\_regression.py:492: FutureWarning: 'squared' is deprecated in version 1.4 and will be removed in 1.6. To calculate the root mean squared error, use the function'root_mean_squared_error'.\n",
      "  warnings.warn(\n"
     ]
    },
    {
     "name": "stdout",
     "output_type": "stream",
     "text": [
      "{'eval_loss': 0.02264394983649254, 'eval_rmse': 0.14966674149036407, 'eval_runtime': 5.128, 'eval_samples_per_second': 1.95, 'eval_steps_per_second': 0.585, 'epoch': 3.0}\n"
     ]
    },
    {
     "data": {
      "application/vnd.jupyter.widget-view+json": {
       "model_id": "8942480c69b94c2685b9ef835dd6f910",
       "version_major": 2,
       "version_minor": 0
      },
      "text/plain": [
       "  0%|          | 0/3 [00:00<?, ?it/s]"
      ]
     },
     "metadata": {},
     "output_type": "display_data"
    },
    {
     "name": "stderr",
     "output_type": "stream",
     "text": [
      "d:\\research_models\\handwritten_ocr\\handwritten_ocr\\.venv\\Lib\\site-packages\\sklearn\\metrics\\_regression.py:492: FutureWarning: 'squared' is deprecated in version 1.4 and will be removed in 1.6. To calculate the root mean squared error, use the function'root_mean_squared_error'.\n",
      "  warnings.warn(\n"
     ]
    },
    {
     "name": "stdout",
     "output_type": "stream",
     "text": [
      "{'eval_loss': 0.019878465682268143, 'eval_rmse': 0.1387135535478592, 'eval_runtime': 5.1794, 'eval_samples_per_second': 1.931, 'eval_steps_per_second': 0.579, 'epoch': 4.0}\n"
     ]
    },
    {
     "data": {
      "application/vnd.jupyter.widget-view+json": {
       "model_id": "2a655ccff66946e1847b32e7e22bda47",
       "version_major": 2,
       "version_minor": 0
      },
      "text/plain": [
       "  0%|          | 0/3 [00:00<?, ?it/s]"
      ]
     },
     "metadata": {},
     "output_type": "display_data"
    },
    {
     "name": "stderr",
     "output_type": "stream",
     "text": [
      "d:\\research_models\\handwritten_ocr\\handwritten_ocr\\.venv\\Lib\\site-packages\\sklearn\\metrics\\_regression.py:492: FutureWarning: 'squared' is deprecated in version 1.4 and will be removed in 1.6. To calculate the root mean squared error, use the function'root_mean_squared_error'.\n",
      "  warnings.warn(\n"
     ]
    },
    {
     "name": "stdout",
     "output_type": "stream",
     "text": [
      "{'eval_loss': 0.021651700139045715, 'eval_rmse': 0.1462411880493164, 'eval_runtime': 5.1955, 'eval_samples_per_second': 1.925, 'eval_steps_per_second': 0.577, 'epoch': 5.0}\n",
      "{'loss': 0.1932, 'grad_norm': 1.476199746131897, 'learning_rate': 4.731524011264972e-05, 'epoch': 5.56}\n"
     ]
    },
    {
     "data": {
      "application/vnd.jupyter.widget-view+json": {
       "model_id": "01ac86f7996747598c070133fffb152d",
       "version_major": 2,
       "version_minor": 0
      },
      "text/plain": [
       "  0%|          | 0/3 [00:00<?, ?it/s]"
      ]
     },
     "metadata": {},
     "output_type": "display_data"
    },
    {
     "name": "stderr",
     "output_type": "stream",
     "text": [
      "d:\\research_models\\handwritten_ocr\\handwritten_ocr\\.venv\\Lib\\site-packages\\sklearn\\metrics\\_regression.py:492: FutureWarning: 'squared' is deprecated in version 1.4 and will be removed in 1.6. To calculate the root mean squared error, use the function'root_mean_squared_error'.\n",
      "  warnings.warn(\n"
     ]
    },
    {
     "name": "stdout",
     "output_type": "stream",
     "text": [
      "{'eval_loss': 0.08071404695510864, 'eval_rmse': 0.2629472315311432, 'eval_runtime': 5.1054, 'eval_samples_per_second': 1.959, 'eval_steps_per_second': 0.588, 'epoch': 6.0}\n"
     ]
    },
    {
     "data": {
      "application/vnd.jupyter.widget-view+json": {
       "model_id": "3d8c3f5ff0554eeb826a6040507da1ec",
       "version_major": 2,
       "version_minor": 0
      },
      "text/plain": [
       "  0%|          | 0/3 [00:00<?, ?it/s]"
      ]
     },
     "metadata": {},
     "output_type": "display_data"
    },
    {
     "name": "stderr",
     "output_type": "stream",
     "text": [
      "d:\\research_models\\handwritten_ocr\\handwritten_ocr\\.venv\\Lib\\site-packages\\sklearn\\metrics\\_regression.py:492: FutureWarning: 'squared' is deprecated in version 1.4 and will be removed in 1.6. To calculate the root mean squared error, use the function'root_mean_squared_error'.\n",
      "  warnings.warn(\n"
     ]
    },
    {
     "name": "stdout",
     "output_type": "stream",
     "text": [
      "{'eval_loss': 0.027525609359145164, 'eval_rmse': 0.15783807635307312, 'eval_runtime': 5.0493, 'eval_samples_per_second': 1.98, 'eval_steps_per_second': 0.594, 'epoch': 7.0}\n"
     ]
    },
    {
     "data": {
      "application/vnd.jupyter.widget-view+json": {
       "model_id": "53222d2f50764e6cb8604e2260d91f09",
       "version_major": 2,
       "version_minor": 0
      },
      "text/plain": [
       "  0%|          | 0/3 [00:00<?, ?it/s]"
      ]
     },
     "metadata": {},
     "output_type": "display_data"
    },
    {
     "name": "stderr",
     "output_type": "stream",
     "text": [
      "d:\\research_models\\handwritten_ocr\\handwritten_ocr\\.venv\\Lib\\site-packages\\sklearn\\metrics\\_regression.py:492: FutureWarning: 'squared' is deprecated in version 1.4 and will be removed in 1.6. To calculate the root mean squared error, use the function'root_mean_squared_error'.\n",
      "  warnings.warn(\n"
     ]
    },
    {
     "name": "stdout",
     "output_type": "stream",
     "text": [
      "{'eval_loss': 0.0197612252086401, 'eval_rmse': 0.14011041820049286, 'eval_runtime': 5.0016, 'eval_samples_per_second': 1.999, 'eval_steps_per_second': 0.6, 'epoch': 8.0}\n"
     ]
    },
    {
     "data": {
      "application/vnd.jupyter.widget-view+json": {
       "model_id": "9c1971c592a24d208ee20c977372009d",
       "version_major": 2,
       "version_minor": 0
      },
      "text/plain": [
       "  0%|          | 0/3 [00:00<?, ?it/s]"
      ]
     },
     "metadata": {},
     "output_type": "display_data"
    },
    {
     "name": "stderr",
     "output_type": "stream",
     "text": [
      "d:\\research_models\\handwritten_ocr\\handwritten_ocr\\.venv\\Lib\\site-packages\\sklearn\\metrics\\_regression.py:492: FutureWarning: 'squared' is deprecated in version 1.4 and will be removed in 1.6. To calculate the root mean squared error, use the function'root_mean_squared_error'.\n",
      "  warnings.warn(\n"
     ]
    },
    {
     "name": "stdout",
     "output_type": "stream",
     "text": [
      "{'eval_loss': 0.03215450793504715, 'eval_rmse': 0.1743384748697281, 'eval_runtime': 5.1859, 'eval_samples_per_second': 1.928, 'eval_steps_per_second': 0.578, 'epoch': 9.0}\n",
      "{'train_runtime': 730.6059, 'train_samples_per_second': 0.443, 'train_steps_per_second': 0.111, 'train_loss': 0.1396443917427534, 'epoch': 9.0}\n"
     ]
    },
    {
     "data": {
      "application/vnd.jupyter.widget-view+json": {
       "model_id": "10f8512bd2ab4056a54ffe58f5ad5b74",
       "version_major": 2,
       "version_minor": 0
      },
      "text/plain": [
       "  0%|          | 0/3 [00:00<?, ?it/s]"
      ]
     },
     "metadata": {},
     "output_type": "display_data"
    },
    {
     "name": "stderr",
     "output_type": "stream",
     "text": [
      "d:\\research_models\\handwritten_ocr\\handwritten_ocr\\.venv\\Lib\\site-packages\\sklearn\\metrics\\_regression.py:492: FutureWarning: 'squared' is deprecated in version 1.4 and will be removed in 1.6. To calculate the root mean squared error, use the function'root_mean_squared_error'.\n",
      "  warnings.warn(\n",
      "[I 2024-11-20 04:59:39,220] Trial 11 finished with value: 0.1387135535478592 and parameters: {'learning_rate': 9.936200423656442e-05, 'batch_size': 4, 'weight_decay': 0.06647378657556806, 'num_epochs': 9, 'dropout_rate': 0.24596933599219276, 'warmup_steps': 105, 'gradient_accumulation_steps': 1}. Best is trial 4 with value: 0.12977483868598938.\n",
      "d:\\research_models\\handwritten_ocr\\handwritten_ocr\\.venv\\Lib\\site-packages\\transformers\\training_args.py:1559: FutureWarning: `evaluation_strategy` is deprecated and will be removed in version 4.46 of 🤗 Transformers. Use `eval_strategy` instead\n",
      "  warnings.warn(\n"
     ]
    },
    {
     "data": {
      "application/vnd.jupyter.widget-view+json": {
       "model_id": "216059d023f745069a37cd6f192b393d",
       "version_major": 2,
       "version_minor": 0
      },
      "text/plain": [
       "  0%|          | 0/72 [00:00<?, ?it/s]"
      ]
     },
     "metadata": {},
     "output_type": "display_data"
    },
    {
     "data": {
      "application/vnd.jupyter.widget-view+json": {
       "model_id": "a70795be170c4bd1af591fe785c429ff",
       "version_major": 2,
       "version_minor": 0
      },
      "text/plain": [
       "  0%|          | 0/3 [00:00<?, ?it/s]"
      ]
     },
     "metadata": {},
     "output_type": "display_data"
    },
    {
     "name": "stdout",
     "output_type": "stream",
     "text": [
      "{'eval_loss': 0.5347715020179749, 'eval_rmse': 0.7173283696174622, 'eval_runtime': 5.2275, 'eval_samples_per_second': 1.913, 'eval_steps_per_second': 0.574, 'epoch': 1.0}\n"
     ]
    },
    {
     "name": "stderr",
     "output_type": "stream",
     "text": [
      "d:\\research_models\\handwritten_ocr\\handwritten_ocr\\.venv\\Lib\\site-packages\\sklearn\\metrics\\_regression.py:492: FutureWarning: 'squared' is deprecated in version 1.4 and will be removed in 1.6. To calculate the root mean squared error, use the function'root_mean_squared_error'.\n",
      "  warnings.warn(\n"
     ]
    },
    {
     "data": {
      "application/vnd.jupyter.widget-view+json": {
       "model_id": "4db6593264e44099812e70d5dfa3247d",
       "version_major": 2,
       "version_minor": 0
      },
      "text/plain": [
       "  0%|          | 0/3 [00:00<?, ?it/s]"
      ]
     },
     "metadata": {},
     "output_type": "display_data"
    },
    {
     "name": "stderr",
     "output_type": "stream",
     "text": [
      "d:\\research_models\\handwritten_ocr\\handwritten_ocr\\.venv\\Lib\\site-packages\\sklearn\\metrics\\_regression.py:492: FutureWarning: 'squared' is deprecated in version 1.4 and will be removed in 1.6. To calculate the root mean squared error, use the function'root_mean_squared_error'.\n",
      "  warnings.warn(\n"
     ]
    },
    {
     "name": "stdout",
     "output_type": "stream",
     "text": [
      "{'eval_loss': 0.3432580828666687, 'eval_rmse': 0.5502304434776306, 'eval_runtime': 5.1554, 'eval_samples_per_second': 1.94, 'eval_steps_per_second': 0.582, 'epoch': 2.0}\n"
     ]
    },
    {
     "data": {
      "application/vnd.jupyter.widget-view+json": {
       "model_id": "3f417cbc812b489fba44a4d4c4401037",
       "version_major": 2,
       "version_minor": 0
      },
      "text/plain": [
       "  0%|          | 0/3 [00:00<?, ?it/s]"
      ]
     },
     "metadata": {},
     "output_type": "display_data"
    },
    {
     "name": "stderr",
     "output_type": "stream",
     "text": [
      "d:\\research_models\\handwritten_ocr\\handwritten_ocr\\.venv\\Lib\\site-packages\\sklearn\\metrics\\_regression.py:492: FutureWarning: 'squared' is deprecated in version 1.4 and will be removed in 1.6. To calculate the root mean squared error, use the function'root_mean_squared_error'.\n",
      "  warnings.warn(\n"
     ]
    },
    {
     "name": "stdout",
     "output_type": "stream",
     "text": [
      "{'eval_loss': 0.18033543229103088, 'eval_rmse': 0.4137547016143799, 'eval_runtime': 5.3505, 'eval_samples_per_second': 1.869, 'eval_steps_per_second': 0.561, 'epoch': 3.0}\n"
     ]
    },
    {
     "data": {
      "application/vnd.jupyter.widget-view+json": {
       "model_id": "dc24bbfc35a740fc8d8834edcca77096",
       "version_major": 2,
       "version_minor": 0
      },
      "text/plain": [
       "  0%|          | 0/3 [00:00<?, ?it/s]"
      ]
     },
     "metadata": {},
     "output_type": "display_data"
    },
    {
     "name": "stderr",
     "output_type": "stream",
     "text": [
      "d:\\research_models\\handwritten_ocr\\handwritten_ocr\\.venv\\Lib\\site-packages\\sklearn\\metrics\\_regression.py:492: FutureWarning: 'squared' is deprecated in version 1.4 and will be removed in 1.6. To calculate the root mean squared error, use the function'root_mean_squared_error'.\n",
      "  warnings.warn(\n"
     ]
    },
    {
     "name": "stdout",
     "output_type": "stream",
     "text": [
      "{'eval_loss': 0.05672033503651619, 'eval_rmse': 0.23603491485118866, 'eval_runtime': 5.0993, 'eval_samples_per_second': 1.961, 'eval_steps_per_second': 0.588, 'epoch': 4.0}\n"
     ]
    },
    {
     "data": {
      "application/vnd.jupyter.widget-view+json": {
       "model_id": "acba1ace55ed4d578daf4b95c16e103c",
       "version_major": 2,
       "version_minor": 0
      },
      "text/plain": [
       "  0%|          | 0/3 [00:00<?, ?it/s]"
      ]
     },
     "metadata": {},
     "output_type": "display_data"
    },
    {
     "name": "stderr",
     "output_type": "stream",
     "text": [
      "d:\\research_models\\handwritten_ocr\\handwritten_ocr\\.venv\\Lib\\site-packages\\sklearn\\metrics\\_regression.py:492: FutureWarning: 'squared' is deprecated in version 1.4 and will be removed in 1.6. To calculate the root mean squared error, use the function'root_mean_squared_error'.\n",
      "  warnings.warn(\n"
     ]
    },
    {
     "name": "stdout",
     "output_type": "stream",
     "text": [
      "{'eval_loss': 0.017815176397562027, 'eval_rmse': 0.1330941766500473, 'eval_runtime': 4.9882, 'eval_samples_per_second': 2.005, 'eval_steps_per_second': 0.601, 'epoch': 5.0}\n",
      "{'loss': 0.3205, 'grad_norm': 3.7752909660339355, 'learning_rate': 8.526985295480836e-06, 'epoch': 5.56}\n"
     ]
    },
    {
     "data": {
      "application/vnd.jupyter.widget-view+json": {
       "model_id": "4812f7c3161a4b1395b0feb98396b008",
       "version_major": 2,
       "version_minor": 0
      },
      "text/plain": [
       "  0%|          | 0/3 [00:00<?, ?it/s]"
      ]
     },
     "metadata": {},
     "output_type": "display_data"
    },
    {
     "name": "stderr",
     "output_type": "stream",
     "text": [
      "d:\\research_models\\handwritten_ocr\\handwritten_ocr\\.venv\\Lib\\site-packages\\sklearn\\metrics\\_regression.py:492: FutureWarning: 'squared' is deprecated in version 1.4 and will be removed in 1.6. To calculate the root mean squared error, use the function'root_mean_squared_error'.\n",
      "  warnings.warn(\n"
     ]
    },
    {
     "name": "stdout",
     "output_type": "stream",
     "text": [
      "{'eval_loss': 0.06346050649881363, 'eval_rmse': 0.24255478382110596, 'eval_runtime': 5.0374, 'eval_samples_per_second': 1.985, 'eval_steps_per_second': 0.596, 'epoch': 6.0}\n"
     ]
    },
    {
     "data": {
      "application/vnd.jupyter.widget-view+json": {
       "model_id": "4aa357e08c2d4f8cb695979a796be56a",
       "version_major": 2,
       "version_minor": 0
      },
      "text/plain": [
       "  0%|          | 0/3 [00:00<?, ?it/s]"
      ]
     },
     "metadata": {},
     "output_type": "display_data"
    },
    {
     "name": "stderr",
     "output_type": "stream",
     "text": [
      "d:\\research_models\\handwritten_ocr\\handwritten_ocr\\.venv\\Lib\\site-packages\\sklearn\\metrics\\_regression.py:492: FutureWarning: 'squared' is deprecated in version 1.4 and will be removed in 1.6. To calculate the root mean squared error, use the function'root_mean_squared_error'.\n",
      "  warnings.warn(\n"
     ]
    },
    {
     "name": "stdout",
     "output_type": "stream",
     "text": [
      "{'eval_loss': 0.035007648169994354, 'eval_rmse': 0.1814010888338089, 'eval_runtime': 5.0137, 'eval_samples_per_second': 1.995, 'eval_steps_per_second': 0.598, 'epoch': 7.0}\n"
     ]
    },
    {
     "data": {
      "application/vnd.jupyter.widget-view+json": {
       "model_id": "0a4c0de4653642fbb81e7e940f473535",
       "version_major": 2,
       "version_minor": 0
      },
      "text/plain": [
       "  0%|          | 0/3 [00:00<?, ?it/s]"
      ]
     },
     "metadata": {},
     "output_type": "display_data"
    },
    {
     "name": "stderr",
     "output_type": "stream",
     "text": [
      "d:\\research_models\\handwritten_ocr\\handwritten_ocr\\.venv\\Lib\\site-packages\\sklearn\\metrics\\_regression.py:492: FutureWarning: 'squared' is deprecated in version 1.4 and will be removed in 1.6. To calculate the root mean squared error, use the function'root_mean_squared_error'.\n",
      "  warnings.warn(\n"
     ]
    },
    {
     "name": "stdout",
     "output_type": "stream",
     "text": [
      "{'eval_loss': 0.02050621807575226, 'eval_rmse': 0.14230947196483612, 'eval_runtime': 5.2335, 'eval_samples_per_second': 1.911, 'eval_steps_per_second': 0.573, 'epoch': 8.0}\n",
      "{'train_runtime': 644.5223, 'train_samples_per_second': 0.447, 'train_steps_per_second': 0.112, 'train_loss': 0.24476631813579136, 'epoch': 8.0}\n"
     ]
    },
    {
     "data": {
      "application/vnd.jupyter.widget-view+json": {
       "model_id": "6a22bbeb266d45cd9bfd2dab6fe6d024",
       "version_major": 2,
       "version_minor": 0
      },
      "text/plain": [
       "  0%|          | 0/3 [00:00<?, ?it/s]"
      ]
     },
     "metadata": {},
     "output_type": "display_data"
    },
    {
     "name": "stderr",
     "output_type": "stream",
     "text": [
      "d:\\research_models\\handwritten_ocr\\handwritten_ocr\\.venv\\Lib\\site-packages\\sklearn\\metrics\\_regression.py:492: FutureWarning: 'squared' is deprecated in version 1.4 and will be removed in 1.6. To calculate the root mean squared error, use the function'root_mean_squared_error'.\n",
      "  warnings.warn(\n",
      "[I 2024-11-20 05:10:30,134] Trial 12 finished with value: 0.1330941766500473 and parameters: {'learning_rate': 8.816902795527185e-05, 'batch_size': 4, 'weight_decay': 0.06431391656206076, 'num_epochs': 8, 'dropout_rate': 0.2332324546516398, 'warmup_steps': 517, 'gradient_accumulation_steps': 1}. Best is trial 4 with value: 0.12977483868598938.\n",
      "d:\\research_models\\handwritten_ocr\\handwritten_ocr\\.venv\\Lib\\site-packages\\transformers\\training_args.py:1559: FutureWarning: `evaluation_strategy` is deprecated and will be removed in version 4.46 of 🤗 Transformers. Use `eval_strategy` instead\n",
      "  warnings.warn(\n"
     ]
    },
    {
     "data": {
      "application/vnd.jupyter.widget-view+json": {
       "model_id": "c224d332969b4b8ba9e73bfc2c0d17ce",
       "version_major": 2,
       "version_minor": 0
      },
      "text/plain": [
       "  0%|          | 0/54 [00:00<?, ?it/s]"
      ]
     },
     "metadata": {},
     "output_type": "display_data"
    },
    {
     "data": {
      "application/vnd.jupyter.widget-view+json": {
       "model_id": "c90a0ddf255447519af1f60576f4329a",
       "version_major": 2,
       "version_minor": 0
      },
      "text/plain": [
       "  0%|          | 0/3 [00:00<?, ?it/s]"
      ]
     },
     "metadata": {},
     "output_type": "display_data"
    },
    {
     "name": "stderr",
     "output_type": "stream",
     "text": [
      "d:\\research_models\\handwritten_ocr\\handwritten_ocr\\.venv\\Lib\\site-packages\\sklearn\\metrics\\_regression.py:492: FutureWarning: 'squared' is deprecated in version 1.4 and will be removed in 1.6. To calculate the root mean squared error, use the function'root_mean_squared_error'.\n",
      "  warnings.warn(\n"
     ]
    },
    {
     "name": "stdout",
     "output_type": "stream",
     "text": [
      "{'eval_loss': 0.7434296607971191, 'eval_rmse': 0.8599571585655212, 'eval_runtime': 5.1704, 'eval_samples_per_second': 1.934, 'eval_steps_per_second': 0.58, 'epoch': 1.0}\n"
     ]
    },
    {
     "data": {
      "application/vnd.jupyter.widget-view+json": {
       "model_id": "78f789e6e4404071a1b6759ced94aabb",
       "version_major": 2,
       "version_minor": 0
      },
      "text/plain": [
       "  0%|          | 0/3 [00:00<?, ?it/s]"
      ]
     },
     "metadata": {},
     "output_type": "display_data"
    },
    {
     "name": "stderr",
     "output_type": "stream",
     "text": [
      "d:\\research_models\\handwritten_ocr\\handwritten_ocr\\.venv\\Lib\\site-packages\\sklearn\\metrics\\_regression.py:492: FutureWarning: 'squared' is deprecated in version 1.4 and will be removed in 1.6. To calculate the root mean squared error, use the function'root_mean_squared_error'.\n",
      "  warnings.warn(\n"
     ]
    },
    {
     "name": "stdout",
     "output_type": "stream",
     "text": [
      "{'eval_loss': 0.5634478330612183, 'eval_rmse': 0.7426137328147888, 'eval_runtime': 5.2575, 'eval_samples_per_second': 1.902, 'eval_steps_per_second': 0.571, 'epoch': 2.0}\n"
     ]
    },
    {
     "data": {
      "application/vnd.jupyter.widget-view+json": {
       "model_id": "926065675a9243fdb3f942d81cbbe4c4",
       "version_major": 2,
       "version_minor": 0
      },
      "text/plain": [
       "  0%|          | 0/3 [00:00<?, ?it/s]"
      ]
     },
     "metadata": {},
     "output_type": "display_data"
    },
    {
     "name": "stderr",
     "output_type": "stream",
     "text": [
      "d:\\research_models\\handwritten_ocr\\handwritten_ocr\\.venv\\Lib\\site-packages\\sklearn\\metrics\\_regression.py:492: FutureWarning: 'squared' is deprecated in version 1.4 and will be removed in 1.6. To calculate the root mean squared error, use the function'root_mean_squared_error'.\n",
      "  warnings.warn(\n"
     ]
    },
    {
     "name": "stdout",
     "output_type": "stream",
     "text": [
      "{'eval_loss': 0.3632133901119232, 'eval_rmse': 0.5872569680213928, 'eval_runtime': 5.1094, 'eval_samples_per_second': 1.957, 'eval_steps_per_second': 0.587, 'epoch': 3.0}\n"
     ]
    },
    {
     "data": {
      "application/vnd.jupyter.widget-view+json": {
       "model_id": "e3b1a2c7db2a45bc8a90bbf6e56e7c38",
       "version_major": 2,
       "version_minor": 0
      },
      "text/plain": [
       "  0%|          | 0/3 [00:00<?, ?it/s]"
      ]
     },
     "metadata": {},
     "output_type": "display_data"
    },
    {
     "name": "stderr",
     "output_type": "stream",
     "text": [
      "d:\\research_models\\handwritten_ocr\\handwritten_ocr\\.venv\\Lib\\site-packages\\sklearn\\metrics\\_regression.py:492: FutureWarning: 'squared' is deprecated in version 1.4 and will be removed in 1.6. To calculate the root mean squared error, use the function'root_mean_squared_error'.\n",
      "  warnings.warn(\n"
     ]
    },
    {
     "name": "stdout",
     "output_type": "stream",
     "text": [
      "{'eval_loss': 0.1923784464597702, 'eval_rmse': 0.4287867546081543, 'eval_runtime': 5.2732, 'eval_samples_per_second': 1.896, 'eval_steps_per_second': 0.569, 'epoch': 4.0}\n"
     ]
    },
    {
     "data": {
      "application/vnd.jupyter.widget-view+json": {
       "model_id": "669f1f0b5384480c8617376ac82a6c36",
       "version_major": 2,
       "version_minor": 0
      },
      "text/plain": [
       "  0%|          | 0/3 [00:00<?, ?it/s]"
      ]
     },
     "metadata": {},
     "output_type": "display_data"
    },
    {
     "name": "stderr",
     "output_type": "stream",
     "text": [
      "d:\\research_models\\handwritten_ocr\\handwritten_ocr\\.venv\\Lib\\site-packages\\sklearn\\metrics\\_regression.py:492: FutureWarning: 'squared' is deprecated in version 1.4 and will be removed in 1.6. To calculate the root mean squared error, use the function'root_mean_squared_error'.\n",
      "  warnings.warn(\n"
     ]
    },
    {
     "name": "stdout",
     "output_type": "stream",
     "text": [
      "{'eval_loss': 0.09856431186199188, 'eval_rmse': 0.3057900667190552, 'eval_runtime': 5.2117, 'eval_samples_per_second': 1.919, 'eval_steps_per_second': 0.576, 'epoch': 5.0}\n",
      "{'loss': 0.433, 'grad_norm': 7.215268611907959, 'learning_rate': 3.1558145401573285e-06, 'epoch': 5.56}\n"
     ]
    },
    {
     "data": {
      "application/vnd.jupyter.widget-view+json": {
       "model_id": "176354746a7a4951b36c88ca76e05911",
       "version_major": 2,
       "version_minor": 0
      },
      "text/plain": [
       "  0%|          | 0/3 [00:00<?, ?it/s]"
      ]
     },
     "metadata": {},
     "output_type": "display_data"
    },
    {
     "name": "stderr",
     "output_type": "stream",
     "text": [
      "d:\\research_models\\handwritten_ocr\\handwritten_ocr\\.venv\\Lib\\site-packages\\sklearn\\metrics\\_regression.py:492: FutureWarning: 'squared' is deprecated in version 1.4 and will be removed in 1.6. To calculate the root mean squared error, use the function'root_mean_squared_error'.\n",
      "  warnings.warn(\n"
     ]
    },
    {
     "name": "stdout",
     "output_type": "stream",
     "text": [
      "{'eval_loss': 0.044820040464401245, 'eval_rmse': 0.2091255933046341, 'eval_runtime': 5.1205, 'eval_samples_per_second': 1.953, 'eval_steps_per_second': 0.586, 'epoch': 6.0}\n",
      "{'train_runtime': 483.6111, 'train_samples_per_second': 0.447, 'train_steps_per_second': 0.112, 'train_loss': 0.4085432257917192, 'epoch': 6.0}\n"
     ]
    },
    {
     "data": {
      "application/vnd.jupyter.widget-view+json": {
       "model_id": "232ebb44327b4d96b64c308d365c8cdb",
       "version_major": 2,
       "version_minor": 0
      },
      "text/plain": [
       "  0%|          | 0/3 [00:00<?, ?it/s]"
      ]
     },
     "metadata": {},
     "output_type": "display_data"
    },
    {
     "name": "stderr",
     "output_type": "stream",
     "text": [
      "d:\\research_models\\handwritten_ocr\\handwritten_ocr\\.venv\\Lib\\site-packages\\sklearn\\metrics\\_regression.py:492: FutureWarning: 'squared' is deprecated in version 1.4 and will be removed in 1.6. To calculate the root mean squared error, use the function'root_mean_squared_error'.\n",
      "  warnings.warn(\n",
      "[I 2024-11-20 05:18:40,181] Trial 13 finished with value: 0.2091255933046341 and parameters: {'learning_rate': 3.5786936885384105e-05, 'batch_size': 4, 'weight_decay': 0.08890814789086804, 'num_epochs': 6, 'dropout_rate': 0.20337734941654367, 'warmup_steps': 567, 'gradient_accumulation_steps': 1}. Best is trial 4 with value: 0.12977483868598938.\n",
      "d:\\research_models\\handwritten_ocr\\handwritten_ocr\\.venv\\Lib\\site-packages\\transformers\\training_args.py:1559: FutureWarning: `evaluation_strategy` is deprecated and will be removed in version 4.46 of 🤗 Transformers. Use `eval_strategy` instead\n",
      "  warnings.warn(\n"
     ]
    },
    {
     "data": {
      "application/vnd.jupyter.widget-view+json": {
       "model_id": "a04cea1161004d7e941afc78b6be2925",
       "version_major": 2,
       "version_minor": 0
      },
      "text/plain": [
       "  0%|          | 0/72 [00:00<?, ?it/s]"
      ]
     },
     "metadata": {},
     "output_type": "display_data"
    },
    {
     "data": {
      "application/vnd.jupyter.widget-view+json": {
       "model_id": "989f886929054ad993acc1bd6a6636ae",
       "version_major": 2,
       "version_minor": 0
      },
      "text/plain": [
       "  0%|          | 0/3 [00:00<?, ?it/s]"
      ]
     },
     "metadata": {},
     "output_type": "display_data"
    },
    {
     "name": "stderr",
     "output_type": "stream",
     "text": [
      "d:\\research_models\\handwritten_ocr\\handwritten_ocr\\.venv\\Lib\\site-packages\\sklearn\\metrics\\_regression.py:492: FutureWarning: 'squared' is deprecated in version 1.4 and will be removed in 1.6. To calculate the root mean squared error, use the function'root_mean_squared_error'.\n",
      "  warnings.warn(\n"
     ]
    },
    {
     "name": "stdout",
     "output_type": "stream",
     "text": [
      "{'eval_loss': 0.7826772332191467, 'eval_rmse': 0.8647840619087219, 'eval_runtime': 5.1229, 'eval_samples_per_second': 1.952, 'eval_steps_per_second': 0.586, 'epoch': 1.0}\n"
     ]
    },
    {
     "data": {
      "application/vnd.jupyter.widget-view+json": {
       "model_id": "edee6181f5a84ccfabfa8bccff160c9b",
       "version_major": 2,
       "version_minor": 0
      },
      "text/plain": [
       "  0%|          | 0/3 [00:00<?, ?it/s]"
      ]
     },
     "metadata": {},
     "output_type": "display_data"
    },
    {
     "name": "stderr",
     "output_type": "stream",
     "text": [
      "d:\\research_models\\handwritten_ocr\\handwritten_ocr\\.venv\\Lib\\site-packages\\sklearn\\metrics\\_regression.py:492: FutureWarning: 'squared' is deprecated in version 1.4 and will be removed in 1.6. To calculate the root mean squared error, use the function'root_mean_squared_error'.\n",
      "  warnings.warn(\n"
     ]
    },
    {
     "name": "stdout",
     "output_type": "stream",
     "text": [
      "{'eval_loss': 0.6606631875038147, 'eval_rmse': 0.7953022122383118, 'eval_runtime': 5.1596, 'eval_samples_per_second': 1.938, 'eval_steps_per_second': 0.581, 'epoch': 2.0}\n"
     ]
    },
    {
     "data": {
      "application/vnd.jupyter.widget-view+json": {
       "model_id": "1ae3d65429b44ebf916bf04bca03f01e",
       "version_major": 2,
       "version_minor": 0
      },
      "text/plain": [
       "  0%|          | 0/3 [00:00<?, ?it/s]"
      ]
     },
     "metadata": {},
     "output_type": "display_data"
    },
    {
     "name": "stderr",
     "output_type": "stream",
     "text": [
      "d:\\research_models\\handwritten_ocr\\handwritten_ocr\\.venv\\Lib\\site-packages\\sklearn\\metrics\\_regression.py:492: FutureWarning: 'squared' is deprecated in version 1.4 and will be removed in 1.6. To calculate the root mean squared error, use the function'root_mean_squared_error'.\n",
      "  warnings.warn(\n"
     ]
    },
    {
     "name": "stdout",
     "output_type": "stream",
     "text": [
      "{'eval_loss': 0.4650748670101166, 'eval_rmse': 0.6720849871635437, 'eval_runtime': 5.0024, 'eval_samples_per_second': 1.999, 'eval_steps_per_second': 0.6, 'epoch': 3.0}\n"
     ]
    },
    {
     "data": {
      "application/vnd.jupyter.widget-view+json": {
       "model_id": "aae754aeacb647d7bf843166c7322da8",
       "version_major": 2,
       "version_minor": 0
      },
      "text/plain": [
       "  0%|          | 0/3 [00:00<?, ?it/s]"
      ]
     },
     "metadata": {},
     "output_type": "display_data"
    },
    {
     "name": "stderr",
     "output_type": "stream",
     "text": [
      "d:\\research_models\\handwritten_ocr\\handwritten_ocr\\.venv\\Lib\\site-packages\\sklearn\\metrics\\_regression.py:492: FutureWarning: 'squared' is deprecated in version 1.4 and will be removed in 1.6. To calculate the root mean squared error, use the function'root_mean_squared_error'.\n",
      "  warnings.warn(\n"
     ]
    },
    {
     "name": "stdout",
     "output_type": "stream",
     "text": [
      "{'eval_loss': 0.2571820616722107, 'eval_rmse': 0.507040798664093, 'eval_runtime': 5.0563, 'eval_samples_per_second': 1.978, 'eval_steps_per_second': 0.593, 'epoch': 4.0}\n"
     ]
    },
    {
     "data": {
      "application/vnd.jupyter.widget-view+json": {
       "model_id": "607cd72229ad41078ebc6c60060352d5",
       "version_major": 2,
       "version_minor": 0
      },
      "text/plain": [
       "  0%|          | 0/3 [00:00<?, ?it/s]"
      ]
     },
     "metadata": {},
     "output_type": "display_data"
    },
    {
     "name": "stderr",
     "output_type": "stream",
     "text": [
      "d:\\research_models\\handwritten_ocr\\handwritten_ocr\\.venv\\Lib\\site-packages\\sklearn\\metrics\\_regression.py:492: FutureWarning: 'squared' is deprecated in version 1.4 and will be removed in 1.6. To calculate the root mean squared error, use the function'root_mean_squared_error'.\n",
      "  warnings.warn(\n"
     ]
    },
    {
     "name": "stdout",
     "output_type": "stream",
     "text": [
      "{'eval_loss': 0.14871779084205627, 'eval_rmse': 0.38111117482185364, 'eval_runtime': 5.1361, 'eval_samples_per_second': 1.947, 'eval_steps_per_second': 0.584, 'epoch': 5.0}\n",
      "{'loss': 0.5003, 'grad_norm': 7.3854660987854, 'learning_rate': 2.9132988435682255e-06, 'epoch': 5.56}\n"
     ]
    },
    {
     "data": {
      "application/vnd.jupyter.widget-view+json": {
       "model_id": "2c16ed04c0814d649179ac661de309d0",
       "version_major": 2,
       "version_minor": 0
      },
      "text/plain": [
       "  0%|          | 0/3 [00:00<?, ?it/s]"
      ]
     },
     "metadata": {},
     "output_type": "display_data"
    },
    {
     "name": "stderr",
     "output_type": "stream",
     "text": [
      "d:\\research_models\\handwritten_ocr\\handwritten_ocr\\.venv\\Lib\\site-packages\\sklearn\\metrics\\_regression.py:492: FutureWarning: 'squared' is deprecated in version 1.4 and will be removed in 1.6. To calculate the root mean squared error, use the function'root_mean_squared_error'.\n",
      "  warnings.warn(\n"
     ]
    },
    {
     "name": "stdout",
     "output_type": "stream",
     "text": [
      "{'eval_loss': 0.06521398574113846, 'eval_rmse': 0.25288650393486023, 'eval_runtime': 5.1257, 'eval_samples_per_second': 1.951, 'eval_steps_per_second': 0.585, 'epoch': 6.0}\n"
     ]
    },
    {
     "data": {
      "application/vnd.jupyter.widget-view+json": {
       "model_id": "35fcb1b93185479d90387d659f8e47d5",
       "version_major": 2,
       "version_minor": 0
      },
      "text/plain": [
       "  0%|          | 0/3 [00:00<?, ?it/s]"
      ]
     },
     "metadata": {},
     "output_type": "display_data"
    },
    {
     "name": "stderr",
     "output_type": "stream",
     "text": [
      "d:\\research_models\\handwritten_ocr\\handwritten_ocr\\.venv\\Lib\\site-packages\\sklearn\\metrics\\_regression.py:492: FutureWarning: 'squared' is deprecated in version 1.4 and will be removed in 1.6. To calculate the root mean squared error, use the function'root_mean_squared_error'.\n",
      "  warnings.warn(\n"
     ]
    },
    {
     "name": "stdout",
     "output_type": "stream",
     "text": [
      "{'eval_loss': 0.03699424862861633, 'eval_rmse': 0.17844730615615845, 'eval_runtime': 5.1992, 'eval_samples_per_second': 1.923, 'eval_steps_per_second': 0.577, 'epoch': 7.0}\n"
     ]
    },
    {
     "data": {
      "application/vnd.jupyter.widget-view+json": {
       "model_id": "90cf059a84404ec18b8e7510f64d8780",
       "version_major": 2,
       "version_minor": 0
      },
      "text/plain": [
       "  0%|          | 0/3 [00:00<?, ?it/s]"
      ]
     },
     "metadata": {},
     "output_type": "display_data"
    },
    {
     "name": "stderr",
     "output_type": "stream",
     "text": [
      "d:\\research_models\\handwritten_ocr\\handwritten_ocr\\.venv\\Lib\\site-packages\\sklearn\\metrics\\_regression.py:492: FutureWarning: 'squared' is deprecated in version 1.4 and will be removed in 1.6. To calculate the root mean squared error, use the function'root_mean_squared_error'.\n",
      "  warnings.warn(\n"
     ]
    },
    {
     "name": "stdout",
     "output_type": "stream",
     "text": [
      "{'eval_loss': 0.019506949931383133, 'eval_rmse': 0.13281051814556122, 'eval_runtime': 5.2369, 'eval_samples_per_second': 1.91, 'eval_steps_per_second': 0.573, 'epoch': 8.0}\n",
      "{'train_runtime': 641.585, 'train_samples_per_second': 0.449, 'train_steps_per_second': 0.112, 'train_loss': 0.38475608494546676, 'epoch': 8.0}\n"
     ]
    },
    {
     "data": {
      "application/vnd.jupyter.widget-view+json": {
       "model_id": "11c83874f01c4c4b86ce992aaa0bc4e1",
       "version_major": 2,
       "version_minor": 0
      },
      "text/plain": [
       "  0%|          | 0/3 [00:00<?, ?it/s]"
      ]
     },
     "metadata": {},
     "output_type": "display_data"
    },
    {
     "name": "stderr",
     "output_type": "stream",
     "text": [
      "d:\\research_models\\handwritten_ocr\\handwritten_ocr\\.venv\\Lib\\site-packages\\sklearn\\metrics\\_regression.py:492: FutureWarning: 'squared' is deprecated in version 1.4 and will be removed in 1.6. To calculate the root mean squared error, use the function'root_mean_squared_error'.\n",
      "  warnings.warn(\n",
      "[I 2024-11-20 05:29:28,199] Trial 14 finished with value: 0.13281051814556122 and parameters: {'learning_rate': 4.195150334738244e-05, 'batch_size': 4, 'weight_decay': 0.06028471689885268, 'num_epochs': 8, 'dropout_rate': 0.31905201938193345, 'warmup_steps': 720, 'gradient_accumulation_steps': 1}. Best is trial 4 with value: 0.12977483868598938.\n",
      "d:\\research_models\\handwritten_ocr\\handwritten_ocr\\.venv\\Lib\\site-packages\\transformers\\training_args.py:1559: FutureWarning: `evaluation_strategy` is deprecated and will be removed in version 4.46 of 🤗 Transformers. Use `eval_strategy` instead\n",
      "  warnings.warn(\n"
     ]
    },
    {
     "data": {
      "application/vnd.jupyter.widget-view+json": {
       "model_id": "6a630feeb6c5428b9a962052a1a18c15",
       "version_major": 2,
       "version_minor": 0
      },
      "text/plain": [
       "  0%|          | 0/12 [00:00<?, ?it/s]"
      ]
     },
     "metadata": {},
     "output_type": "display_data"
    },
    {
     "data": {
      "application/vnd.jupyter.widget-view+json": {
       "model_id": "e07309c1bc33458aaade7eeb190b6ef3",
       "version_major": 2,
       "version_minor": 0
      },
      "text/plain": [
       "  0%|          | 0/2 [00:00<?, ?it/s]"
      ]
     },
     "metadata": {},
     "output_type": "display_data"
    },
    {
     "name": "stderr",
     "output_type": "stream",
     "text": [
      "d:\\research_models\\handwritten_ocr\\handwritten_ocr\\.venv\\Lib\\site-packages\\sklearn\\metrics\\_regression.py:492: FutureWarning: 'squared' is deprecated in version 1.4 and will be removed in 1.6. To calculate the root mean squared error, use the function'root_mean_squared_error'.\n",
      "  warnings.warn(\n"
     ]
    },
    {
     "name": "stdout",
     "output_type": "stream",
     "text": [
      "{'eval_loss': 0.8248938322067261, 'eval_rmse': 0.905961811542511, 'eval_runtime': 5.2982, 'eval_samples_per_second': 1.887, 'eval_steps_per_second': 0.377, 'epoch': 0.8}\n"
     ]
    },
    {
     "data": {
      "application/vnd.jupyter.widget-view+json": {
       "model_id": "3e2c157103c042fda5b9e8a8b1be09ef",
       "version_major": 2,
       "version_minor": 0
      },
      "text/plain": [
       "  0%|          | 0/2 [00:00<?, ?it/s]"
      ]
     },
     "metadata": {},
     "output_type": "display_data"
    },
    {
     "name": "stderr",
     "output_type": "stream",
     "text": [
      "d:\\research_models\\handwritten_ocr\\handwritten_ocr\\.venv\\Lib\\site-packages\\sklearn\\metrics\\_regression.py:492: FutureWarning: 'squared' is deprecated in version 1.4 and will be removed in 1.6. To calculate the root mean squared error, use the function'root_mean_squared_error'.\n",
      "  warnings.warn(\n"
     ]
    },
    {
     "name": "stdout",
     "output_type": "stream",
     "text": [
      "{'eval_loss': 0.8093326687812805, 'eval_rmse': 0.8974225521087646, 'eval_runtime': 5.2727, 'eval_samples_per_second': 1.897, 'eval_steps_per_second': 0.379, 'epoch': 2.0}\n"
     ]
    },
    {
     "data": {
      "application/vnd.jupyter.widget-view+json": {
       "model_id": "8ef3971b07914ac6a9891df4be188002",
       "version_major": 2,
       "version_minor": 0
      },
      "text/plain": [
       "  0%|          | 0/2 [00:00<?, ?it/s]"
      ]
     },
     "metadata": {},
     "output_type": "display_data"
    },
    {
     "name": "stderr",
     "output_type": "stream",
     "text": [
      "d:\\research_models\\handwritten_ocr\\handwritten_ocr\\.venv\\Lib\\site-packages\\sklearn\\metrics\\_regression.py:492: FutureWarning: 'squared' is deprecated in version 1.4 and will be removed in 1.6. To calculate the root mean squared error, use the function'root_mean_squared_error'.\n",
      "  warnings.warn(\n"
     ]
    },
    {
     "name": "stdout",
     "output_type": "stream",
     "text": [
      "{'eval_loss': 0.790095329284668, 'eval_rmse': 0.8867259621620178, 'eval_runtime': 5.2671, 'eval_samples_per_second': 1.899, 'eval_steps_per_second': 0.38, 'epoch': 2.8}\n"
     ]
    },
    {
     "data": {
      "application/vnd.jupyter.widget-view+json": {
       "model_id": "4611d261f9f84ca0a6e32aa732c458a1",
       "version_major": 2,
       "version_minor": 0
      },
      "text/plain": [
       "  0%|          | 0/2 [00:00<?, ?it/s]"
      ]
     },
     "metadata": {},
     "output_type": "display_data"
    },
    {
     "name": "stderr",
     "output_type": "stream",
     "text": [
      "d:\\research_models\\handwritten_ocr\\handwritten_ocr\\.venv\\Lib\\site-packages\\sklearn\\metrics\\_regression.py:492: FutureWarning: 'squared' is deprecated in version 1.4 and will be removed in 1.6. To calculate the root mean squared error, use the function'root_mean_squared_error'.\n",
      "  warnings.warn(\n"
     ]
    },
    {
     "name": "stdout",
     "output_type": "stream",
     "text": [
      "{'eval_loss': 0.7496451139450073, 'eval_rmse': 0.8636133074760437, 'eval_runtime': 5.3916, 'eval_samples_per_second': 1.855, 'eval_steps_per_second': 0.371, 'epoch': 4.0}\n"
     ]
    },
    {
     "data": {
      "application/vnd.jupyter.widget-view+json": {
       "model_id": "91bdfa1c4a544356a5abf2d1734efdfb",
       "version_major": 2,
       "version_minor": 0
      },
      "text/plain": [
       "  0%|          | 0/2 [00:00<?, ?it/s]"
      ]
     },
     "metadata": {},
     "output_type": "display_data"
    },
    {
     "name": "stderr",
     "output_type": "stream",
     "text": [
      "d:\\research_models\\handwritten_ocr\\handwritten_ocr\\.venv\\Lib\\site-packages\\sklearn\\metrics\\_regression.py:492: FutureWarning: 'squared' is deprecated in version 1.4 and will be removed in 1.6. To calculate the root mean squared error, use the function'root_mean_squared_error'.\n",
      "  warnings.warn(\n"
     ]
    },
    {
     "name": "stdout",
     "output_type": "stream",
     "text": [
      "{'eval_loss': 0.7163609266281128, 'eval_rmse': 0.843890905380249, 'eval_runtime': 5.6437, 'eval_samples_per_second': 1.772, 'eval_steps_per_second': 0.354, 'epoch': 4.8}\n",
      "{'train_runtime': 381.2624, 'train_samples_per_second': 0.567, 'train_steps_per_second': 0.031, 'train_loss': 1.646474043528239, 'epoch': 4.8}\n"
     ]
    },
    {
     "data": {
      "application/vnd.jupyter.widget-view+json": {
       "model_id": "606de35acd5949b8a4f525553dbfa16d",
       "version_major": 2,
       "version_minor": 0
      },
      "text/plain": [
       "  0%|          | 0/2 [00:00<?, ?it/s]"
      ]
     },
     "metadata": {},
     "output_type": "display_data"
    },
    {
     "name": "stderr",
     "output_type": "stream",
     "text": [
      "d:\\research_models\\handwritten_ocr\\handwritten_ocr\\.venv\\Lib\\site-packages\\sklearn\\metrics\\_regression.py:492: FutureWarning: 'squared' is deprecated in version 1.4 and will be removed in 1.6. To calculate the root mean squared error, use the function'root_mean_squared_error'.\n",
      "  warnings.warn(\n",
      "[I 2024-11-20 05:35:56,771] Trial 15 finished with value: 0.843890905380249 and parameters: {'learning_rate': 3.13277967585238e-05, 'batch_size': 8, 'weight_decay': 0.056568573465213066, 'num_epochs': 6, 'dropout_rate': 0.3465123268640849, 'warmup_steps': 748, 'gradient_accumulation_steps': 2}. Best is trial 4 with value: 0.12977483868598938.\n",
      "d:\\research_models\\handwritten_ocr\\handwritten_ocr\\.venv\\Lib\\site-packages\\transformers\\training_args.py:1559: FutureWarning: `evaluation_strategy` is deprecated and will be removed in version 4.46 of 🤗 Transformers. Use `eval_strategy` instead\n",
      "  warnings.warn(\n"
     ]
    },
    {
     "data": {
      "application/vnd.jupyter.widget-view+json": {
       "model_id": "5d0106c69260414b981d2c784a1fc75d",
       "version_major": 2,
       "version_minor": 0
      },
      "text/plain": [
       "  0%|          | 0/72 [00:00<?, ?it/s]"
      ]
     },
     "metadata": {},
     "output_type": "display_data"
    },
    {
     "data": {
      "application/vnd.jupyter.widget-view+json": {
       "model_id": "95b0da4ef6fe4196bc5c2c95433ecca9",
       "version_major": 2,
       "version_minor": 0
      },
      "text/plain": [
       "  0%|          | 0/3 [00:00<?, ?it/s]"
      ]
     },
     "metadata": {},
     "output_type": "display_data"
    },
    {
     "name": "stderr",
     "output_type": "stream",
     "text": [
      "d:\\research_models\\handwritten_ocr\\handwritten_ocr\\.venv\\Lib\\site-packages\\sklearn\\metrics\\_regression.py:492: FutureWarning: 'squared' is deprecated in version 1.4 and will be removed in 1.6. To calculate the root mean squared error, use the function'root_mean_squared_error'.\n",
      "  warnings.warn(\n"
     ]
    },
    {
     "name": "stdout",
     "output_type": "stream",
     "text": [
      "{'eval_loss': 0.6589425802230835, 'eval_rmse': 0.7742364406585693, 'eval_runtime': 5.0669, 'eval_samples_per_second': 1.974, 'eval_steps_per_second': 0.592, 'epoch': 1.0}\n"
     ]
    },
    {
     "data": {
      "application/vnd.jupyter.widget-view+json": {
       "model_id": "72b6d249f90648058e94290e747c5ffd",
       "version_major": 2,
       "version_minor": 0
      },
      "text/plain": [
       "  0%|          | 0/3 [00:00<?, ?it/s]"
      ]
     },
     "metadata": {},
     "output_type": "display_data"
    },
    {
     "name": "stderr",
     "output_type": "stream",
     "text": [
      "d:\\research_models\\handwritten_ocr\\handwritten_ocr\\.venv\\Lib\\site-packages\\sklearn\\metrics\\_regression.py:492: FutureWarning: 'squared' is deprecated in version 1.4 and will be removed in 1.6. To calculate the root mean squared error, use the function'root_mean_squared_error'.\n",
      "  warnings.warn(\n"
     ]
    },
    {
     "name": "stdout",
     "output_type": "stream",
     "text": [
      "{'eval_loss': 0.6062633395195007, 'eval_rmse': 0.7372140884399414, 'eval_runtime': 5.1257, 'eval_samples_per_second': 1.951, 'eval_steps_per_second': 0.585, 'epoch': 2.0}\n"
     ]
    },
    {
     "data": {
      "application/vnd.jupyter.widget-view+json": {
       "model_id": "06799e1ca489445591023c03ea04a321",
       "version_major": 2,
       "version_minor": 0
      },
      "text/plain": [
       "  0%|          | 0/3 [00:00<?, ?it/s]"
      ]
     },
     "metadata": {},
     "output_type": "display_data"
    },
    {
     "name": "stderr",
     "output_type": "stream",
     "text": [
      "d:\\research_models\\handwritten_ocr\\handwritten_ocr\\.venv\\Lib\\site-packages\\sklearn\\metrics\\_regression.py:492: FutureWarning: 'squared' is deprecated in version 1.4 and will be removed in 1.6. To calculate the root mean squared error, use the function'root_mean_squared_error'.\n",
      "  warnings.warn(\n"
     ]
    },
    {
     "name": "stdout",
     "output_type": "stream",
     "text": [
      "{'eval_loss': 0.5567485094070435, 'eval_rmse': 0.6977055072784424, 'eval_runtime': 5.0981, 'eval_samples_per_second': 1.962, 'eval_steps_per_second': 0.588, 'epoch': 3.0}\n"
     ]
    },
    {
     "data": {
      "application/vnd.jupyter.widget-view+json": {
       "model_id": "a13ad0f1d80542e88c6a81fec5d5d651",
       "version_major": 2,
       "version_minor": 0
      },
      "text/plain": [
       "  0%|          | 0/3 [00:00<?, ?it/s]"
      ]
     },
     "metadata": {},
     "output_type": "display_data"
    },
    {
     "name": "stderr",
     "output_type": "stream",
     "text": [
      "d:\\research_models\\handwritten_ocr\\handwritten_ocr\\.venv\\Lib\\site-packages\\sklearn\\metrics\\_regression.py:492: FutureWarning: 'squared' is deprecated in version 1.4 and will be removed in 1.6. To calculate the root mean squared error, use the function'root_mean_squared_error'.\n",
      "  warnings.warn(\n"
     ]
    },
    {
     "name": "stdout",
     "output_type": "stream",
     "text": [
      "{'eval_loss': 0.48265916109085083, 'eval_rmse': 0.641510009765625, 'eval_runtime': 5.2226, 'eval_samples_per_second': 1.915, 'eval_steps_per_second': 0.574, 'epoch': 4.0}\n"
     ]
    },
    {
     "data": {
      "application/vnd.jupyter.widget-view+json": {
       "model_id": "42debf3d980c4635a6297223f7a2f53f",
       "version_major": 2,
       "version_minor": 0
      },
      "text/plain": [
       "  0%|          | 0/3 [00:00<?, ?it/s]"
      ]
     },
     "metadata": {},
     "output_type": "display_data"
    },
    {
     "name": "stderr",
     "output_type": "stream",
     "text": [
      "d:\\research_models\\handwritten_ocr\\handwritten_ocr\\.venv\\Lib\\site-packages\\sklearn\\metrics\\_regression.py:492: FutureWarning: 'squared' is deprecated in version 1.4 and will be removed in 1.6. To calculate the root mean squared error, use the function'root_mean_squared_error'.\n",
      "  warnings.warn(\n"
     ]
    },
    {
     "name": "stdout",
     "output_type": "stream",
     "text": [
      "{'eval_loss': 0.3959104120731354, 'eval_rmse': 0.5724854469299316, 'eval_runtime': 5.2194, 'eval_samples_per_second': 1.916, 'eval_steps_per_second': 0.575, 'epoch': 5.0}\n",
      "{'loss': 0.6276, 'grad_norm': 16.447784423828125, 'learning_rate': 1.1511117831701312e-06, 'epoch': 5.56}\n"
     ]
    },
    {
     "data": {
      "application/vnd.jupyter.widget-view+json": {
       "model_id": "50f77d8ba622437aa71745fb0f39a914",
       "version_major": 2,
       "version_minor": 0
      },
      "text/plain": [
       "  0%|          | 0/3 [00:00<?, ?it/s]"
      ]
     },
     "metadata": {},
     "output_type": "display_data"
    },
    {
     "name": "stderr",
     "output_type": "stream",
     "text": [
      "d:\\research_models\\handwritten_ocr\\handwritten_ocr\\.venv\\Lib\\site-packages\\sklearn\\metrics\\_regression.py:492: FutureWarning: 'squared' is deprecated in version 1.4 and will be removed in 1.6. To calculate the root mean squared error, use the function'root_mean_squared_error'.\n",
      "  warnings.warn(\n"
     ]
    },
    {
     "name": "stdout",
     "output_type": "stream",
     "text": [
      "{'eval_loss': 0.31205955147743225, 'eval_rmse': 0.500723123550415, 'eval_runtime': 5.2478, 'eval_samples_per_second': 1.906, 'eval_steps_per_second': 0.572, 'epoch': 6.0}\n"
     ]
    },
    {
     "data": {
      "application/vnd.jupyter.widget-view+json": {
       "model_id": "71e2603bac5244fb9d6bd766d303e032",
       "version_major": 2,
       "version_minor": 0
      },
      "text/plain": [
       "  0%|          | 0/3 [00:00<?, ?it/s]"
      ]
     },
     "metadata": {},
     "output_type": "display_data"
    },
    {
     "name": "stderr",
     "output_type": "stream",
     "text": [
      "d:\\research_models\\handwritten_ocr\\handwritten_ocr\\.venv\\Lib\\site-packages\\sklearn\\metrics\\_regression.py:492: FutureWarning: 'squared' is deprecated in version 1.4 and will be removed in 1.6. To calculate the root mean squared error, use the function'root_mean_squared_error'.\n",
      "  warnings.warn(\n"
     ]
    },
    {
     "name": "stdout",
     "output_type": "stream",
     "text": [
      "{'eval_loss': 0.23645749688148499, 'eval_rmse': 0.43864190578460693, 'eval_runtime': 5.25, 'eval_samples_per_second': 1.905, 'eval_steps_per_second': 0.571, 'epoch': 7.0}\n"
     ]
    },
    {
     "data": {
      "application/vnd.jupyter.widget-view+json": {
       "model_id": "9c5cab0c6b494f4b9e846dd9272edc47",
       "version_major": 2,
       "version_minor": 0
      },
      "text/plain": [
       "  0%|          | 0/3 [00:00<?, ?it/s]"
      ]
     },
     "metadata": {},
     "output_type": "display_data"
    },
    {
     "name": "stderr",
     "output_type": "stream",
     "text": [
      "d:\\research_models\\handwritten_ocr\\handwritten_ocr\\.venv\\Lib\\site-packages\\sklearn\\metrics\\_regression.py:492: FutureWarning: 'squared' is deprecated in version 1.4 and will be removed in 1.6. To calculate the root mean squared error, use the function'root_mean_squared_error'.\n",
      "  warnings.warn(\n"
     ]
    },
    {
     "name": "stdout",
     "output_type": "stream",
     "text": [
      "{'eval_loss': 0.17717349529266357, 'eval_rmse': 0.38550063967704773, 'eval_runtime': 5.105, 'eval_samples_per_second': 1.959, 'eval_steps_per_second': 0.588, 'epoch': 8.0}\n",
      "{'train_runtime': 645.5129, 'train_samples_per_second': 0.446, 'train_steps_per_second': 0.112, 'train_loss': 0.535775383313497, 'epoch': 8.0}\n"
     ]
    },
    {
     "data": {
      "application/vnd.jupyter.widget-view+json": {
       "model_id": "0b83e38130a84748a945ba7520ae7415",
       "version_major": 2,
       "version_minor": 0
      },
      "text/plain": [
       "  0%|          | 0/3 [00:00<?, ?it/s]"
      ]
     },
     "metadata": {},
     "output_type": "display_data"
    },
    {
     "name": "stderr",
     "output_type": "stream",
     "text": [
      "d:\\research_models\\handwritten_ocr\\handwritten_ocr\\.venv\\Lib\\site-packages\\sklearn\\metrics\\_regression.py:492: FutureWarning: 'squared' is deprecated in version 1.4 and will be removed in 1.6. To calculate the root mean squared error, use the function'root_mean_squared_error'.\n",
      "  warnings.warn(\n",
      "[I 2024-11-20 05:46:49,341] Trial 16 finished with value: 0.38550063967704773 and parameters: {'learning_rate': 1.5747209193767394e-05, 'batch_size': 4, 'weight_decay': 0.015411396948646072, 'num_epochs': 8, 'dropout_rate': 0.3960314212871201, 'warmup_steps': 684, 'gradient_accumulation_steps': 1}. Best is trial 4 with value: 0.12977483868598938.\n",
      "d:\\research_models\\handwritten_ocr\\handwritten_ocr\\.venv\\Lib\\site-packages\\transformers\\training_args.py:1559: FutureWarning: `evaluation_strategy` is deprecated and will be removed in version 4.46 of 🤗 Transformers. Use `eval_strategy` instead\n",
      "  warnings.warn(\n"
     ]
    },
    {
     "data": {
      "application/vnd.jupyter.widget-view+json": {
       "model_id": "38dc798f3293450197a4bba96270bdb0",
       "version_major": 2,
       "version_minor": 0
      },
      "text/plain": [
       "  0%|          | 0/40 [00:00<?, ?it/s]"
      ]
     },
     "metadata": {},
     "output_type": "display_data"
    },
    {
     "data": {
      "application/vnd.jupyter.widget-view+json": {
       "model_id": "3daf3cb26d8044ff9a746d8831eab6b7",
       "version_major": 2,
       "version_minor": 0
      },
      "text/plain": [
       "  0%|          | 0/2 [00:00<?, ?it/s]"
      ]
     },
     "metadata": {},
     "output_type": "display_data"
    },
    {
     "name": "stderr",
     "output_type": "stream",
     "text": [
      "d:\\research_models\\handwritten_ocr\\handwritten_ocr\\.venv\\Lib\\site-packages\\sklearn\\metrics\\_regression.py:492: FutureWarning: 'squared' is deprecated in version 1.4 and will be removed in 1.6. To calculate the root mean squared error, use the function'root_mean_squared_error'.\n",
      "  warnings.warn(\n"
     ]
    },
    {
     "name": "stdout",
     "output_type": "stream",
     "text": [
      "{'eval_loss': 0.7859370708465576, 'eval_rmse': 0.8843593597412109, 'eval_runtime': 5.4306, 'eval_samples_per_second': 1.841, 'eval_steps_per_second': 0.368, 'epoch': 1.0}\n"
     ]
    },
    {
     "data": {
      "application/vnd.jupyter.widget-view+json": {
       "model_id": "300d18ce83a44d46a24f8ea65dcb0dce",
       "version_major": 2,
       "version_minor": 0
      },
      "text/plain": [
       "  0%|          | 0/2 [00:00<?, ?it/s]"
      ]
     },
     "metadata": {},
     "output_type": "display_data"
    },
    {
     "name": "stderr",
     "output_type": "stream",
     "text": [
      "d:\\research_models\\handwritten_ocr\\handwritten_ocr\\.venv\\Lib\\site-packages\\sklearn\\metrics\\_regression.py:492: FutureWarning: 'squared' is deprecated in version 1.4 and will be removed in 1.6. To calculate the root mean squared error, use the function'root_mean_squared_error'.\n",
      "  warnings.warn(\n"
     ]
    },
    {
     "name": "stdout",
     "output_type": "stream",
     "text": [
      "{'eval_loss': 0.6575198173522949, 'eval_rmse': 0.807147741317749, 'eval_runtime': 5.3798, 'eval_samples_per_second': 1.859, 'eval_steps_per_second': 0.372, 'epoch': 2.0}\n"
     ]
    },
    {
     "data": {
      "application/vnd.jupyter.widget-view+json": {
       "model_id": "f3b48ee5ad2d4574857bdc86f7b496a0",
       "version_major": 2,
       "version_minor": 0
      },
      "text/plain": [
       "  0%|          | 0/2 [00:00<?, ?it/s]"
      ]
     },
     "metadata": {},
     "output_type": "display_data"
    },
    {
     "name": "stderr",
     "output_type": "stream",
     "text": [
      "d:\\research_models\\handwritten_ocr\\handwritten_ocr\\.venv\\Lib\\site-packages\\sklearn\\metrics\\_regression.py:492: FutureWarning: 'squared' is deprecated in version 1.4 and will be removed in 1.6. To calculate the root mean squared error, use the function'root_mean_squared_error'.\n",
      "  warnings.warn(\n"
     ]
    },
    {
     "name": "stdout",
     "output_type": "stream",
     "text": [
      "{'eval_loss': 0.5455528497695923, 'eval_rmse': 0.729199230670929, 'eval_runtime': 5.4497, 'eval_samples_per_second': 1.835, 'eval_steps_per_second': 0.367, 'epoch': 3.0}\n"
     ]
    },
    {
     "data": {
      "application/vnd.jupyter.widget-view+json": {
       "model_id": "924fed9abf194dc9a6c786b4f2fd63f5",
       "version_major": 2,
       "version_minor": 0
      },
      "text/plain": [
       "  0%|          | 0/2 [00:00<?, ?it/s]"
      ]
     },
     "metadata": {},
     "output_type": "display_data"
    },
    {
     "name": "stderr",
     "output_type": "stream",
     "text": [
      "d:\\research_models\\handwritten_ocr\\handwritten_ocr\\.venv\\Lib\\site-packages\\sklearn\\metrics\\_regression.py:492: FutureWarning: 'squared' is deprecated in version 1.4 and will be removed in 1.6. To calculate the root mean squared error, use the function'root_mean_squared_error'.\n",
      "  warnings.warn(\n"
     ]
    },
    {
     "name": "stdout",
     "output_type": "stream",
     "text": [
      "{'eval_loss': 0.3533637821674347, 'eval_rmse': 0.5799148082733154, 'eval_runtime': 5.4299, 'eval_samples_per_second': 1.842, 'eval_steps_per_second': 0.368, 'epoch': 4.0}\n"
     ]
    },
    {
     "data": {
      "application/vnd.jupyter.widget-view+json": {
       "model_id": "fcb245a0434e49598d6e95667997cdc6",
       "version_major": 2,
       "version_minor": 0
      },
      "text/plain": [
       "  0%|          | 0/2 [00:00<?, ?it/s]"
      ]
     },
     "metadata": {},
     "output_type": "display_data"
    },
    {
     "name": "stderr",
     "output_type": "stream",
     "text": [
      "d:\\research_models\\handwritten_ocr\\handwritten_ocr\\.venv\\Lib\\site-packages\\sklearn\\metrics\\_regression.py:492: FutureWarning: 'squared' is deprecated in version 1.4 and will be removed in 1.6. To calculate the root mean squared error, use the function'root_mean_squared_error'.\n",
      "  warnings.warn(\n"
     ]
    },
    {
     "name": "stdout",
     "output_type": "stream",
     "text": [
      "{'eval_loss': 0.24492540955543518, 'eval_rmse': 0.4855412542819977, 'eval_runtime': 5.4073, 'eval_samples_per_second': 1.849, 'eval_steps_per_second': 0.37, 'epoch': 5.0}\n"
     ]
    },
    {
     "data": {
      "application/vnd.jupyter.widget-view+json": {
       "model_id": "749ab1471e32416eaf737ca0d901eeef",
       "version_major": 2,
       "version_minor": 0
      },
      "text/plain": [
       "  0%|          | 0/2 [00:00<?, ?it/s]"
      ]
     },
     "metadata": {},
     "output_type": "display_data"
    },
    {
     "name": "stderr",
     "output_type": "stream",
     "text": [
      "d:\\research_models\\handwritten_ocr\\handwritten_ocr\\.venv\\Lib\\site-packages\\sklearn\\metrics\\_regression.py:492: FutureWarning: 'squared' is deprecated in version 1.4 and will be removed in 1.6. To calculate the root mean squared error, use the function'root_mean_squared_error'.\n",
      "  warnings.warn(\n"
     ]
    },
    {
     "name": "stdout",
     "output_type": "stream",
     "text": [
      "{'eval_loss': 0.17744821310043335, 'eval_rmse': 0.4142269790172577, 'eval_runtime': 5.4273, 'eval_samples_per_second': 1.843, 'eval_steps_per_second': 0.369, 'epoch': 6.0}\n"
     ]
    },
    {
     "data": {
      "application/vnd.jupyter.widget-view+json": {
       "model_id": "ab99617d2140429e810cfebab2b43d0a",
       "version_major": 2,
       "version_minor": 0
      },
      "text/plain": [
       "  0%|          | 0/2 [00:00<?, ?it/s]"
      ]
     },
     "metadata": {},
     "output_type": "display_data"
    },
    {
     "name": "stderr",
     "output_type": "stream",
     "text": [
      "d:\\research_models\\handwritten_ocr\\handwritten_ocr\\.venv\\Lib\\site-packages\\sklearn\\metrics\\_regression.py:492: FutureWarning: 'squared' is deprecated in version 1.4 and will be removed in 1.6. To calculate the root mean squared error, use the function'root_mean_squared_error'.\n",
      "  warnings.warn(\n"
     ]
    },
    {
     "name": "stdout",
     "output_type": "stream",
     "text": [
      "{'eval_loss': 0.10155067592859268, 'eval_rmse': 0.3045608103275299, 'eval_runtime': 5.482, 'eval_samples_per_second': 1.824, 'eval_steps_per_second': 0.365, 'epoch': 7.0}\n"
     ]
    },
    {
     "data": {
      "application/vnd.jupyter.widget-view+json": {
       "model_id": "8f9da8776e4348a1a1d5b8a9630cbc7c",
       "version_major": 2,
       "version_minor": 0
      },
      "text/plain": [
       "  0%|          | 0/2 [00:00<?, ?it/s]"
      ]
     },
     "metadata": {},
     "output_type": "display_data"
    },
    {
     "name": "stderr",
     "output_type": "stream",
     "text": [
      "d:\\research_models\\handwritten_ocr\\handwritten_ocr\\.venv\\Lib\\site-packages\\sklearn\\metrics\\_regression.py:492: FutureWarning: 'squared' is deprecated in version 1.4 and will be removed in 1.6. To calculate the root mean squared error, use the function'root_mean_squared_error'.\n",
      "  warnings.warn(\n"
     ]
    },
    {
     "name": "stdout",
     "output_type": "stream",
     "text": [
      "{'eval_loss': 0.05026939511299133, 'eval_rmse': 0.21088729798793793, 'eval_runtime': 5.3324, 'eval_samples_per_second': 1.875, 'eval_steps_per_second': 0.375, 'epoch': 8.0}\n",
      "{'train_runtime': 635.8074, 'train_samples_per_second': 0.453, 'train_steps_per_second': 0.063, 'train_loss': 0.4681408882141113, 'epoch': 8.0}\n"
     ]
    },
    {
     "data": {
      "application/vnd.jupyter.widget-view+json": {
       "model_id": "fb465863e76d4ee895d0f5a03196f6d3",
       "version_major": 2,
       "version_minor": 0
      },
      "text/plain": [
       "  0%|          | 0/2 [00:00<?, ?it/s]"
      ]
     },
     "metadata": {},
     "output_type": "display_data"
    },
    {
     "name": "stderr",
     "output_type": "stream",
     "text": [
      "d:\\research_models\\handwritten_ocr\\handwritten_ocr\\.venv\\Lib\\site-packages\\sklearn\\metrics\\_regression.py:492: FutureWarning: 'squared' is deprecated in version 1.4 and will be removed in 1.6. To calculate the root mean squared error, use the function'root_mean_squared_error'.\n",
      "  warnings.warn(\n",
      "[I 2024-11-20 05:57:31,693] Trial 17 finished with value: 0.21088729798793793 and parameters: {'learning_rate': 5.261313030965562e-05, 'batch_size': 8, 'weight_decay': 0.08440979620139984, 'num_epochs': 8, 'dropout_rate': 0.31308221285744736, 'warmup_steps': 497, 'gradient_accumulation_steps': 1}. Best is trial 4 with value: 0.12977483868598938.\n",
      "d:\\research_models\\handwritten_ocr\\handwritten_ocr\\.venv\\Lib\\site-packages\\transformers\\training_args.py:1559: FutureWarning: `evaluation_strategy` is deprecated and will be removed in version 4.46 of 🤗 Transformers. Use `eval_strategy` instead\n",
      "  warnings.warn(\n"
     ]
    },
    {
     "data": {
      "application/vnd.jupyter.widget-view+json": {
       "model_id": "8ad31392f74947ebac7e7b75199bfb44",
       "version_major": 2,
       "version_minor": 0
      },
      "text/plain": [
       "  0%|          | 0/12 [00:00<?, ?it/s]"
      ]
     },
     "metadata": {},
     "output_type": "display_data"
    },
    {
     "data": {
      "application/vnd.jupyter.widget-view+json": {
       "model_id": "38a3eef3f8c54ae4981ea1f34cee4638",
       "version_major": 2,
       "version_minor": 0
      },
      "text/plain": [
       "  0%|          | 0/3 [00:00<?, ?it/s]"
      ]
     },
     "metadata": {},
     "output_type": "display_data"
    },
    {
     "name": "stderr",
     "output_type": "stream",
     "text": [
      "d:\\research_models\\handwritten_ocr\\handwritten_ocr\\.venv\\Lib\\site-packages\\sklearn\\metrics\\_regression.py:492: FutureWarning: 'squared' is deprecated in version 1.4 and will be removed in 1.6. To calculate the root mean squared error, use the function'root_mean_squared_error'.\n",
      "  warnings.warn(\n"
     ]
    },
    {
     "name": "stdout",
     "output_type": "stream",
     "text": [
      "{'eval_loss': 0.7151621580123901, 'eval_rmse': 0.7758055329322815, 'eval_runtime': 5.2755, 'eval_samples_per_second': 1.896, 'eval_steps_per_second': 0.569, 'epoch': 0.89}\n"
     ]
    },
    {
     "data": {
      "application/vnd.jupyter.widget-view+json": {
       "model_id": "ae52be0792d8499e895dcd7d853ae25b",
       "version_major": 2,
       "version_minor": 0
      },
      "text/plain": [
       "  0%|          | 0/3 [00:00<?, ?it/s]"
      ]
     },
     "metadata": {},
     "output_type": "display_data"
    },
    {
     "name": "stderr",
     "output_type": "stream",
     "text": [
      "d:\\research_models\\handwritten_ocr\\handwritten_ocr\\.venv\\Lib\\site-packages\\sklearn\\metrics\\_regression.py:492: FutureWarning: 'squared' is deprecated in version 1.4 and will be removed in 1.6. To calculate the root mean squared error, use the function'root_mean_squared_error'.\n",
      "  warnings.warn(\n"
     ]
    },
    {
     "name": "stdout",
     "output_type": "stream",
     "text": [
      "{'eval_loss': 0.6654178500175476, 'eval_rmse': 0.7429733276367188, 'eval_runtime': 5.2798, 'eval_samples_per_second': 1.894, 'eval_steps_per_second': 0.568, 'epoch': 2.0}\n"
     ]
    },
    {
     "data": {
      "application/vnd.jupyter.widget-view+json": {
       "model_id": "d21cb330199d4c35af7bb19ac84704d5",
       "version_major": 2,
       "version_minor": 0
      },
      "text/plain": [
       "  0%|          | 0/3 [00:00<?, ?it/s]"
      ]
     },
     "metadata": {},
     "output_type": "display_data"
    },
    {
     "name": "stderr",
     "output_type": "stream",
     "text": [
      "d:\\research_models\\handwritten_ocr\\handwritten_ocr\\.venv\\Lib\\site-packages\\sklearn\\metrics\\_regression.py:492: FutureWarning: 'squared' is deprecated in version 1.4 and will be removed in 1.6. To calculate the root mean squared error, use the function'root_mean_squared_error'.\n",
      "  warnings.warn(\n"
     ]
    },
    {
     "name": "stdout",
     "output_type": "stream",
     "text": [
      "{'eval_loss': 0.6039444804191589, 'eval_rmse': 0.700705349445343, 'eval_runtime': 5.217, 'eval_samples_per_second': 1.917, 'eval_steps_per_second': 0.575, 'epoch': 2.67}\n",
      "{'train_runtime': 212.6239, 'train_samples_per_second': 0.508, 'train_steps_per_second': 0.056, 'train_loss': 1.5168158213297527, 'epoch': 2.67}\n"
     ]
    },
    {
     "data": {
      "application/vnd.jupyter.widget-view+json": {
       "model_id": "705b375293cc428590546b938da510e7",
       "version_major": 2,
       "version_minor": 0
      },
      "text/plain": [
       "  0%|          | 0/3 [00:00<?, ?it/s]"
      ]
     },
     "metadata": {},
     "output_type": "display_data"
    },
    {
     "name": "stderr",
     "output_type": "stream",
     "text": [
      "d:\\research_models\\handwritten_ocr\\handwritten_ocr\\.venv\\Lib\\site-packages\\sklearn\\metrics\\_regression.py:492: FutureWarning: 'squared' is deprecated in version 1.4 and will be removed in 1.6. To calculate the root mean squared error, use the function'root_mean_squared_error'.\n",
      "  warnings.warn(\n",
      "[I 2024-11-20 06:01:11,266] Trial 18 finished with value: 0.700705349445343 and parameters: {'learning_rate': 1.817303741544878e-05, 'batch_size': 4, 'weight_decay': 0.05780048495489138, 'num_epochs': 3, 'dropout_rate': 0.424617383961257, 'warmup_steps': 231, 'gradient_accumulation_steps': 2}. Best is trial 4 with value: 0.12977483868598938.\n",
      "d:\\research_models\\handwritten_ocr\\handwritten_ocr\\.venv\\Lib\\site-packages\\transformers\\training_args.py:1559: FutureWarning: `evaluation_strategy` is deprecated and will be removed in version 4.46 of 🤗 Transformers. Use `eval_strategy` instead\n",
      "  warnings.warn(\n"
     ]
    },
    {
     "data": {
      "application/vnd.jupyter.widget-view+json": {
       "model_id": "8599e4d95540417684042cf62169dba6",
       "version_major": 2,
       "version_minor": 0
      },
      "text/plain": [
       "  0%|          | 0/10 [00:00<?, ?it/s]"
      ]
     },
     "metadata": {},
     "output_type": "display_data"
    },
    {
     "data": {
      "application/vnd.jupyter.widget-view+json": {
       "model_id": "82604621d87b47539a7b713151548b7b",
       "version_major": 2,
       "version_minor": 0
      },
      "text/plain": [
       "  0%|          | 0/1 [00:00<?, ?it/s]"
      ]
     },
     "metadata": {},
     "output_type": "display_data"
    },
    {
     "name": "stderr",
     "output_type": "stream",
     "text": [
      "d:\\research_models\\handwritten_ocr\\handwritten_ocr\\.venv\\Lib\\site-packages\\sklearn\\metrics\\_regression.py:492: FutureWarning: 'squared' is deprecated in version 1.4 and will be removed in 1.6. To calculate the root mean squared error, use the function'root_mean_squared_error'.\n",
      "  warnings.warn(\n"
     ]
    },
    {
     "name": "stdout",
     "output_type": "stream",
     "text": [
      "{'eval_loss': 0.2968631088733673, 'eval_rmse': 0.5338659286499023, 'eval_runtime': 5.3841, 'eval_samples_per_second': 1.857, 'eval_steps_per_second': 0.186, 'epoch': 1.0}\n"
     ]
    },
    {
     "data": {
      "application/vnd.jupyter.widget-view+json": {
       "model_id": "5b9e77536bd54f4787ea775366bffc9a",
       "version_major": 2,
       "version_minor": 0
      },
      "text/plain": [
       "  0%|          | 0/1 [00:00<?, ?it/s]"
      ]
     },
     "metadata": {},
     "output_type": "display_data"
    },
    {
     "name": "stderr",
     "output_type": "stream",
     "text": [
      "d:\\research_models\\handwritten_ocr\\handwritten_ocr\\.venv\\Lib\\site-packages\\sklearn\\metrics\\_regression.py:492: FutureWarning: 'squared' is deprecated in version 1.4 and will be removed in 1.6. To calculate the root mean squared error, use the function'root_mean_squared_error'.\n",
      "  warnings.warn(\n"
     ]
    },
    {
     "name": "stdout",
     "output_type": "stream",
     "text": [
      "{'eval_loss': 0.2940405011177063, 'eval_rmse': 0.5316089391708374, 'eval_runtime': 5.4017, 'eval_samples_per_second': 1.851, 'eval_steps_per_second': 0.185, 'epoch': 2.0}\n"
     ]
    },
    {
     "data": {
      "application/vnd.jupyter.widget-view+json": {
       "model_id": "f264682518824390bf7101d6dc1ead4a",
       "version_major": 2,
       "version_minor": 0
      },
      "text/plain": [
       "  0%|          | 0/1 [00:00<?, ?it/s]"
      ]
     },
     "metadata": {},
     "output_type": "display_data"
    },
    {
     "name": "stderr",
     "output_type": "stream",
     "text": [
      "d:\\research_models\\handwritten_ocr\\handwritten_ocr\\.venv\\Lib\\site-packages\\sklearn\\metrics\\_regression.py:492: FutureWarning: 'squared' is deprecated in version 1.4 and will be removed in 1.6. To calculate the root mean squared error, use the function'root_mean_squared_error'.\n",
      "  warnings.warn(\n"
     ]
    },
    {
     "name": "stdout",
     "output_type": "stream",
     "text": [
      "{'eval_loss': 0.2869846224784851, 'eval_rmse': 0.5260055661201477, 'eval_runtime': 5.3217, 'eval_samples_per_second': 1.879, 'eval_steps_per_second': 0.188, 'epoch': 3.0}\n"
     ]
    },
    {
     "data": {
      "application/vnd.jupyter.widget-view+json": {
       "model_id": "7328887049504253bbaa7e4263567c86",
       "version_major": 2,
       "version_minor": 0
      },
      "text/plain": [
       "  0%|          | 0/1 [00:00<?, ?it/s]"
      ]
     },
     "metadata": {},
     "output_type": "display_data"
    },
    {
     "name": "stderr",
     "output_type": "stream",
     "text": [
      "d:\\research_models\\handwritten_ocr\\handwritten_ocr\\.venv\\Lib\\site-packages\\sklearn\\metrics\\_regression.py:492: FutureWarning: 'squared' is deprecated in version 1.4 and will be removed in 1.6. To calculate the root mean squared error, use the function'root_mean_squared_error'.\n",
      "  warnings.warn(\n"
     ]
    },
    {
     "name": "stdout",
     "output_type": "stream",
     "text": [
      "{'eval_loss': 0.2819221615791321, 'eval_rmse': 0.5219393372535706, 'eval_runtime': 5.4255, 'eval_samples_per_second': 1.843, 'eval_steps_per_second': 0.184, 'epoch': 4.0}\n"
     ]
    },
    {
     "data": {
      "application/vnd.jupyter.widget-view+json": {
       "model_id": "54ed8a0d1b9b4933b0f46118c901245f",
       "version_major": 2,
       "version_minor": 0
      },
      "text/plain": [
       "  0%|          | 0/1 [00:00<?, ?it/s]"
      ]
     },
     "metadata": {},
     "output_type": "display_data"
    },
    {
     "name": "stderr",
     "output_type": "stream",
     "text": [
      "d:\\research_models\\handwritten_ocr\\handwritten_ocr\\.venv\\Lib\\site-packages\\sklearn\\metrics\\_regression.py:492: FutureWarning: 'squared' is deprecated in version 1.4 and will be removed in 1.6. To calculate the root mean squared error, use the function'root_mean_squared_error'.\n",
      "  warnings.warn(\n"
     ]
    },
    {
     "name": "stdout",
     "output_type": "stream",
     "text": [
      "{'eval_loss': 0.27625948190689087, 'eval_rmse': 0.5172763466835022, 'eval_runtime': 5.5778, 'eval_samples_per_second': 1.793, 'eval_steps_per_second': 0.179, 'epoch': 5.0}\n"
     ]
    },
    {
     "data": {
      "application/vnd.jupyter.widget-view+json": {
       "model_id": "98914364350b4d34aff33b61e4d1f144",
       "version_major": 2,
       "version_minor": 0
      },
      "text/plain": [
       "  0%|          | 0/1 [00:00<?, ?it/s]"
      ]
     },
     "metadata": {},
     "output_type": "display_data"
    },
    {
     "name": "stderr",
     "output_type": "stream",
     "text": [
      "d:\\research_models\\handwritten_ocr\\handwritten_ocr\\.venv\\Lib\\site-packages\\sklearn\\metrics\\_regression.py:492: FutureWarning: 'squared' is deprecated in version 1.4 and will be removed in 1.6. To calculate the root mean squared error, use the function'root_mean_squared_error'.\n",
      "  warnings.warn(\n"
     ]
    },
    {
     "name": "stdout",
     "output_type": "stream",
     "text": [
      "{'eval_loss': 0.262237012386322, 'eval_rmse': 0.5054786205291748, 'eval_runtime': 5.5636, 'eval_samples_per_second': 1.797, 'eval_steps_per_second': 0.18, 'epoch': 6.0}\n"
     ]
    },
    {
     "data": {
      "application/vnd.jupyter.widget-view+json": {
       "model_id": "7702d338c8d649c9b363df3bca050532",
       "version_major": 2,
       "version_minor": 0
      },
      "text/plain": [
       "  0%|          | 0/1 [00:00<?, ?it/s]"
      ]
     },
     "metadata": {},
     "output_type": "display_data"
    },
    {
     "name": "stderr",
     "output_type": "stream",
     "text": [
      "d:\\research_models\\handwritten_ocr\\handwritten_ocr\\.venv\\Lib\\site-packages\\sklearn\\metrics\\_regression.py:492: FutureWarning: 'squared' is deprecated in version 1.4 and will be removed in 1.6. To calculate the root mean squared error, use the function'root_mean_squared_error'.\n",
      "  warnings.warn(\n"
     ]
    },
    {
     "name": "stdout",
     "output_type": "stream",
     "text": [
      "{'eval_loss': 0.2539134621620178, 'eval_rmse': 0.4982945919036865, 'eval_runtime': 6.1088, 'eval_samples_per_second': 1.637, 'eval_steps_per_second': 0.164, 'epoch': 6.67}\n",
      "{'train_runtime': 679.2262, 'train_samples_per_second': 0.53, 'train_steps_per_second': 0.015, 'train_loss': 0.5691825866699218, 'epoch': 6.67}\n"
     ]
    },
    {
     "data": {
      "application/vnd.jupyter.widget-view+json": {
       "model_id": "bdbc53d6d0fc4628ae77e9c042ada18f",
       "version_major": 2,
       "version_minor": 0
      },
      "text/plain": [
       "  0%|          | 0/1 [00:00<?, ?it/s]"
      ]
     },
     "metadata": {},
     "output_type": "display_data"
    },
    {
     "name": "stderr",
     "output_type": "stream",
     "text": [
      "d:\\research_models\\handwritten_ocr\\handwritten_ocr\\.venv\\Lib\\site-packages\\sklearn\\metrics\\_regression.py:492: FutureWarning: 'squared' is deprecated in version 1.4 and will be removed in 1.6. To calculate the root mean squared error, use the function'root_mean_squared_error'.\n",
      "  warnings.warn(\n",
      "[I 2024-11-20 06:12:36,631] Trial 19 finished with value: 0.4982945919036865 and parameters: {'learning_rate': 5.05872458044269e-05, 'batch_size': 16, 'weight_decay': 0.07865613264218983, 'num_epochs': 10, 'dropout_rate': 0.10295933202110281, 'warmup_steps': 783, 'gradient_accumulation_steps': 4}. Best is trial 4 with value: 0.12977483868598938.\n"
     ]
    },
    {
     "name": "stdout",
     "output_type": "stream",
     "text": [
      "Best trial:\n",
      "  Value:  0.12977483868598938\n",
      "  Params: \n",
      "    learning_rate: 3.908869773882852e-05\n",
      "    batch_size: 8\n",
      "    weight_decay: 0.05458254091084816\n",
      "    num_epochs: 7\n",
      "    dropout_rate: 0.18171617704115506\n",
      "    warmup_steps: 229\n",
      "    gradient_accumulation_steps: 1\n",
      "\n",
      "Best hyperparameters found:\n",
      "learning_rate: 3.908869773882852e-05\n",
      "batch_size: 8\n",
      "weight_decay: 0.05458254091084816\n",
      "num_epochs: 7\n",
      "dropout_rate: 0.18171617704115506\n",
      "warmup_steps: 229\n",
      "gradient_accumulation_steps: 1\n"
     ]
    },
    {
     "name": "stderr",
     "output_type": "stream",
     "text": [
      "d:\\research_models\\handwritten_ocr\\handwritten_ocr\\.venv\\Lib\\site-packages\\transformers\\training_args.py:1559: FutureWarning: `evaluation_strategy` is deprecated and will be removed in version 4.46 of 🤗 Transformers. Use `eval_strategy` instead\n",
      "  warnings.warn(\n"
     ]
    },
    {
     "name": "stdout",
     "output_type": "stream",
     "text": [
      "\n",
      "Training final model with best hyperparameters...\n"
     ]
    },
    {
     "data": {
      "application/vnd.jupyter.widget-view+json": {
       "model_id": "54fe4366f2d04168a81b59106741ee36",
       "version_major": 2,
       "version_minor": 0
      },
      "text/plain": [
       "  0%|          | 0/35 [00:00<?, ?it/s]"
      ]
     },
     "metadata": {},
     "output_type": "display_data"
    },
    {
     "data": {
      "application/vnd.jupyter.widget-view+json": {
       "model_id": "41a7bea727e142468c0484f0697023f9",
       "version_major": 2,
       "version_minor": 0
      },
      "text/plain": [
       "  0%|          | 0/2 [00:00<?, ?it/s]"
      ]
     },
     "metadata": {},
     "output_type": "display_data"
    },
    {
     "name": "stderr",
     "output_type": "stream",
     "text": [
      "d:\\research_models\\handwritten_ocr\\handwritten_ocr\\.venv\\Lib\\site-packages\\sklearn\\metrics\\_regression.py:492: FutureWarning: 'squared' is deprecated in version 1.4 and will be removed in 1.6. To calculate the root mean squared error, use the function'root_mean_squared_error'.\n",
      "  warnings.warn(\n"
     ]
    },
    {
     "name": "stdout",
     "output_type": "stream",
     "text": [
      "{'eval_loss': 0.49742308259010315, 'eval_rmse': 0.6990876793861389, 'eval_runtime': 5.2379, 'eval_samples_per_second': 1.909, 'eval_steps_per_second': 0.382, 'epoch': 1.0}\n"
     ]
    },
    {
     "data": {
      "application/vnd.jupyter.widget-view+json": {
       "model_id": "73d8133803c7455ea1c6e56cc3595008",
       "version_major": 2,
       "version_minor": 0
      },
      "text/plain": [
       "  0%|          | 0/2 [00:00<?, ?it/s]"
      ]
     },
     "metadata": {},
     "output_type": "display_data"
    },
    {
     "name": "stderr",
     "output_type": "stream",
     "text": [
      "d:\\research_models\\handwritten_ocr\\handwritten_ocr\\.venv\\Lib\\site-packages\\sklearn\\metrics\\_regression.py:492: FutureWarning: 'squared' is deprecated in version 1.4 and will be removed in 1.6. To calculate the root mean squared error, use the function'root_mean_squared_error'.\n",
      "  warnings.warn(\n"
     ]
    },
    {
     "name": "stdout",
     "output_type": "stream",
     "text": [
      "{'eval_loss': 0.4195970892906189, 'eval_rmse': 0.6411163210868835, 'eval_runtime': 5.2383, 'eval_samples_per_second': 1.909, 'eval_steps_per_second': 0.382, 'epoch': 2.0}\n"
     ]
    },
    {
     "data": {
      "application/vnd.jupyter.widget-view+json": {
       "model_id": "ae79a04248fe4160ba70fd3bc8c53206",
       "version_major": 2,
       "version_minor": 0
      },
      "text/plain": [
       "  0%|          | 0/2 [00:00<?, ?it/s]"
      ]
     },
     "metadata": {},
     "output_type": "display_data"
    },
    {
     "name": "stderr",
     "output_type": "stream",
     "text": [
      "d:\\research_models\\handwritten_ocr\\handwritten_ocr\\.venv\\Lib\\site-packages\\sklearn\\metrics\\_regression.py:492: FutureWarning: 'squared' is deprecated in version 1.4 and will be removed in 1.6. To calculate the root mean squared error, use the function'root_mean_squared_error'.\n",
      "  warnings.warn(\n"
     ]
    },
    {
     "name": "stdout",
     "output_type": "stream",
     "text": [
      "{'eval_loss': 0.31684988737106323, 'eval_rmse': 0.555295467376709, 'eval_runtime': 5.3187, 'eval_samples_per_second': 1.88, 'eval_steps_per_second': 0.376, 'epoch': 3.0}\n"
     ]
    },
    {
     "data": {
      "application/vnd.jupyter.widget-view+json": {
       "model_id": "f21ff0b989f744caaecf6426e20ab29e",
       "version_major": 2,
       "version_minor": 0
      },
      "text/plain": [
       "  0%|          | 0/2 [00:00<?, ?it/s]"
      ]
     },
     "metadata": {},
     "output_type": "display_data"
    },
    {
     "name": "stderr",
     "output_type": "stream",
     "text": [
      "d:\\research_models\\handwritten_ocr\\handwritten_ocr\\.venv\\Lib\\site-packages\\sklearn\\metrics\\_regression.py:492: FutureWarning: 'squared' is deprecated in version 1.4 and will be removed in 1.6. To calculate the root mean squared error, use the function'root_mean_squared_error'.\n",
      "  warnings.warn(\n"
     ]
    },
    {
     "name": "stdout",
     "output_type": "stream",
     "text": [
      "{'eval_loss': 0.21175774931907654, 'eval_rmse': 0.4563523530960083, 'eval_runtime': 5.3131, 'eval_samples_per_second': 1.882, 'eval_steps_per_second': 0.376, 'epoch': 4.0}\n"
     ]
    },
    {
     "data": {
      "application/vnd.jupyter.widget-view+json": {
       "model_id": "3a13d67d8126415b910cfa5b2e33ccea",
       "version_major": 2,
       "version_minor": 0
      },
      "text/plain": [
       "  0%|          | 0/2 [00:00<?, ?it/s]"
      ]
     },
     "metadata": {},
     "output_type": "display_data"
    },
    {
     "name": "stderr",
     "output_type": "stream",
     "text": [
      "d:\\research_models\\handwritten_ocr\\handwritten_ocr\\.venv\\Lib\\site-packages\\sklearn\\metrics\\_regression.py:492: FutureWarning: 'squared' is deprecated in version 1.4 and will be removed in 1.6. To calculate the root mean squared error, use the function'root_mean_squared_error'.\n",
      "  warnings.warn(\n"
     ]
    },
    {
     "name": "stdout",
     "output_type": "stream",
     "text": [
      "{'eval_loss': 0.13203632831573486, 'eval_rmse': 0.3626708984375, 'eval_runtime': 5.3097, 'eval_samples_per_second': 1.883, 'eval_steps_per_second': 0.377, 'epoch': 5.0}\n"
     ]
    },
    {
     "data": {
      "application/vnd.jupyter.widget-view+json": {
       "model_id": "2b050393bac141e6b47655e82339c107",
       "version_major": 2,
       "version_minor": 0
      },
      "text/plain": [
       "  0%|          | 0/2 [00:00<?, ?it/s]"
      ]
     },
     "metadata": {},
     "output_type": "display_data"
    },
    {
     "name": "stderr",
     "output_type": "stream",
     "text": [
      "d:\\research_models\\handwritten_ocr\\handwritten_ocr\\.venv\\Lib\\site-packages\\sklearn\\metrics\\_regression.py:492: FutureWarning: 'squared' is deprecated in version 1.4 and will be removed in 1.6. To calculate the root mean squared error, use the function'root_mean_squared_error'.\n",
      "  warnings.warn(\n"
     ]
    },
    {
     "name": "stdout",
     "output_type": "stream",
     "text": [
      "{'eval_loss': 0.0698838084936142, 'eval_rmse': 0.25745686888694763, 'eval_runtime': 5.2762, 'eval_samples_per_second': 1.895, 'eval_steps_per_second': 0.379, 'epoch': 6.0}\n"
     ]
    },
    {
     "data": {
      "application/vnd.jupyter.widget-view+json": {
       "model_id": "97f2c01979b84aa5991e81ba7b06d349",
       "version_major": 2,
       "version_minor": 0
      },
      "text/plain": [
       "  0%|          | 0/2 [00:00<?, ?it/s]"
      ]
     },
     "metadata": {},
     "output_type": "display_data"
    },
    {
     "name": "stderr",
     "output_type": "stream",
     "text": [
      "d:\\research_models\\handwritten_ocr\\handwritten_ocr\\.venv\\Lib\\site-packages\\sklearn\\metrics\\_regression.py:492: FutureWarning: 'squared' is deprecated in version 1.4 and will be removed in 1.6. To calculate the root mean squared error, use the function'root_mean_squared_error'.\n",
      "  warnings.warn(\n"
     ]
    },
    {
     "name": "stdout",
     "output_type": "stream",
     "text": [
      "{'eval_loss': 0.024166081100702286, 'eval_rmse': 0.15152841806411743, 'eval_runtime': 5.2384, 'eval_samples_per_second': 1.909, 'eval_steps_per_second': 0.382, 'epoch': 7.0}\n",
      "{'train_runtime': 555.3567, 'train_samples_per_second': 0.454, 'train_steps_per_second': 0.063, 'train_loss': 0.2813757487705776, 'epoch': 7.0}\n"
     ]
    }
   ],
   "source": [
    "# Define custom metrics function for evaluation\n",
    "def compute_metrics(eval_pred):\n",
    "    predictions, labels = eval_pred\n",
    "    predictions = predictions.squeeze()\n",
    "    mse = mean_squared_error(labels, predictions, squared=False)\n",
    "    return {'rmse': mse}\n",
    "\n",
    "from transformers import AdamW, Trainer, TrainingArguments\n",
    "\n",
    "def objective(trial: Trial, train_dataset, val_dataset, tokenizer, model_class):\n",
    "    # Define hyperparameter search space\n",
    "    hyperparameters = {\n",
    "        'learning_rate': trial.suggest_float('learning_rate', 1e-6, 1e-4, log=True),\n",
    "        'batch_size': trial.suggest_categorical('batch_size', [4, 8, 16]),\n",
    "        'weight_decay': trial.suggest_float('weight_decay', 0.01, 0.1),\n",
    "        'num_epochs': trial.suggest_int('num_epochs', 3, 10),\n",
    "        'dropout_rate': trial.suggest_float('dropout_rate', 0.1, 0.5),\n",
    "        'warmup_steps': trial.suggest_int('warmup_steps', 100, 1000),\n",
    "        'gradient_accumulation_steps': trial.suggest_categorical('gradient_accumulation_steps', [1, 2, 4])\n",
    "    }\n",
    "    \n",
    "    # Initialize model with dropout\n",
    "    class BertForMultiOutputRegressionWithDropout(model_class):\n",
    "        def __init__(self, dropout_rate):\n",
    "            super().__init__()\n",
    "            self.dropout = torch.nn.Dropout(dropout_rate)\n",
    "            \n",
    "        def forward(self, input_ids, attention_mask, labels=None):\n",
    "            outputs = self.bert(input_ids=input_ids, attention_mask=attention_mask)\n",
    "            pooled_output = outputs.pooler_output\n",
    "            pooled_output = self.dropout(pooled_output)\n",
    "            logits = self.regressor(pooled_output)\n",
    "            \n",
    "            loss = None\n",
    "            if labels is not None:\n",
    "                loss_fct = torch.nn.MSELoss()\n",
    "                loss = loss_fct(logits, labels)\n",
    "            \n",
    "            return {'loss': loss, 'logits': logits} if loss is not None else {'logits': logits}\n",
    "    \n",
    "    # Initialize model with current trial's dropout rate\n",
    "    model = BertForMultiOutputRegressionWithDropout(hyperparameters['dropout_rate'])\n",
    "    \n",
    "    # Training arguments for current trial\n",
    "# Training arguments for current trial\n",
    "    training_args = TrainingArguments(\n",
    "        output_dir=f\"C:/ml_model/results/trial_{trial.number}\",  # Replace with your C drive path\n",
    "        evaluation_strategy=\"epoch\",\n",
    "        save_strategy=\"epoch\",\n",
    "        learning_rate=hyperparameters['learning_rate'],\n",
    "        per_device_train_batch_size=hyperparameters['batch_size'],\n",
    "        per_device_eval_batch_size=hyperparameters['batch_size'],\n",
    "        num_train_epochs=hyperparameters['num_epochs'],\n",
    "        weight_decay=hyperparameters['weight_decay'],\n",
    "        load_best_model_at_end=True,\n",
    "        metric_for_best_model=\"rmse\",\n",
    "        greater_is_better=False,\n",
    "        logging_dir=f\"C:/ml_model/logs/trial_{trial.number}\",  # Replace with your C drive path\n",
    "        logging_steps=50,\n",
    "        gradient_accumulation_steps=hyperparameters['gradient_accumulation_steps'],\n",
    "        warmup_steps=hyperparameters['warmup_steps']\n",
    "    )\n",
    "        \n",
    "        # Initialize optimizer\n",
    "    optimizer = torch.optim.AdamW(\n",
    "            model.parameters(),\n",
    "            lr=hyperparameters['learning_rate'],\n",
    "            weight_decay=hyperparameters['weight_decay']\n",
    "        )\n",
    "    \n",
    "    # Initialize trainer\n",
    "    trainer = Trainer(\n",
    "        model=model,\n",
    "        args=training_args,\n",
    "        train_dataset=train_dataset,\n",
    "        eval_dataset=val_dataset,\n",
    "        compute_metrics=compute_metrics,\n",
    "        optimizers=(optimizer, None)\n",
    "    )\n",
    "    \n",
    "    # Train and evaluate\n",
    "    trainer.train()\n",
    "    metrics = trainer.evaluate()\n",
    "    \n",
    "    # Report RMSE as the objective to minimize\n",
    "    return metrics['eval_rmse']\n",
    "\n",
    "def run_hyperparameter_optimization(train_dataset, val_dataset, tokenizer, model_class, n_trials=20):\n",
    "    \"\"\"\n",
    "    Run hyperparameter optimization using Optuna\n",
    "    \n",
    "    Args:\n",
    "        train_dataset: Training dataset\n",
    "        val_dataset: Validation dataset\n",
    "        tokenizer: BERT tokenizer\n",
    "        model_class: Base BERT model class\n",
    "        n_trials: Number of optimization trials\n",
    "    \n",
    "    Returns:\n",
    "        best_trial: Best trial with optimal hyperparameters\n",
    "        study: Completed Optuna study\n",
    "    \"\"\"\n",
    "    # Create Optuna study\n",
    "    study = optuna.create_study(\n",
    "        direction=\"minimize\",\n",
    "        pruner=optuna.pruners.MedianPruner(n_startup_trials=5, n_warmup_steps=5)\n",
    "    )\n",
    "    \n",
    "    # Create partial function with fixed arguments\n",
    "    objective_partial = partial(\n",
    "        objective,\n",
    "        train_dataset=train_dataset,\n",
    "        val_dataset=val_dataset,\n",
    "        tokenizer=tokenizer,\n",
    "        model_class=model_class\n",
    "    )\n",
    "    \n",
    "    \n",
    "    # Run optimization\n",
    "    study.optimize(objective_partial, n_trials=n_trials)\n",
    "    \n",
    "    print(\"Best trial:\")\n",
    "    print(\"  Value: \", study.best_trial.value)\n",
    "    print(\"  Params: \")\n",
    "    for key, value in study.best_trial.params.items():\n",
    "        print(f\"    {key}: {value}\")\n",
    "    \n",
    "    return study.best_trial, study\n",
    "\n",
    "# Main execution with hyperparameter optimization\n",
    "if __name__ == \"__main__\":\n",
    "    print(\"Starting hyperparameter optimization...\")\n",
    "    \n",
    "    # Run hyperparameter optimization\n",
    "    best_trial, study = run_hyperparameter_optimization(\n",
    "        train_dataset=train_dataset,\n",
    "        val_dataset=val_dataset,\n",
    "        tokenizer=tokenizer,\n",
    "        model_class=BertForMultiOutputRegression,\n",
    "        n_trials=20  # Adjust number of trials as needed\n",
    "    )\n",
    "    \n",
    "    print(\"\\nBest hyperparameters found:\")\n",
    "    for key, value in best_trial.params.items():\n",
    "        print(f\"{key}: {value}\")\n",
    "    \n",
    "    # Train final model with best hyperparameters\n",
    "    final_model = BertForMultiOutputRegression()\n",
    "    \n",
    "    final_training_args = TrainingArguments(\n",
    "        output_dir='./final_model',\n",
    "        evaluation_strategy=\"epoch\",\n",
    "        save_strategy=\"epoch\",\n",
    "        learning_rate=best_trial.params['learning_rate'],\n",
    "        per_device_train_batch_size=best_trial.params['batch_size'],\n",
    "        per_device_eval_batch_size=best_trial.params['batch_size'],\n",
    "        num_train_epochs=best_trial.params['num_epochs'],\n",
    "        weight_decay=best_trial.params['weight_decay'],\n",
    "        load_best_model_at_end=True,\n",
    "        metric_for_best_model=\"rmse\",\n",
    "        greater_is_better=False,\n",
    "        logging_dir='./logs/final_model',\n",
    "        gradient_accumulation_steps=best_trial.params['gradient_accumulation_steps'],\n",
    "        warmup_steps=best_trial.params['warmup_steps']\n",
    "    )\n",
    "    \n",
    "    # Initialize final trainer with best hyperparameters\n",
    "    final_trainer = Trainer(\n",
    "        model=final_model,\n",
    "        args=final_training_args,\n",
    "        train_dataset=train_dataset,\n",
    "        eval_dataset=val_dataset,\n",
    "        compute_metrics=compute_metrics\n",
    "    )\n",
    "    \n",
    "    # Train final model\n",
    "    print(\"\\nTraining final model with best hyperparameters...\")\n",
    "    final_trainer.train()\n",
    "    "
   ]
  },
  {
   "cell_type": "code",
   "execution_count": 35,
   "metadata": {},
   "outputs": [
    {
     "data": {
      "image/png": "[encoded data removed]",
      "text/plain": [
       "<Figure size 1000x500 with 1 Axes>"
      ]
     },
     "metadata": {},
     "output_type": "display_data"
    },
    {
     "name": "stdout",
     "output_type": "stream",
     "text": [
      "\n",
      "Best Trial Details:\n",
      "Trial Number: 4\n",
      "Loss (Objective): 0.1298\n",
      "Parameters: {'learning_rate': 3.908869773882852e-05, 'batch_size': 8, 'weight_decay': 0.05458254091084816, 'num_epochs': 7, 'dropout_rate': 0.18171617704115506, 'warmup_steps': 229, 'gradient_accumulation_steps': 1}\n"
     ]
    },
    {
     "ename": "ValueError",
     "evalue": "Unknown format code 'f' for object of type 'str'",
     "output_type": "error",
     "traceback": [
      "\u001b[1;31m---------------------------------------------------------------------------\u001b[0m",
      "\u001b[1;31mValueError\u001b[0m                                Traceback (most recent call last)",
      "Cell \u001b[1;32mIn[35], line 63\u001b[0m\n\u001b[0;32m     60\u001b[0m         \u001b[38;5;28mprint\u001b[39m(\u001b[38;5;124mf\u001b[39m\u001b[38;5;124m\"\u001b[39m\u001b[38;5;124mRMSE: \u001b[39m\u001b[38;5;132;01m{\u001b[39;00mbest_trial\u001b[38;5;241m.\u001b[39muser_attrs\u001b[38;5;241m.\u001b[39mget(\u001b[38;5;124m'\u001b[39m\u001b[38;5;124mrmse\u001b[39m\u001b[38;5;124m'\u001b[39m,\u001b[38;5;250m \u001b[39m\u001b[38;5;124m'\u001b[39m\u001b[38;5;124mN/A\u001b[39m\u001b[38;5;124m'\u001b[39m)\u001b[38;5;132;01m:\u001b[39;00m\u001b[38;5;124m.4f\u001b[39m\u001b[38;5;132;01m}\u001b[39;00m\u001b[38;5;124m\"\u001b[39m)\n\u001b[0;32m     62\u001b[0m \u001b[38;5;66;03m# Call the function for all epochs\u001b[39;00m\n\u001b[1;32m---> 63\u001b[0m \u001b[43mplot_trials_metrics_with_all_epochs\u001b[49m\u001b[43m(\u001b[49m\u001b[43mstudy\u001b[49m\u001b[43m)\u001b[49m\n",
      "Cell \u001b[1;32mIn[35], line 60\u001b[0m, in \u001b[0;36mplot_trials_metrics_with_all_epochs\u001b[1;34m(study)\u001b[0m\n\u001b[0;32m     58\u001b[0m \u001b[38;5;28mprint\u001b[39m(\u001b[38;5;124mf\u001b[39m\u001b[38;5;124m\"\u001b[39m\u001b[38;5;124mLoss (Objective): \u001b[39m\u001b[38;5;132;01m{\u001b[39;00mbest_trial\u001b[38;5;241m.\u001b[39mvalue\u001b[38;5;132;01m:\u001b[39;00m\u001b[38;5;124m.4f\u001b[39m\u001b[38;5;132;01m}\u001b[39;00m\u001b[38;5;124m\"\u001b[39m)\n\u001b[0;32m     59\u001b[0m \u001b[38;5;28mprint\u001b[39m(\u001b[38;5;124mf\u001b[39m\u001b[38;5;124m\"\u001b[39m\u001b[38;5;124mParameters: \u001b[39m\u001b[38;5;132;01m{\u001b[39;00mbest_trial\u001b[38;5;241m.\u001b[39mparams\u001b[38;5;132;01m}\u001b[39;00m\u001b[38;5;124m\"\u001b[39m)\n\u001b[1;32m---> 60\u001b[0m \u001b[38;5;28mprint\u001b[39m(\u001b[38;5;124mf\u001b[39m\u001b[38;5;124m\"\u001b[39m\u001b[38;5;124mRMSE: \u001b[39m\u001b[38;5;132;43;01m{\u001b[39;49;00m\u001b[43mbest_trial\u001b[49m\u001b[38;5;241;43m.\u001b[39;49m\u001b[43muser_attrs\u001b[49m\u001b[38;5;241;43m.\u001b[39;49m\u001b[43mget\u001b[49m\u001b[43m(\u001b[49m\u001b[38;5;124;43m'\u001b[39;49m\u001b[38;5;124;43mrmse\u001b[39;49m\u001b[38;5;124;43m'\u001b[39;49m\u001b[43m,\u001b[49m\u001b[38;5;250;43m \u001b[39;49m\u001b[38;5;124;43m'\u001b[39;49m\u001b[38;5;124;43mN/A\u001b[39;49m\u001b[38;5;124;43m'\u001b[39;49m\u001b[43m)\u001b[49m\u001b[38;5;132;43;01m:\u001b[39;49;00m\u001b[38;5;124;43m.4f\u001b[39;49m\u001b[38;5;132;43;01m}\u001b[39;49;00m\u001b[38;5;124m\"\u001b[39m)\n",
      "\u001b[1;31mValueError\u001b[0m: Unknown format code 'f' for object of type 'str'"
     ]
    }
   ],
   "source": [
    "import matplotlib.pyplot as plt\n",
    "\n",
    "def plot_trials_metrics_with_all_epochs(study):\n",
    "    \"\"\"\n",
    "    Plot the loss and RMSE for all completed trials and highlight the best trial,\n",
    "    with labeled axes and integer x-axis.\n",
    "    \n",
    "    Args:\n",
    "        study: The Optuna study object containing trials information.\n",
    "    \"\"\"\n",
    "    trial_numbers = []\n",
    "    losses = []\n",
    "    rmses = []\n",
    "\n",
    "    best_trial = None\n",
    "    best_value = float('inf')  # Initialize with a very high value\n",
    "\n",
    "    for trial in study.trials:\n",
    "        if trial.state == optuna.trial.TrialState.COMPLETE:\n",
    "            trial_numbers.append(trial.number)\n",
    "            losses.append(trial.value)  # Assuming `value` is the loss\n",
    "            rmse = trial.user_attrs.get('rmse', trial.value)  # Use custom attribute if available\n",
    "            rmses.append(rmse)\n",
    "\n",
    "            # Update best trial\n",
    "            if trial.value < best_value:\n",
    "                best_value = trial.value\n",
    "                best_trial = trial\n",
    "\n",
    "    # Plot\n",
    "    plt.figure(figsize=(10, 5))\n",
    "    plt.plot(trial_numbers, losses, label='Loss (Objective)', marker='o', color='blue')\n",
    "    plt.plot(trial_numbers, rmses, label='RMSE', marker='x', color='red')\n",
    "    plt.xlabel('Trial Number', fontsize=12)\n",
    "    plt.ylabel('Value (Loss and RMSE)', fontsize=12)\n",
    "    plt.title('Loss and RMSE Across All Trials', fontsize=14)\n",
    "    plt.xticks(trial_numbers)  # Set x-axis ticks to integers (trial numbers)\n",
    "    plt.legend()\n",
    "    plt.grid()\n",
    "\n",
    "    # Annotate best trial\n",
    "    if best_trial is not None:\n",
    "        plt.annotate(\n",
    "            f\"Best Trial\\nNumber: {best_trial.number}\",\n",
    "            xy=(trial_numbers[losses.index(best_trial.value)], best_trial.value),\n",
    "            xytext=(trial_numbers[0], best_trial.value + 0.1),\n",
    "            arrowprops=dict(facecolor='black', arrowstyle=\"->\"),\n",
    "            fontsize=10,\n",
    "            color='green'\n",
    "        )\n",
    "\n",
    "    plt.show()\n",
    "\n",
    "    # Print best trial information\n",
    "    if best_trial is not None:\n",
    "        print(\"\\nBest Trial Details:\")\n",
    "        print(f\"Trial Number: {best_trial.number}\")\n",
    "        print(f\"Loss (Objective): {best_trial.value:.4f}\")\n",
    "        print(f\"Parameters: {best_trial.params}\")\n",
    "        print(f\"RMSE: {best_trial.user_attrs.get('rmse', 'N/A'):.4f}\")\n",
    "\n",
    "# Call the function for all epochs\n",
    "plot_trials_metrics_with_all_epochs(study)\n"
   ]
  },
  {
   "cell_type": "code",
   "execution_count": null,
   "metadata": {},
   "outputs": [],
   "source": [
    "plot_trials_metrics(study)"
   ]
  },
  {
   "cell_type": "code",
   "execution_count": 19,
   "metadata": {},
   "outputs": [],
   "source": [
    "from sklearn.metrics import r2_score, mean_absolute_error , mean_squared_error\n",
    "\n",
    "def evaluate_final_model(trainer, val_dataset):\n",
    "    # Get predictions and labels\n",
    "    predictions = trainer.predict(val_dataset)\n",
    "    preds = predictions.predictions\n",
    "    labels = predictions.label_ids\n",
    "\n",
    "    # Compute R2 score and MAE\n",
    "    r2 = r2_score(labels, preds)\n",
    "    mae = mean_absolute_error(labels, preds)\n",
    "    mse = mean_squared_error(labels , preds)\n",
    "\n",
    "    print(f\"R2 Score: {r2:.4f}\")\n",
    "    print(f\"Mean Absolute Error (MAE): {mae:.4f}\")\n",
    "    print(f\"Mean Squarred Error (MAE): {mse:.4f}\")\n",
    "\n",
    "    return r2, mae"
   ]
  },
  {
   "cell_type": "code",
   "execution_count": 26,
   "metadata": {},
   "outputs": [
    {
     "data": {
      "application/vnd.jupyter.widget-view+json": {
       "model_id": "68ebf84bec9a457bb73c780c5d0629ac",
       "version_major": 2,
       "version_minor": 0
      },
      "text/plain": [
       "  0%|          | 0/2 [00:00<?, ?it/s]"
      ]
     },
     "metadata": {},
     "output_type": "display_data"
    },
    {
     "name": "stderr",
     "output_type": "stream",
     "text": [
      "d:\\research_models\\handwritten_ocr\\handwritten_ocr\\.venv\\Lib\\site-packages\\sklearn\\metrics\\_regression.py:492: FutureWarning: 'squared' is deprecated in version 1.4 and will be removed in 1.6. To calculate the root mean squared error, use the function'root_mean_squared_error'.\n",
      "  warnings.warn(\n"
     ]
    },
    {
     "name": "stdout",
     "output_type": "stream",
     "text": [
      "\n",
      "Final model evaluation metrics:\n",
      "{'eval_loss': 0.024166081100702286, 'eval_rmse': 0.15152841806411743, 'eval_runtime': 5.0494, 'eval_samples_per_second': 1.98, 'eval_steps_per_second': 0.396, 'epoch': 7.0}\n"
     ]
    },
    {
     "data": {
      "application/vnd.jupyter.widget-view+json": {
       "model_id": "550c5e0bf932402ab4698f5d2ece8f7d",
       "version_major": 2,
       "version_minor": 0
      },
      "text/plain": [
       "  0%|          | 0/2 [00:00<?, ?it/s]"
      ]
     },
     "metadata": {},
     "output_type": "display_data"
    },
    {
     "name": "stderr",
     "output_type": "stream",
     "text": [
      "d:\\research_models\\handwritten_ocr\\handwritten_ocr\\.venv\\Lib\\site-packages\\sklearn\\metrics\\_regression.py:492: FutureWarning: 'squared' is deprecated in version 1.4 and will be removed in 1.6. To calculate the root mean squared error, use the function'root_mean_squared_error'.\n",
      "  warnings.warn(\n"
     ]
    },
    {
     "name": "stdout",
     "output_type": "stream",
     "text": [
      "R2 Score: -0.5074\n",
      "Mean Absolute Error (MAE): 0.1254\n",
      "Mean Squarred Error (MAE): 0.0242\n",
      "final value matrics\n",
      "-0.5073630809783936 0.12538618\n",
      "\n",
      "Saving final model...\n",
      "\n",
      "Training complete! Model and results saved in ./final_model/\n"
     ]
    }
   ],
   "source": [
    "  # Evaluate final model\n",
    "final_metrics = final_trainer.evaluate()\n",
    "print(\"\\nFinal model evaluation metrics:\")\n",
    "print(final_metrics)\n",
    "# Evaluate and print metrics for final model\n",
    "final_r2, final_mae = evaluate_final_model(final_trainer, val_dataset)\n",
    "print(\"final value matrics\")\n",
    "print(final_r2, final_mae)\n",
    "    \n",
    "    # Save final model\n",
    "print(\"\\nSaving final model...\")\n",
    "final_trainer.save_model('./final_model')\n",
    "tokenizer.save_pretrained('./final_model')\n",
    "    \n",
    "    # Optional: Save optimization results\n",
    "import json\n",
    "optimization_results = {\n",
    "        'best_params': best_trial.params,\n",
    "        'best_value': best_trial.value,\n",
    "        'final_metrics': final_metrics,\n",
    "    }\n",
    "    \n",
    "with open('./final_model/optimization_results.json', 'w') as f:\n",
    "        json.dump(optimization_results, f, indent=4)\n",
    "    \n",
    "print(\"\\nTraining complete! Model and results saved in ./final_model/\")"
   ]
  }
 ],
 "metadata": {
  "kernelspec": {
   "display_name": ".venv",
   "language": "python",
   "name": "python3"
  },
  "language_info": {
   "codemirror_mode": {
    "name": "ipython",
    "version": 3
   },
   "file_extension": ".py",
   "mimetype": "text/x-python",
   "name": "python",
   "nbconvert_exporter": "python",
   "pygments_lexer": "ipython3",
   "version": "3.12.6"
  }
 },
 "nbformat": 4,
 "nbformat_minor": 2
}
